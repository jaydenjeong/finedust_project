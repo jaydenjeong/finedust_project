{
 "cells": [
  {
   "cell_type": "code",
   "execution_count": null,
   "id": "bd956887",
   "metadata": {},
   "outputs": [],
   "source": [
    "seoul_pm25 = pd.read_csv(\"./git/데이터/0. 프로토타입용 데이터/서울2023년초미세먼지데이터.csv\")"
   ]
  },
  {
   "cell_type": "code",
   "execution_count": null,
   "id": "30befeb4",
   "metadata": {},
   "outputs": [],
   "source": [
    "seoul_pm25.shape"
   ]
  },
  {
   "cell_type": "code",
   "execution_count": null,
   "id": "06da4068",
   "metadata": {},
   "outputs": [],
   "source": [
    "df.shape"
   ]
  },
  {
   "cell_type": "code",
   "execution_count": null,
   "id": "925aea74",
   "metadata": {},
   "outputs": [],
   "source": [
    "# 1월 3일 03시부터 시작하게 맞추기\n",
    "seoul_pm25 = seoul_pm25.iloc[16:,:]"
   ]
  },
  {
   "cell_type": "code",
   "execution_count": null,
   "id": "3f952278",
   "metadata": {},
   "outputs": [],
   "source": [
    "seoul_pm25.head()"
   ]
  },
  {
   "cell_type": "code",
   "execution_count": null,
   "id": "0148dc20",
   "metadata": {},
   "outputs": [],
   "source": [
    "seoul_pm25[\"일시\"] = pd.to_datetime(seoul_pm25[\"일시\"])"
   ]
  },
  {
   "cell_type": "code",
   "execution_count": null,
   "id": "2f544b05",
   "metadata": {},
   "outputs": [],
   "source": [
    "seoul_pm25.head()"
   ]
  },
  {
   "cell_type": "code",
   "execution_count": null,
   "id": "96856e0d",
   "metadata": {},
   "outputs": [],
   "source": [
    "df[\"일시\"] = df[\"일시\"].astype(\"datetime64\")"
   ]
  },
  {
   "cell_type": "code",
   "execution_count": null,
   "id": "5df81278",
   "metadata": {},
   "outputs": [],
   "source": [
    "merged_pm25 = pd.merge(df, seoul_pm25, how = \"inner\", on = \"일시\")"
   ]
  },
  {
   "cell_type": "code",
   "execution_count": null,
   "id": "3c07057d",
   "metadata": {},
   "outputs": [],
   "source": [
    "merged_pm25.isna().sum()"
   ]
  },
  {
   "cell_type": "code",
   "execution_count": null,
   "id": "d44c6861",
   "metadata": {},
   "outputs": [],
   "source": [
    "x = merged_pm25.drop([\"일시\", \"PM-10\", \"pm2.5\"], axis = 1)\n",
    "y = merged_pm25[\"pm2.5\"]"
   ]
  },
  {
   "cell_type": "code",
   "execution_count": null,
   "id": "615f1216",
   "metadata": {},
   "outputs": [],
   "source": [
    "# 시퀀스 데이터 생성 함수\n",
    "def create_sequences(x, y, time_steps=16):\n",
    "    xs, ys = [], []\n",
    "    for i in range(len(x) - time_steps):\n",
    "        xs.append(x.iloc[i:(i + time_steps)].values)\n",
    "        ys.append(y.iloc[i + time_steps])\n",
    "    return np.array(xs), np.array(ys)\n",
    "\n",
    "time_steps = 16\n",
    "x_sequences, y_sequences = create_sequences(x, y, time_steps)\n",
    "\n",
    "x_train, x_test, y_train, y_test = train_test_split(x_sequences, y_sequences, test_size=0.2, random_state=42)"
   ]
  },
  {
   "cell_type": "code",
   "execution_count": null,
   "id": "9bd56f91",
   "metadata": {},
   "outputs": [],
   "source": [
    "# LSTM 모델 정의\n",
    "model = Sequential()\n",
    "model.add(LSTM(units=256, return_sequences=True, input_shape=(time_steps, x_train.shape[2])))\n",
    "model.add(keras.layers.Dropout(0.5))\n",
    "model.add(LSTM(units=128))\n",
    "model.add(keras.layers.Dropout(0.5))\n",
    "model.add(Dense(1))\n",
    "\n",
    "# 모델 컴파일\n",
    "model.compile(optimizer='adam', loss='mean_squared_error')\n",
    "\n",
    "# 모델 요약 출력\n",
    "model.summary()"
   ]
  },
  {
   "cell_type": "code",
   "execution_count": null,
   "id": "fa49cf37",
   "metadata": {},
   "outputs": [],
   "source": [
    "history = model.fit(x_train, y_train, epochs = 200, validation_data= (x_val, y_val))"
   ]
  },
  {
   "cell_type": "code",
   "execution_count": null,
   "id": "12fde2ac",
   "metadata": {},
   "outputs": [],
   "source": []
  },
  {
   "cell_type": "code",
   "execution_count": null,
   "id": "e8af6e71",
   "metadata": {},
   "outputs": [],
   "source": []
  },
  {
   "cell_type": "code",
   "execution_count": null,
   "id": "3849d159",
   "metadata": {},
   "outputs": [],
   "source": []
  },
  {
   "cell_type": "code",
   "execution_count": null,
   "id": "0eec9164",
   "metadata": {},
   "outputs": [],
   "source": []
  },
  {
   "cell_type": "code",
   "execution_count": null,
   "id": "e200f8a7",
   "metadata": {},
   "outputs": [],
   "source": []
  },
  {
   "cell_type": "code",
   "execution_count": null,
   "id": "ac74dd61",
   "metadata": {},
   "outputs": [],
   "source": []
  },
  {
   "cell_type": "code",
   "execution_count": null,
   "id": "23465ada",
   "metadata": {},
   "outputs": [],
   "source": []
  },
  {
   "cell_type": "code",
   "execution_count": null,
   "id": "38d32ea4",
   "metadata": {},
   "outputs": [],
   "source": []
  },
  {
   "cell_type": "code",
   "execution_count": null,
   "id": "1cad7c74",
   "metadata": {},
   "outputs": [],
   "source": []
  }
 ],
 "metadata": {
  "kernelspec": {
   "display_name": "Python 3 (ipykernel)",
   "language": "python",
   "name": "python3"
  },
  "language_info": {
   "codemirror_mode": {
    "name": "ipython",
    "version": 3
   },
   "file_extension": ".py",
   "mimetype": "text/x-python",
   "name": "python",
   "nbconvert_exporter": "python",
   "pygments_lexer": "ipython3",
   "version": "3.10.9"
  }
 },
 "nbformat": 4,
 "nbformat_minor": 5
}
