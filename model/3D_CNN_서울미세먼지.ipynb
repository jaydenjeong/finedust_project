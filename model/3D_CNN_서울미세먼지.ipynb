{
 "cells": [
  {
   "cell_type": "code",
   "execution_count": 328,
   "id": "e687dee0-a1ae-4133-97a3-fcc6b1edf217",
   "metadata": {},
   "outputs": [],
   "source": [
    "import numpy as np\n",
    "import pandas as pd\n",
    "import os\n",
    "import cv2\n",
    "import tensorflow as tf\n",
    "from tensorflow.keras.models import Sequential\n",
    "from tensorflow.keras.layers import ConvLSTM2D, BatchNormalization,Conv3D,Dropout, MaxPooling3D, Flatten, Dense,Concatenate, Reshape, TimeDistributed, Input, concatenate, LSTM,  Conv2D, MaxPooling2D, RepeatVector\n",
    "from keras.callbacks import ModelCheckpoint, EarlyStopping\n",
    "from sklearn.preprocessing import MinMaxScaler, StandardScaler\n",
    "from tensorflow.keras.models import Model\n",
    "from sklearn.model_selection import train_test_split\n",
    "from tensorflow import keras\n",
    "import matplotlib.pyplot as plt"
   ]
  },
  {
   "cell_type": "code",
   "execution_count": 10,
   "id": "6984d566-54e0-42b8-afe5-194710130e9b",
   "metadata": {},
   "outputs": [],
   "source": [
    "# 일별로 묶여있는 서울 미세먼지데이터와 국내 기상데이터 불러오기\n",
    "seoul_pm = pd.read_csv(\"./daily_seoulpm.csv\", index_col = 0) \n",
    "climate_data = pd.read_csv(\"./daily_climate.csv\", index_col = 0)"
   ]
  },
  {
   "cell_type": "code",
   "execution_count": 11,
   "id": "de054ddc-59bf-4a5b-824e-834381a322b4",
   "metadata": {},
   "outputs": [
    {
     "data": {
      "text/html": [
       "<div>\n",
       "<style scoped>\n",
       "    .dataframe tbody tr th:only-of-type {\n",
       "        vertical-align: middle;\n",
       "    }\n",
       "\n",
       "    .dataframe tbody tr th {\n",
       "        vertical-align: top;\n",
       "    }\n",
       "\n",
       "    .dataframe thead th {\n",
       "        text-align: right;\n",
       "    }\n",
       "</style>\n",
       "<table border=\"1\" class=\"dataframe\">\n",
       "  <thead>\n",
       "    <tr style=\"text-align: right;\">\n",
       "      <th></th>\n",
       "      <th>('PM10', '서울 서대문구')</th>\n",
       "    </tr>\n",
       "    <tr>\n",
       "      <th>Unnamed: 0</th>\n",
       "      <th></th>\n",
       "    </tr>\n",
       "  </thead>\n",
       "  <tbody>\n",
       "    <tr>\n",
       "      <th>2021-01-01</th>\n",
       "      <td>20.6125</td>\n",
       "    </tr>\n",
       "    <tr>\n",
       "      <th>2021-01-02</th>\n",
       "      <td>22.7125</td>\n",
       "    </tr>\n",
       "    <tr>\n",
       "      <th>2021-01-03</th>\n",
       "      <td>30.7500</td>\n",
       "    </tr>\n",
       "    <tr>\n",
       "      <th>2021-01-04</th>\n",
       "      <td>27.0750</td>\n",
       "    </tr>\n",
       "    <tr>\n",
       "      <th>2021-01-05</th>\n",
       "      <td>22.1250</td>\n",
       "    </tr>\n",
       "  </tbody>\n",
       "</table>\n",
       "</div>"
      ],
      "text/plain": [
       "            ('PM10', '서울 서대문구')\n",
       "Unnamed: 0                     \n",
       "2021-01-01              20.6125\n",
       "2021-01-02              22.7125\n",
       "2021-01-03              30.7500\n",
       "2021-01-04              27.0750\n",
       "2021-01-05              22.1250"
      ]
     },
     "execution_count": 11,
     "metadata": {},
     "output_type": "execute_result"
    }
   ],
   "source": [
    "seoul_pm.head()"
   ]
  },
  {
   "cell_type": "code",
   "execution_count": 14,
   "id": "b38cf67b-00e7-4cf1-85e2-8d95cfa99914",
   "metadata": {},
   "outputs": [],
   "source": [
    "# 인덱스를 날짜형식으로 변경\n",
    "seoul_pm.index = pd.to_datetime(seoul_pm.index)\n",
    "climate_data.index = pd.to_datetime(climate_data.index)"
   ]
  },
  {
   "cell_type": "code",
   "execution_count": 16,
   "id": "c2eda3c7-232d-4416-96fe-ff8a7042e658",
   "metadata": {},
   "outputs": [
    {
     "data": {
      "text/html": [
       "<div>\n",
       "<style scoped>\n",
       "    .dataframe tbody tr th:only-of-type {\n",
       "        vertical-align: middle;\n",
       "    }\n",
       "\n",
       "    .dataframe tbody tr th {\n",
       "        vertical-align: top;\n",
       "    }\n",
       "\n",
       "    .dataframe thead th {\n",
       "        text-align: right;\n",
       "    }\n",
       "</style>\n",
       "<table border=\"1\" class=\"dataframe\">\n",
       "  <thead>\n",
       "    <tr style=\"text-align: right;\">\n",
       "      <th></th>\n",
       "      <th>('PM10', '서울 서대문구')</th>\n",
       "    </tr>\n",
       "    <tr>\n",
       "      <th>Unnamed: 0</th>\n",
       "      <th></th>\n",
       "    </tr>\n",
       "  </thead>\n",
       "  <tbody>\n",
       "    <tr>\n",
       "      <th>2021-01-01</th>\n",
       "      <td>20.6125</td>\n",
       "    </tr>\n",
       "    <tr>\n",
       "      <th>2021-01-02</th>\n",
       "      <td>22.7125</td>\n",
       "    </tr>\n",
       "    <tr>\n",
       "      <th>2021-01-03</th>\n",
       "      <td>30.7500</td>\n",
       "    </tr>\n",
       "    <tr>\n",
       "      <th>2021-01-04</th>\n",
       "      <td>27.0750</td>\n",
       "    </tr>\n",
       "    <tr>\n",
       "      <th>2021-01-05</th>\n",
       "      <td>22.1250</td>\n",
       "    </tr>\n",
       "  </tbody>\n",
       "</table>\n",
       "</div>"
      ],
      "text/plain": [
       "            ('PM10', '서울 서대문구')\n",
       "Unnamed: 0                     \n",
       "2021-01-01              20.6125\n",
       "2021-01-02              22.7125\n",
       "2021-01-03              30.7500\n",
       "2021-01-04              27.0750\n",
       "2021-01-05              22.1250"
      ]
     },
     "execution_count": 16,
     "metadata": {},
     "output_type": "execute_result"
    }
   ],
   "source": [
    "seoul_pm.head()"
   ]
  },
  {
   "cell_type": "code",
   "execution_count": 17,
   "id": "d93a8806-11e0-4797-8707-61c9c18e6496",
   "metadata": {},
   "outputs": [
    {
     "data": {
      "text/html": [
       "<div>\n",
       "<style scoped>\n",
       "    .dataframe tbody tr th:only-of-type {\n",
       "        vertical-align: middle;\n",
       "    }\n",
       "\n",
       "    .dataframe tbody tr th {\n",
       "        vertical-align: top;\n",
       "    }\n",
       "\n",
       "    .dataframe thead th {\n",
       "        text-align: right;\n",
       "    }\n",
       "</style>\n",
       "<table border=\"1\" class=\"dataframe\">\n",
       "  <thead>\n",
       "    <tr style=\"text-align: right;\">\n",
       "      <th></th>\n",
       "      <th>('강수량', '90')</th>\n",
       "      <th>('강수량', '101')</th>\n",
       "      <th>('강수량', '102')</th>\n",
       "      <th>('강수량', '105')</th>\n",
       "      <th>('강수량', '108')</th>\n",
       "      <th>('강수량', '119')</th>\n",
       "      <th>('강수량', '127')</th>\n",
       "      <th>('강수량', '133')</th>\n",
       "      <th>('강수량', '140')</th>\n",
       "      <th>('강수량', '152')</th>\n",
       "      <th>...</th>\n",
       "      <th>month_11</th>\n",
       "      <th>month_12</th>\n",
       "      <th>hour_0</th>\n",
       "      <th>hour_3</th>\n",
       "      <th>hour_6</th>\n",
       "      <th>hour_9</th>\n",
       "      <th>hour_12</th>\n",
       "      <th>hour_15</th>\n",
       "      <th>hour_18</th>\n",
       "      <th>hour_21</th>\n",
       "    </tr>\n",
       "  </thead>\n",
       "  <tbody>\n",
       "    <tr>\n",
       "      <th>2021-01-01</th>\n",
       "      <td>0.0</td>\n",
       "      <td>0.000</td>\n",
       "      <td>0.0250</td>\n",
       "      <td>0.0</td>\n",
       "      <td>0.0</td>\n",
       "      <td>0.0</td>\n",
       "      <td>0.0000</td>\n",
       "      <td>0.075</td>\n",
       "      <td>0.025</td>\n",
       "      <td>0.0</td>\n",
       "      <td>...</td>\n",
       "      <td>0.0</td>\n",
       "      <td>0.0</td>\n",
       "      <td>0.125</td>\n",
       "      <td>0.125</td>\n",
       "      <td>0.125</td>\n",
       "      <td>0.125</td>\n",
       "      <td>0.125</td>\n",
       "      <td>0.125</td>\n",
       "      <td>0.125</td>\n",
       "      <td>0.125</td>\n",
       "    </tr>\n",
       "    <tr>\n",
       "      <th>2021-01-02</th>\n",
       "      <td>0.0</td>\n",
       "      <td>0.000</td>\n",
       "      <td>0.0000</td>\n",
       "      <td>0.0</td>\n",
       "      <td>0.0</td>\n",
       "      <td>0.0</td>\n",
       "      <td>0.0000</td>\n",
       "      <td>0.000</td>\n",
       "      <td>0.000</td>\n",
       "      <td>0.0</td>\n",
       "      <td>...</td>\n",
       "      <td>0.0</td>\n",
       "      <td>0.0</td>\n",
       "      <td>0.125</td>\n",
       "      <td>0.125</td>\n",
       "      <td>0.125</td>\n",
       "      <td>0.125</td>\n",
       "      <td>0.125</td>\n",
       "      <td>0.125</td>\n",
       "      <td>0.125</td>\n",
       "      <td>0.125</td>\n",
       "    </tr>\n",
       "    <tr>\n",
       "      <th>2021-01-03</th>\n",
       "      <td>0.0</td>\n",
       "      <td>0.000</td>\n",
       "      <td>0.0000</td>\n",
       "      <td>0.0</td>\n",
       "      <td>0.0</td>\n",
       "      <td>0.0</td>\n",
       "      <td>0.0000</td>\n",
       "      <td>0.000</td>\n",
       "      <td>0.000</td>\n",
       "      <td>0.0</td>\n",
       "      <td>...</td>\n",
       "      <td>0.0</td>\n",
       "      <td>0.0</td>\n",
       "      <td>0.125</td>\n",
       "      <td>0.125</td>\n",
       "      <td>0.125</td>\n",
       "      <td>0.125</td>\n",
       "      <td>0.125</td>\n",
       "      <td>0.125</td>\n",
       "      <td>0.125</td>\n",
       "      <td>0.125</td>\n",
       "    </tr>\n",
       "    <tr>\n",
       "      <th>2021-01-04</th>\n",
       "      <td>0.0</td>\n",
       "      <td>0.000</td>\n",
       "      <td>0.1250</td>\n",
       "      <td>0.0</td>\n",
       "      <td>0.0</td>\n",
       "      <td>0.0</td>\n",
       "      <td>0.0000</td>\n",
       "      <td>0.000</td>\n",
       "      <td>0.000</td>\n",
       "      <td>0.0</td>\n",
       "      <td>...</td>\n",
       "      <td>0.0</td>\n",
       "      <td>0.0</td>\n",
       "      <td>0.125</td>\n",
       "      <td>0.125</td>\n",
       "      <td>0.125</td>\n",
       "      <td>0.125</td>\n",
       "      <td>0.125</td>\n",
       "      <td>0.125</td>\n",
       "      <td>0.125</td>\n",
       "      <td>0.125</td>\n",
       "    </tr>\n",
       "    <tr>\n",
       "      <th>2021-01-05</th>\n",
       "      <td>0.0</td>\n",
       "      <td>0.025</td>\n",
       "      <td>0.2125</td>\n",
       "      <td>0.0</td>\n",
       "      <td>0.0</td>\n",
       "      <td>0.0</td>\n",
       "      <td>0.0125</td>\n",
       "      <td>0.000</td>\n",
       "      <td>0.000</td>\n",
       "      <td>0.0</td>\n",
       "      <td>...</td>\n",
       "      <td>0.0</td>\n",
       "      <td>0.0</td>\n",
       "      <td>0.125</td>\n",
       "      <td>0.125</td>\n",
       "      <td>0.125</td>\n",
       "      <td>0.125</td>\n",
       "      <td>0.125</td>\n",
       "      <td>0.125</td>\n",
       "      <td>0.125</td>\n",
       "      <td>0.125</td>\n",
       "    </tr>\n",
       "  </tbody>\n",
       "</table>\n",
       "<p>5 rows × 2220 columns</p>\n",
       "</div>"
      ],
      "text/plain": [
       "            ('강수량', '90')  ('강수량', '101')  ('강수량', '102')  ('강수량', '105')  \\\n",
       "2021-01-01            0.0           0.000          0.0250             0.0   \n",
       "2021-01-02            0.0           0.000          0.0000             0.0   \n",
       "2021-01-03            0.0           0.000          0.0000             0.0   \n",
       "2021-01-04            0.0           0.000          0.1250             0.0   \n",
       "2021-01-05            0.0           0.025          0.2125             0.0   \n",
       "\n",
       "            ('강수량', '108')  ('강수량', '119')  ('강수량', '127')  ('강수량', '133')  \\\n",
       "2021-01-01             0.0             0.0          0.0000           0.075   \n",
       "2021-01-02             0.0             0.0          0.0000           0.000   \n",
       "2021-01-03             0.0             0.0          0.0000           0.000   \n",
       "2021-01-04             0.0             0.0          0.0000           0.000   \n",
       "2021-01-05             0.0             0.0          0.0125           0.000   \n",
       "\n",
       "            ('강수량', '140')  ('강수량', '152')  ...  month_11  month_12  hour_0  \\\n",
       "2021-01-01           0.025             0.0  ...       0.0       0.0   0.125   \n",
       "2021-01-02           0.000             0.0  ...       0.0       0.0   0.125   \n",
       "2021-01-03           0.000             0.0  ...       0.0       0.0   0.125   \n",
       "2021-01-04           0.000             0.0  ...       0.0       0.0   0.125   \n",
       "2021-01-05           0.000             0.0  ...       0.0       0.0   0.125   \n",
       "\n",
       "            hour_3  hour_6  hour_9  hour_12  hour_15  hour_18  hour_21  \n",
       "2021-01-01   0.125   0.125   0.125    0.125    0.125    0.125    0.125  \n",
       "2021-01-02   0.125   0.125   0.125    0.125    0.125    0.125    0.125  \n",
       "2021-01-03   0.125   0.125   0.125    0.125    0.125    0.125    0.125  \n",
       "2021-01-04   0.125   0.125   0.125    0.125    0.125    0.125    0.125  \n",
       "2021-01-05   0.125   0.125   0.125    0.125    0.125    0.125    0.125  \n",
       "\n",
       "[5 rows x 2220 columns]"
      ]
     },
     "execution_count": 17,
     "metadata": {},
     "output_type": "execute_result"
    }
   ],
   "source": [
    "climate_data.head()"
   ]
  },
  {
   "cell_type": "code",
   "execution_count": 35,
   "id": "8887af65-1a02-4622-ba80-df283bc9c622",
   "metadata": {},
   "outputs": [],
   "source": [
    "# 에어로졸 이미지가 저장되어있는 데이터프레임 불러오기\n",
    "img_df = pd.read_csv(r\"C:\\Windows\\System32\\01.Final_project\\jayden\\final_aerosol_df.csv\", index_col = 0)"
   ]
  },
  {
   "cell_type": "code",
   "execution_count": 37,
   "id": "b0e67731-aa6b-4ac5-916d-acb168e0c451",
   "metadata": {},
   "outputs": [],
   "source": [
    "# 인덱스 날짜 형식으로 변환\n",
    "img_df.index = pd.to_datetime(img_df.index)"
   ]
  },
  {
   "cell_type": "code",
   "execution_count": 38,
   "id": "ca06e25c-eed3-4ecb-b6e9-17722e93606a",
   "metadata": {},
   "outputs": [
    {
     "data": {
      "text/html": [
       "<div>\n",
       "<style scoped>\n",
       "    .dataframe tbody tr th:only-of-type {\n",
       "        vertical-align: middle;\n",
       "    }\n",
       "\n",
       "    .dataframe tbody tr th {\n",
       "        vertical-align: top;\n",
       "    }\n",
       "\n",
       "    .dataframe thead th {\n",
       "        text-align: right;\n",
       "    }\n",
       "</style>\n",
       "<table border=\"1\" class=\"dataframe\">\n",
       "  <thead>\n",
       "    <tr style=\"text-align: right;\">\n",
       "      <th></th>\n",
       "      <th>File</th>\n",
       "    </tr>\n",
       "    <tr>\n",
       "      <th>DateTime</th>\n",
       "      <th></th>\n",
       "    </tr>\n",
       "  </thead>\n",
       "  <tbody>\n",
       "    <tr>\n",
       "      <th>2021-01-01 00:45:00</th>\n",
       "      <td>C:/Users/user/Desktop/koreaIT/aerosol_image/ne...</td>\n",
       "    </tr>\n",
       "    <tr>\n",
       "      <th>2021-01-01 01:45:00</th>\n",
       "      <td>C:/Users/user/Desktop/koreaIT/aerosol_image/ne...</td>\n",
       "    </tr>\n",
       "    <tr>\n",
       "      <th>2021-01-01 02:45:00</th>\n",
       "      <td>C:/Users/user/Desktop/koreaIT/aerosol_image/ne...</td>\n",
       "    </tr>\n",
       "    <tr>\n",
       "      <th>2021-01-02 00:45:00</th>\n",
       "      <td>C:/Users/user/Desktop/koreaIT/aerosol_image/ne...</td>\n",
       "    </tr>\n",
       "    <tr>\n",
       "      <th>2021-01-02 01:45:00</th>\n",
       "      <td>C:/Users/user/Desktop/koreaIT/aerosol_image/ne...</td>\n",
       "    </tr>\n",
       "  </tbody>\n",
       "</table>\n",
       "</div>"
      ],
      "text/plain": [
       "                                                                  File\n",
       "DateTime                                                              \n",
       "2021-01-01 00:45:00  C:/Users/user/Desktop/koreaIT/aerosol_image/ne...\n",
       "2021-01-01 01:45:00  C:/Users/user/Desktop/koreaIT/aerosol_image/ne...\n",
       "2021-01-01 02:45:00  C:/Users/user/Desktop/koreaIT/aerosol_image/ne...\n",
       "2021-01-02 00:45:00  C:/Users/user/Desktop/koreaIT/aerosol_image/ne...\n",
       "2021-01-02 01:45:00  C:/Users/user/Desktop/koreaIT/aerosol_image/ne..."
      ]
     },
     "execution_count": 38,
     "metadata": {},
     "output_type": "execute_result"
    }
   ],
   "source": [
    "img_df.head()"
   ]
  },
  {
   "cell_type": "code",
   "execution_count": 40,
   "id": "9c527181-d13b-422f-8f4f-99f4ce739b53",
   "metadata": {},
   "outputs": [],
   "source": [
    "# 기상데이터와 동일하게 2024-05-19 까지만 추출\n",
    "img_df = img_df.loc[:\"2024-05-19 02:45:00\",:]"
   ]
  },
  {
   "cell_type": "code",
   "execution_count": 41,
   "id": "4adc1faa-b3ba-409c-b95f-51c70e97c6f9",
   "metadata": {},
   "outputs": [],
   "source": [
    "# 서울미세먼지 결측치인 날짜들. 이미지에서도 삭제해야함\n",
    "indices_to_remove = [\"2021-01-22 00:45:00\",\n",
    "                     \"2021-01-22 01:45:00\",\n",
    "                     \"2021-01-22 02:45:00\",\n",
    "                     \"2023-02-03 00:45:00\",\n",
    "                     \"2023-02-03 01:45:00\",\n",
    "                     \"2023-02-03 02:45:00\",\n",
    "                     \"2023-02-04 00:45:00\",\n",
    "                     \"2023-02-04 01:45:00\",\n",
    "                     \"2023-02-04 02:45:00\",\n",
    "                     \"2023-02-05 00:45:00\",\n",
    "                     \"2023-02-05 01:45:00\",\n",
    "                     \"2023-02-05 02:45:00\"]"
   ]
  },
  {
   "cell_type": "code",
   "execution_count": 42,
   "id": "0836a648-ea76-4280-9034-e58971be5f04",
   "metadata": {},
   "outputs": [],
   "source": [
    "# 위 날짜들을 삭제한 img_df를 img_df2에 저장\n",
    "img_df2 = img_df.drop(indices_to_remove)"
   ]
  },
  {
   "cell_type": "code",
   "execution_count": 44,
   "id": "3fad678b-c0d4-4686-9066-d9c4263572ed",
   "metadata": {},
   "outputs": [
    {
     "data": {
      "text/plain": [
       "(3687, 1)"
      ]
     },
     "execution_count": 44,
     "metadata": {},
     "output_type": "execute_result"
    }
   ],
   "source": [
    "# 데이터 shape 확인\n",
    "img_df2.shape"
   ]
  },
  {
   "cell_type": "code",
   "execution_count": 43,
   "id": "46833371-0475-4946-a232-b5398f28c987",
   "metadata": {},
   "outputs": [
    {
     "name": "stdout",
     "output_type": "stream",
     "text": [
      "72\n",
      "836\n",
      "1224\n"
     ]
    }
   ],
   "source": [
    "# 3장의 이미지가 보간기법으로 생성되어서 이미 전처리가되어 있음. 해당 이미지들은 아래 전처리 함수에서 제외해야하기때문에 확인.\n",
    "# 보간적용한 사진 몇 번째 인덱스인지 확인하기\n",
    "print(img_df2.index.get_loc(\"2021-01-26 00:45:00\"))\n",
    "# 보간적용한 사진 몇 번째 인덱스인지 확인하기\n",
    "print(img_df2.index.get_loc(\"2021-10-08 02:45:00\"))\n",
    "# 보간적용한 사진 몇 번째 인덱스인지 확인하기\n",
    "print(img_df2.index.get_loc(\"2022-02-15 00:45:00\"))"
   ]
  },
  {
   "cell_type": "code",
   "execution_count": 47,
   "id": "b06bd603-bd47-44e5-bde3-7ec48cbe2647",
   "metadata": {},
   "outputs": [],
   "source": [
    "# date 인덱스 추출해두기\n",
    "idx = seoul_pm.index"
   ]
  },
  {
   "cell_type": "code",
   "execution_count": 48,
   "id": "761a0eb4-b014-47fd-bbea-dc74230205e3",
   "metadata": {},
   "outputs": [],
   "source": [
    "# 에어로졸 이미지 불러오기 및 전처리 함수\n",
    "def preprocess_image(img_df2, no_crop_dates_indice, base_path): # 이미지데이터프레임, 전처리안할 이미지 인덱스번호, 이미지 경로 설정\n",
    "    img_vectors = {\n",
    "        '0045': [], # 00시 45분 이미지 벡터를 담을 리스트\n",
    "        '0145': [], # 01시 45분 이미지 벡터를 담을 리스트\n",
    "        '0245': [] # 02시 45분 이미지 벡터를 담을 리스트\n",
    "    }\n",
    "\n",
    "    for i in range(len(img_df2)):\n",
    "        date = img_df2.index[i]\n",
    "        img_filename = img_df2.iloc[i, 0][56:]  # 사용한 컴퓨터가 여러대여서 경로가 다 다르기때문에, 이미지파일명만 추출.\n",
    "        img_path = os.path.join(base_path, img_filename) # 함수 호출 할때, 본인 컴퓨터내 에어로졸 이미지 경로는 base_path 자리에 설정.\n",
    "        img = cv2.imread(img_path) # open cv 사용\n",
    "\n",
    "        if img is not None:  # 이미지 로드가 성공했는지 확인\n",
    "            if i not in no_crop_dates_indice:  # 인덱스가 no_crop_dates_indice에 있는지 확인\n",
    "                img = img[150:1100, :]  # 위 아래 필요없는 정보 자르기\n",
    "                img = img[:, 200:-200]  # 왼쪽 오른쪽 필요없는 정보 자르기\n",
    "                img = img[400:1000, :]  # 추가 잘라내기 (필요시)\n",
    "\n",
    "                # 이미지가 비어 있지 않은지 확인\n",
    "                if img.size == 0: \n",
    "                    print(f\"현재 {img_path} 이미지는 비어있습니다\") # 만약 위의 크롭을 거치고 사이즈가 0이된 이미지가있는지 확인\n",
    "                    continue # 0이 된게 있다면 스킵하기\n",
    "\n",
    "            img = cv2.resize(img, (128, 128))  # 이미지 크기를 일관되게 조정\n",
    "            img = cv2.cvtColor(img, cv2.COLOR_BGR2RGB)  # BGR을 RGB로 변환\n",
    "            img = img / 255.0  # 정규화 (0~1 범위로 변경하기)\n",
    "\n",
    "            time_key = date.strftime('%H%M') # date (인덱스) 에서 시간과 분만 추출\n",
    "            if time_key in img_vectors:\n",
    "                img_vectors[time_key].append(img) # 각 이미지가 00:45인지 01:45인지 02:45인지 확인 후, 알맞는 리스트로 append\n",
    "\n",
    "    return img_vectors\n",
    "\n",
    "\n",
    "# 크기 조정 제외할 이미지들의 인덱스 (날짜) 이미 보간법 적용된 사진들.\n",
    "no_crop_dates_indice = [72, 836, 1224] # 72번, 836번, 1224번 사진은 crop 전처리 거치지않기.\n",
    "\n",
    "# 이미지 파일 경로\n",
    "base_path = \"C:/Users/user/Desktop/koreaIT/aerosol_image/new_images2/\"  # 현재 컴퓨터내 이미지폴더 디렉토리\n",
    "\n",
    "# 이미지 벡터화\n",
    "img_vectors = preprocess_image(img_df2, no_crop_dates_indice, base_path) # 함수 호출\n",
    "\n",
    "# 데이터프레임 생성\n",
    "result_df = pd.DataFrame({\n",
    "    \"index\" : idx, # 추출해둔 인덱스로 date 생성\n",
    "    '0045': img_vectors['0045'],\n",
    "    '0145': img_vectors['0145'],\n",
    "    '0245': img_vectors['0245']\n",
    "})"
   ]
  },
  {
   "cell_type": "code",
   "execution_count": 49,
   "id": "20597607-d09b-4b1a-a70e-4ee6f3f5fe1c",
   "metadata": {},
   "outputs": [
    {
     "data": {
      "text/plain": [
       "(1229, 4)"
      ]
     },
     "execution_count": 49,
     "metadata": {},
     "output_type": "execute_result"
    }
   ],
   "source": [
    "result_df.shape"
   ]
  },
  {
   "cell_type": "code",
   "execution_count": 50,
   "id": "f2d0cf1a-5619-46af-8b54-36f3ed4f16ce",
   "metadata": {},
   "outputs": [
    {
     "data": {
      "text/html": [
       "<div>\n",
       "<style scoped>\n",
       "    .dataframe tbody tr th:only-of-type {\n",
       "        vertical-align: middle;\n",
       "    }\n",
       "\n",
       "    .dataframe tbody tr th {\n",
       "        vertical-align: top;\n",
       "    }\n",
       "\n",
       "    .dataframe thead th {\n",
       "        text-align: right;\n",
       "    }\n",
       "</style>\n",
       "<table border=\"1\" class=\"dataframe\">\n",
       "  <thead>\n",
       "    <tr style=\"text-align: right;\">\n",
       "      <th></th>\n",
       "      <th>index</th>\n",
       "      <th>0045</th>\n",
       "      <th>0145</th>\n",
       "      <th>0245</th>\n",
       "    </tr>\n",
       "  </thead>\n",
       "  <tbody>\n",
       "    <tr>\n",
       "      <th>0</th>\n",
       "      <td>2021-01-01</td>\n",
       "      <td>[[[1.0, 1.0, 1.0], [1.0, 1.0, 1.0], [1.0, 1.0,...</td>\n",
       "      <td>[[[1.0, 1.0, 1.0], [1.0, 1.0, 1.0], [1.0, 1.0,...</td>\n",
       "      <td>[[[1.0, 1.0, 1.0], [1.0, 1.0, 1.0], [1.0, 1.0,...</td>\n",
       "    </tr>\n",
       "    <tr>\n",
       "      <th>1</th>\n",
       "      <td>2021-01-02</td>\n",
       "      <td>[[[1.0, 1.0, 1.0], [1.0, 1.0, 1.0], [1.0, 1.0,...</td>\n",
       "      <td>[[[1.0, 1.0, 1.0], [1.0, 1.0, 1.0], [1.0, 1.0,...</td>\n",
       "      <td>[[[1.0, 1.0, 1.0], [1.0, 1.0, 1.0], [1.0, 1.0,...</td>\n",
       "    </tr>\n",
       "    <tr>\n",
       "      <th>2</th>\n",
       "      <td>2021-01-03</td>\n",
       "      <td>[[[1.0, 1.0, 1.0], [1.0, 1.0, 1.0], [1.0, 1.0,...</td>\n",
       "      <td>[[[1.0, 1.0, 1.0], [1.0, 1.0, 1.0], [1.0, 1.0,...</td>\n",
       "      <td>[[[1.0, 1.0, 1.0], [1.0, 1.0, 1.0], [1.0, 1.0,...</td>\n",
       "    </tr>\n",
       "    <tr>\n",
       "      <th>3</th>\n",
       "      <td>2021-01-04</td>\n",
       "      <td>[[[1.0, 1.0, 1.0], [1.0, 1.0, 1.0], [1.0, 1.0,...</td>\n",
       "      <td>[[[1.0, 1.0, 1.0], [1.0, 1.0, 1.0], [1.0, 1.0,...</td>\n",
       "      <td>[[[1.0, 1.0, 1.0], [1.0, 1.0, 1.0], [1.0, 1.0,...</td>\n",
       "    </tr>\n",
       "    <tr>\n",
       "      <th>4</th>\n",
       "      <td>2021-01-05</td>\n",
       "      <td>[[[1.0, 1.0, 1.0], [1.0, 1.0, 1.0], [1.0, 1.0,...</td>\n",
       "      <td>[[[1.0, 1.0, 1.0], [1.0, 1.0, 1.0], [1.0, 1.0,...</td>\n",
       "      <td>[[[1.0, 1.0, 1.0], [1.0, 1.0, 1.0], [1.0, 1.0,...</td>\n",
       "    </tr>\n",
       "  </tbody>\n",
       "</table>\n",
       "</div>"
      ],
      "text/plain": [
       "       index                                               0045  \\\n",
       "0 2021-01-01  [[[1.0, 1.0, 1.0], [1.0, 1.0, 1.0], [1.0, 1.0,...   \n",
       "1 2021-01-02  [[[1.0, 1.0, 1.0], [1.0, 1.0, 1.0], [1.0, 1.0,...   \n",
       "2 2021-01-03  [[[1.0, 1.0, 1.0], [1.0, 1.0, 1.0], [1.0, 1.0,...   \n",
       "3 2021-01-04  [[[1.0, 1.0, 1.0], [1.0, 1.0, 1.0], [1.0, 1.0,...   \n",
       "4 2021-01-05  [[[1.0, 1.0, 1.0], [1.0, 1.0, 1.0], [1.0, 1.0,...   \n",
       "\n",
       "                                                0145  \\\n",
       "0  [[[1.0, 1.0, 1.0], [1.0, 1.0, 1.0], [1.0, 1.0,...   \n",
       "1  [[[1.0, 1.0, 1.0], [1.0, 1.0, 1.0], [1.0, 1.0,...   \n",
       "2  [[[1.0, 1.0, 1.0], [1.0, 1.0, 1.0], [1.0, 1.0,...   \n",
       "3  [[[1.0, 1.0, 1.0], [1.0, 1.0, 1.0], [1.0, 1.0,...   \n",
       "4  [[[1.0, 1.0, 1.0], [1.0, 1.0, 1.0], [1.0, 1.0,...   \n",
       "\n",
       "                                                0245  \n",
       "0  [[[1.0, 1.0, 1.0], [1.0, 1.0, 1.0], [1.0, 1.0,...  \n",
       "1  [[[1.0, 1.0, 1.0], [1.0, 1.0, 1.0], [1.0, 1.0,...  \n",
       "2  [[[1.0, 1.0, 1.0], [1.0, 1.0, 1.0], [1.0, 1.0,...  \n",
       "3  [[[1.0, 1.0, 1.0], [1.0, 1.0, 1.0], [1.0, 1.0,...  \n",
       "4  [[[1.0, 1.0, 1.0], [1.0, 1.0, 1.0], [1.0, 1.0,...  "
      ]
     },
     "execution_count": 50,
     "metadata": {},
     "output_type": "execute_result"
    }
   ],
   "source": [
    "# 잘 만들어짐\n",
    "result_df.head()"
   ]
  },
  {
   "cell_type": "code",
   "execution_count": 51,
   "id": "43cd9f97-437a-4a44-a502-2294fcb4e9bb",
   "metadata": {},
   "outputs": [],
   "source": [
    "# 인덱스를 datetime 형식으로 변환\n",
    "result_df = result_df.set_index(\"index\")\n",
    "result_df.index = pd.to_datetime(result_df.index)"
   ]
  },
  {
   "cell_type": "code",
   "execution_count": 117,
   "id": "cf2efdf7-4e1b-4da5-abc6-7a2e01d6cff6",
   "metadata": {},
   "outputs": [
    {
     "data": {
      "text/html": [
       "<div>\n",
       "<style scoped>\n",
       "    .dataframe tbody tr th:only-of-type {\n",
       "        vertical-align: middle;\n",
       "    }\n",
       "\n",
       "    .dataframe tbody tr th {\n",
       "        vertical-align: top;\n",
       "    }\n",
       "\n",
       "    .dataframe thead th {\n",
       "        text-align: right;\n",
       "    }\n",
       "</style>\n",
       "<table border=\"1\" class=\"dataframe\">\n",
       "  <thead>\n",
       "    <tr style=\"text-align: right;\">\n",
       "      <th></th>\n",
       "      <th>0045</th>\n",
       "      <th>0145</th>\n",
       "      <th>0245</th>\n",
       "    </tr>\n",
       "    <tr>\n",
       "      <th>index</th>\n",
       "      <th></th>\n",
       "      <th></th>\n",
       "      <th></th>\n",
       "    </tr>\n",
       "  </thead>\n",
       "  <tbody>\n",
       "    <tr>\n",
       "      <th>2021-01-01</th>\n",
       "      <td>[[[1.0, 1.0, 1.0], [1.0, 1.0, 1.0], [1.0, 1.0,...</td>\n",
       "      <td>[[[1.0, 1.0, 1.0], [1.0, 1.0, 1.0], [1.0, 1.0,...</td>\n",
       "      <td>[[[1.0, 1.0, 1.0], [1.0, 1.0, 1.0], [1.0, 1.0,...</td>\n",
       "    </tr>\n",
       "    <tr>\n",
       "      <th>2021-01-02</th>\n",
       "      <td>[[[1.0, 1.0, 1.0], [1.0, 1.0, 1.0], [1.0, 1.0,...</td>\n",
       "      <td>[[[1.0, 1.0, 1.0], [1.0, 1.0, 1.0], [1.0, 1.0,...</td>\n",
       "      <td>[[[1.0, 1.0, 1.0], [1.0, 1.0, 1.0], [1.0, 1.0,...</td>\n",
       "    </tr>\n",
       "    <tr>\n",
       "      <th>2021-01-03</th>\n",
       "      <td>[[[1.0, 1.0, 1.0], [1.0, 1.0, 1.0], [1.0, 1.0,...</td>\n",
       "      <td>[[[1.0, 1.0, 1.0], [1.0, 1.0, 1.0], [1.0, 1.0,...</td>\n",
       "      <td>[[[1.0, 1.0, 1.0], [1.0, 1.0, 1.0], [1.0, 1.0,...</td>\n",
       "    </tr>\n",
       "    <tr>\n",
       "      <th>2021-01-04</th>\n",
       "      <td>[[[1.0, 1.0, 1.0], [1.0, 1.0, 1.0], [1.0, 1.0,...</td>\n",
       "      <td>[[[1.0, 1.0, 1.0], [1.0, 1.0, 1.0], [1.0, 1.0,...</td>\n",
       "      <td>[[[1.0, 1.0, 1.0], [1.0, 1.0, 1.0], [1.0, 1.0,...</td>\n",
       "    </tr>\n",
       "    <tr>\n",
       "      <th>2021-01-05</th>\n",
       "      <td>[[[1.0, 1.0, 1.0], [1.0, 1.0, 1.0], [1.0, 1.0,...</td>\n",
       "      <td>[[[1.0, 1.0, 1.0], [1.0, 1.0, 1.0], [1.0, 1.0,...</td>\n",
       "      <td>[[[1.0, 1.0, 1.0], [1.0, 1.0, 1.0], [1.0, 1.0,...</td>\n",
       "    </tr>\n",
       "  </tbody>\n",
       "</table>\n",
       "</div>"
      ],
      "text/plain": [
       "                                                         0045  \\\n",
       "index                                                           \n",
       "2021-01-01  [[[1.0, 1.0, 1.0], [1.0, 1.0, 1.0], [1.0, 1.0,...   \n",
       "2021-01-02  [[[1.0, 1.0, 1.0], [1.0, 1.0, 1.0], [1.0, 1.0,...   \n",
       "2021-01-03  [[[1.0, 1.0, 1.0], [1.0, 1.0, 1.0], [1.0, 1.0,...   \n",
       "2021-01-04  [[[1.0, 1.0, 1.0], [1.0, 1.0, 1.0], [1.0, 1.0,...   \n",
       "2021-01-05  [[[1.0, 1.0, 1.0], [1.0, 1.0, 1.0], [1.0, 1.0,...   \n",
       "\n",
       "                                                         0145  \\\n",
       "index                                                           \n",
       "2021-01-01  [[[1.0, 1.0, 1.0], [1.0, 1.0, 1.0], [1.0, 1.0,...   \n",
       "2021-01-02  [[[1.0, 1.0, 1.0], [1.0, 1.0, 1.0], [1.0, 1.0,...   \n",
       "2021-01-03  [[[1.0, 1.0, 1.0], [1.0, 1.0, 1.0], [1.0, 1.0,...   \n",
       "2021-01-04  [[[1.0, 1.0, 1.0], [1.0, 1.0, 1.0], [1.0, 1.0,...   \n",
       "2021-01-05  [[[1.0, 1.0, 1.0], [1.0, 1.0, 1.0], [1.0, 1.0,...   \n",
       "\n",
       "                                                         0245  \n",
       "index                                                          \n",
       "2021-01-01  [[[1.0, 1.0, 1.0], [1.0, 1.0, 1.0], [1.0, 1.0,...  \n",
       "2021-01-02  [[[1.0, 1.0, 1.0], [1.0, 1.0, 1.0], [1.0, 1.0,...  \n",
       "2021-01-03  [[[1.0, 1.0, 1.0], [1.0, 1.0, 1.0], [1.0, 1.0,...  \n",
       "2021-01-04  [[[1.0, 1.0, 1.0], [1.0, 1.0, 1.0], [1.0, 1.0,...  \n",
       "2021-01-05  [[[1.0, 1.0, 1.0], [1.0, 1.0, 1.0], [1.0, 1.0,...  "
      ]
     },
     "execution_count": 117,
     "metadata": {},
     "output_type": "execute_result"
    }
   ],
   "source": [
    "result_df.head()"
   ]
  },
  {
   "cell_type": "code",
   "execution_count": 118,
   "id": "6d568c5a-b5aa-4c6c-b282-53c6743ecde2",
   "metadata": {},
   "outputs": [
    {
     "data": {
      "text/plain": [
       "(1229, 3)"
      ]
     },
     "execution_count": 118,
     "metadata": {},
     "output_type": "execute_result"
    }
   ],
   "source": [
    "result_df.shape"
   ]
  },
  {
   "cell_type": "markdown",
   "id": "badf44a5-52fd-48a9-bdcc-eec928be8d3e",
   "metadata": {},
   "source": [
    "## 슬라이딩 윈도우 함수 생성 (시퀀스 함수 생성)"
   ]
  },
  {
   "cell_type": "code",
   "execution_count": 280,
   "id": "43c34078-8c17-4713-9690-e532e02cbc56",
   "metadata": {},
   "outputs": [],
   "source": [
    "# 기상, 미세먼지 슬라이딩 윈도우 생성 함수\n",
    "def create_sliding_window(climate_data, pm_data, past_days=6, future_days=3): # 기상데이터, 미세먼지데이터, 예측에 쓸 날짜수, 예측할 날짜수\n",
    "    x_climate, y = [], []\n",
    "    for i in range(len(climate_data) - past_days - future_days + 1): # 마지막 시퀀스까지 사용하기위해 마지막에 +1을 붙임\n",
    "        # 과거 'past_days' 일의 기상 데이터\n",
    "        climate_window = climate_data[i:i+past_days]\n",
    "        # 미래 'future_days' 일의 미세먼지 데이터\n",
    "        pm_window = pm_data[i+past_days:i+past_days+future_days]\n",
    "\n",
    "        # 각 행에 결측치가 없는 경우에만 추가. 없다면 스킵.\n",
    "        if not (pd.DataFrame(climate_window).isna().any().any() or pd.DataFrame(pm_window).isna().any().any()):\n",
    "            x_climate.append(climate_window)\n",
    "            y.append(pm_window)\n",
    "\n",
    "    return np.array(x_climate), np.array(y)"
   ]
  },
  {
   "cell_type": "markdown",
   "id": "0c1c0f4e-83dc-4462-ba9e-0e3ee8deba14",
   "metadata": {},
   "source": [
    "## 이미지 데이터 시퀀스 함수 생성"
   ]
  },
  {
   "cell_type": "code",
   "execution_count": 281,
   "id": "269a2aee-6b87-44a2-9ab6-19de98ac5212",
   "metadata": {},
   "outputs": [],
   "source": [
    "# 이미지 시퀀스 생성 함수. 세 개의 이미지 시퀀스 배열을 생성.\n",
    "def img_sequence_data(df, n_past_days=6, n_future_days=3):\n",
    "    x_aod_0045, x_aod_0145, x_aod_0245 = [], [], []\n",
    "    \n",
    "    for i in range(len(df) - n_past_days - n_future_days + 1):\n",
    "        if df.iloc[i:i + n_past_days + n_future_days].isnull().values.any():\n",
    "            continue  # 결측값이 있는 행은 스킵\n",
    "        x_aod_0045.append(np.stack(df['0045'].iloc[i:i + n_past_days].values)) # 3차원배열로 변경\n",
    "        x_aod_0145.append(np.stack(df['0145'].iloc[i:i + n_past_days].values))\n",
    "        x_aod_0245.append(np.stack(df['0245'].iloc[i:i + n_past_days].values))   \n",
    "    return np.array(x_aod_0045), np.array(x_aod_0145), np.array(x_aod_0245)"
   ]
  },
  {
   "cell_type": "code",
   "execution_count": 282,
   "id": "c708652e-2dad-4ee3-a98d-8ce7308c8e77",
   "metadata": {},
   "outputs": [],
   "source": [
    "# 기상데이터, 미세먼지데이터, 에어로졸 이미지데이터를 한번에 시퀀스 데이터로 변환해주는 함수\n",
    "def create_combined_sliding_window(climate_data, pm_data, aod_df, past_days=3, future_days=3):\n",
    "    x_climate, x_aod_0045, x_aod_0145, x_aod_0245, y = [], [], [], [], []\n",
    "    \n",
    "    for i in range(len(climate_data) - past_days - future_days + 1):\n",
    "        # 과거 'past_days' 일의 기상 데이터\n",
    "        climate_window = climate_data[i:i+past_days]\n",
    "        # 미래 'future_days' 일의 미세먼지 데이터\n",
    "        pm_window = pm_data[i+past_days:i+past_days+future_days]\n",
    "        \n",
    "        # 에어로졸 이미지의 슬라이딩 윈도우\n",
    "        aod_window_0045 = aod_df['0045'].iloc[i:i + past_days]\n",
    "        aod_window_0145 = aod_df['0145'].iloc[i:i + past_days]\n",
    "        aod_window_0245 = aod_df['0245'].iloc[i:i + past_days]\n",
    "\n",
    "        # 결측치가 없는 경우에만 추가\n",
    "        if not (pd.DataFrame(climate_window).isna().any().any() or\n",
    "                pd.DataFrame(pm_window).isna().any().any() or\n",
    "                aod_window_0045.isnull().any() or\n",
    "                aod_window_0145.isnull().any() or\n",
    "                aod_window_0245.isnull().any()):\n",
    "            \n",
    "            x_climate.append(climate_window)\n",
    "            x_aod_0045.append(np.stack(aod_window_0045.values))\n",
    "            x_aod_0145.append(np.stack(aod_window_0145.values))\n",
    "            x_aod_0245.append(np.stack(aod_window_0245.values))\n",
    "            y.append(pm_window)\n",
    "\n",
    "    return (np.array(x_climate),\n",
    "            np.array(x_aod_0045),\n",
    "            np.array(x_aod_0145),\n",
    "            np.array(x_aod_0245),\n",
    "            np.array(y))"
   ]
  },
  {
   "cell_type": "code",
   "execution_count": 283,
   "id": "ae21156c-82d6-4878-a380-f5c30abe71e5",
   "metadata": {},
   "outputs": [],
   "source": [
    "# 데이터 준비\n",
    "x_climate, x_0045, x_0145, x_0245, y_pm = create_combined_sliding_window(climate_data, seoul_pm, result_df, past_days=6, future_days=3)"
   ]
  },
  {
   "cell_type": "code",
   "execution_count": 284,
   "id": "23200599-4754-421f-81cf-a5135f4002ab",
   "metadata": {},
   "outputs": [
    {
     "data": {
      "text/plain": [
       "(1204, 6, 2220)"
      ]
     },
     "execution_count": 284,
     "metadata": {},
     "output_type": "execute_result"
    }
   ],
   "source": [
    "x_climate.shape"
   ]
  },
  {
   "cell_type": "code",
   "execution_count": 285,
   "id": "b3a5020f-7348-4519-af3d-64152bf2f570",
   "metadata": {},
   "outputs": [
    {
     "data": {
      "text/plain": [
       "(1204, 6, 128, 128, 3)"
      ]
     },
     "execution_count": 285,
     "metadata": {},
     "output_type": "execute_result"
    }
   ],
   "source": [
    "x_0045.shape"
   ]
  },
  {
   "cell_type": "code",
   "execution_count": 286,
   "id": "dae2c2a0-4be0-4cdc-8572-3a466aba58ef",
   "metadata": {},
   "outputs": [
    {
     "data": {
      "text/plain": [
       "(1204, 6, 128, 128, 3)"
      ]
     },
     "execution_count": 286,
     "metadata": {},
     "output_type": "execute_result"
    }
   ],
   "source": [
    "x_0145.shape"
   ]
  },
  {
   "cell_type": "code",
   "execution_count": 287,
   "id": "f9fd6926-ce58-4bfc-9af5-f0314f76add0",
   "metadata": {},
   "outputs": [
    {
     "data": {
      "text/plain": [
       "(1204, 6, 128, 128, 3)"
      ]
     },
     "execution_count": 287,
     "metadata": {},
     "output_type": "execute_result"
    }
   ],
   "source": [
    "x_0245.shape"
   ]
  },
  {
   "cell_type": "code",
   "execution_count": 288,
   "id": "c48ff91d-2126-41db-80c9-9fa40bf0276a",
   "metadata": {},
   "outputs": [
    {
     "data": {
      "text/plain": [
       "(1204, 3, 1)"
      ]
     },
     "execution_count": 288,
     "metadata": {},
     "output_type": "execute_result"
    }
   ],
   "source": [
    "y_pm.shape"
   ]
  },
  {
   "cell_type": "code",
   "execution_count": 289,
   "id": "aca379f8-82e2-4b6d-b2b1-10fdd343e385",
   "metadata": {},
   "outputs": [
    {
     "name": "stdout",
     "output_type": "stream",
     "text": [
      "train shapes: (770, 6, 2220), (770, 6, 128, 128, 3),(770, 6, 128, 128, 3),(770, 6, 128, 128, 3), (770, 3, 1)\n",
      "validation shapes: (193, 6, 2220), (193, 6, 128, 128, 3),(193, 6, 128, 128, 3),(193, 6, 128, 128, 3), (193, 3, 1)\n",
      "test shapes: (241, 6, 2220), (241, 6, 128, 128, 3),(241, 6, 128, 128, 3),(241, 6, 128, 128, 3), (241, 3, 1)\n"
     ]
    }
   ],
   "source": [
    "# 데이터 분할 (훈련, 검증, 테스트셋)\n",
    "x_climate_train, x_climate_test,  x_0045_train,  x_0045_test, x_0145_train, x_0145_test, x_0245_train, x_0245_test, y_train, y_test = train_test_split(x_climate, x_0045, x_0145, x_0245, y_pm, test_size=0.2, random_state=42)\n",
    "x_climate_train, x_climate_val, x_0045_train,  x_0045_val, x_0145_train, x_0145_val, x_0245_train, x_0245_val, y_train, y_val = train_test_split(x_climate_train, x_0045_train, x_0145_train, x_0245_train, y_train, test_size=0.2, random_state=42)\n",
    "\n",
    "print(f'train shapes: {x_climate_train.shape}, {x_0045_train.shape},{x_0145_train.shape},{x_0245_train.shape}, {y_train.shape}')\n",
    "print(f'validation shapes: {x_climate_val.shape}, {x_0045_val.shape},{x_0145_val.shape},{x_0245_val.shape}, {y_val.shape}')\n",
    "print(f'test shapes: {x_climate_test.shape}, {x_0045_test.shape},{x_0145_test.shape},{x_0245_test.shape}, {y_test.shape}')"
   ]
  },
  {
   "cell_type": "code",
   "execution_count": 290,
   "id": "0c01bb58-684f-4dd4-b4ca-1d2a77137b04",
   "metadata": {},
   "outputs": [],
   "source": [
    "# 기상 데이터 스케일링\n",
    "ss = StandardScaler()"
   ]
  },
  {
   "cell_type": "code",
   "execution_count": 291,
   "id": "fc446947-1144-4cd0-b1ad-ec94a94019fa",
   "metadata": {},
   "outputs": [],
   "source": [
    "# 3차원을 스케일링할 수 없기 때문에, 2차원으로 변환 후 다시 3차원으로 재변환\n",
    "climate_train_reshaped = x_climate_train.reshape(x_climate_train.shape[0], -1)\n",
    "climate_val_reshaped = x_climate_val.reshape(x_climate_val.shape[0], -1)\n",
    "climate_test_reshaped = x_climate_test.reshape(x_climate_test.shape[0], -1)\n",
    "\n",
    "climate_train_scaled_reshaped = ss.fit_transform(climate_train_reshaped)\n",
    "climate_val_scaled_reshaped = ss.transform(climate_val_reshaped)\n",
    "climate_test_scaled_reshaped = ss.transform(climate_test_reshaped)\n",
    "\n",
    "scaled_climate_train = climate_train_scaled_reshaped.reshape(x_climate_train.shape)\n",
    "scaled_climate_val = climate_val_scaled_reshaped.reshape(x_climate_val.shape)\n",
    "scaled_climate_test = climate_test_scaled_reshaped.reshape(x_climate_test.shape)"
   ]
  },
  {
   "cell_type": "code",
   "execution_count": 296,
   "id": "dbf16104-921b-4b18-a4ef-4d6bd43e0896",
   "metadata": {},
   "outputs": [],
   "source": [
    "# 3D CNN 정의\n",
    "input_aerosol_0045 = Input(shape=(6, 128, 128, 3)) # 과거 6일치 데이터, 이미지의 높이 x 너비 , 미래 3일 예측\n",
    "input_aerosol_0145 = Input(shape=(6, 128, 128, 3))\n",
    "input_aerosol_0245 = Input(shape=(6, 128, 128, 3))\n",
    "\n",
    "def create_cnn(input_layer):\n",
    "    x = Conv3D(32, (3, 3, 3), activation='relu', padding='same')(input_layer)\n",
    "    x = MaxPooling3D((1, 2, 2))(x) # 2, 2, 2 넣었더니 에러떠서 공간적 특징을 줄여서 1, 2 ,2로 설정.\n",
    "    x = Conv3D(64, (3, 3, 3), activation='relu', padding='same')(x)\n",
    "    x = MaxPooling3D((1, 2, 2))(x)\n",
    "    x = Conv3D(128, (3, 3, 3), activation='relu', padding='same')(x)\n",
    "    x = MaxPooling3D((1, 2, 2))(x)\n",
    "    x = Flatten()(x)\n",
    "    return x\n",
    "\n",
    "cnn_0045 = create_cnn(input_aerosol_0045)\n",
    "cnn_0145 = create_cnn(input_aerosol_0145)\n",
    "cnn_0245 = create_cnn(input_aerosol_0245)\n",
    "\n",
    "# 기상 데이터 입력\n",
    "input_weather = Input(shape=(6, scaled_climate_train.shape[2])) # 3, 2200이 들어감\n",
    "weather_lstm = LSTM(128, activation='relu', return_sequences=False)(input_weather)\n",
    "\n",
    "# 결합\n",
    "combined = concatenate([cnn_0045, cnn_0145, cnn_0245, weather_lstm])\n",
    "x = Dense(256, activation='relu')(combined)\n",
    "x = Dense(128, activation='relu')(x)\n",
    "output = Dense(3, activation='linear')(x)  # 미래 3일 예측"
   ]
  },
  {
   "cell_type": "code",
   "execution_count": 297,
   "id": "2d9fd334-eb21-4de8-a4cf-991b970ad521",
   "metadata": {},
   "outputs": [],
   "source": [
    "# 모델 정의\n",
    "model = Model(inputs=[input_aerosol_0045, input_aerosol_0145, input_aerosol_0245, input_weather], outputs=output)\n",
    "model.compile(optimizer='adam', loss='mean_squared_error')\n",
    "checkpoint_cb = tf.keras.callbacks.ModelCheckpoint(\"./best_3D_CNN_model_2.h5\", save_best_only=True)\n",
    "early_stopping_cb = tf.keras.callbacks.EarlyStopping(patience=2, restore_best_weights=True)"
   ]
  },
  {
   "cell_type": "code",
   "execution_count": 298,
   "id": "e9d9b4da-fc78-4d3e-88df-bb298405f3b2",
   "metadata": {},
   "outputs": [
    {
     "name": "stdout",
     "output_type": "stream",
     "text": [
      "Model: \"model_17\"\n",
      "__________________________________________________________________________________________________\n",
      " Layer (type)                Output Shape                 Param #   Connected to                  \n",
      "==================================================================================================\n",
      " input_30 (InputLayer)       [(None, 6, 128, 128, 3)]     0         []                            \n",
      "                                                                                                  \n",
      " input_31 (InputLayer)       [(None, 6, 128, 128, 3)]     0         []                            \n",
      "                                                                                                  \n",
      " input_32 (InputLayer)       [(None, 6, 128, 128, 3)]     0         []                            \n",
      "                                                                                                  \n",
      " conv3d_55 (Conv3D)          (None, 6, 128, 128, 32)      2624      ['input_30[0][0]']            \n",
      "                                                                                                  \n",
      " conv3d_58 (Conv3D)          (None, 6, 128, 128, 32)      2624      ['input_31[0][0]']            \n",
      "                                                                                                  \n",
      " conv3d_61 (Conv3D)          (None, 6, 128, 128, 32)      2624      ['input_32[0][0]']            \n",
      "                                                                                                  \n",
      " max_pooling3d_55 (MaxPooli  (None, 6, 64, 64, 32)        0         ['conv3d_55[0][0]']           \n",
      " ng3D)                                                                                            \n",
      "                                                                                                  \n",
      " max_pooling3d_58 (MaxPooli  (None, 6, 64, 64, 32)        0         ['conv3d_58[0][0]']           \n",
      " ng3D)                                                                                            \n",
      "                                                                                                  \n",
      " max_pooling3d_61 (MaxPooli  (None, 6, 64, 64, 32)        0         ['conv3d_61[0][0]']           \n",
      " ng3D)                                                                                            \n",
      "                                                                                                  \n",
      " conv3d_56 (Conv3D)          (None, 6, 64, 64, 64)        55360     ['max_pooling3d_55[0][0]']    \n",
      "                                                                                                  \n",
      " conv3d_59 (Conv3D)          (None, 6, 64, 64, 64)        55360     ['max_pooling3d_58[0][0]']    \n",
      "                                                                                                  \n",
      " conv3d_62 (Conv3D)          (None, 6, 64, 64, 64)        55360     ['max_pooling3d_61[0][0]']    \n",
      "                                                                                                  \n",
      " max_pooling3d_56 (MaxPooli  (None, 6, 32, 32, 64)        0         ['conv3d_56[0][0]']           \n",
      " ng3D)                                                                                            \n",
      "                                                                                                  \n",
      " max_pooling3d_59 (MaxPooli  (None, 6, 32, 32, 64)        0         ['conv3d_59[0][0]']           \n",
      " ng3D)                                                                                            \n",
      "                                                                                                  \n",
      " max_pooling3d_62 (MaxPooli  (None, 6, 32, 32, 64)        0         ['conv3d_62[0][0]']           \n",
      " ng3D)                                                                                            \n",
      "                                                                                                  \n",
      " conv3d_57 (Conv3D)          (None, 6, 32, 32, 128)       221312    ['max_pooling3d_56[0][0]']    \n",
      "                                                                                                  \n",
      " conv3d_60 (Conv3D)          (None, 6, 32, 32, 128)       221312    ['max_pooling3d_59[0][0]']    \n",
      "                                                                                                  \n",
      " conv3d_63 (Conv3D)          (None, 6, 32, 32, 128)       221312    ['max_pooling3d_62[0][0]']    \n",
      "                                                                                                  \n",
      " max_pooling3d_57 (MaxPooli  (None, 6, 16, 16, 128)       0         ['conv3d_57[0][0]']           \n",
      " ng3D)                                                                                            \n",
      "                                                                                                  \n",
      " max_pooling3d_60 (MaxPooli  (None, 6, 16, 16, 128)       0         ['conv3d_60[0][0]']           \n",
      " ng3D)                                                                                            \n",
      "                                                                                                  \n",
      " max_pooling3d_63 (MaxPooli  (None, 6, 16, 16, 128)       0         ['conv3d_63[0][0]']           \n",
      " ng3D)                                                                                            \n",
      "                                                                                                  \n",
      " input_33 (InputLayer)       [(None, 6, 2220)]            0         []                            \n",
      "                                                                                                  \n",
      " flatten_17 (Flatten)        (None, 196608)               0         ['max_pooling3d_57[0][0]']    \n",
      "                                                                                                  \n",
      " flatten_18 (Flatten)        (None, 196608)               0         ['max_pooling3d_60[0][0]']    \n",
      "                                                                                                  \n",
      " flatten_19 (Flatten)        (None, 196608)               0         ['max_pooling3d_63[0][0]']    \n",
      "                                                                                                  \n",
      " lstm_10 (LSTM)              (None, 128)                  1202688   ['input_33[0][0]']            \n",
      "                                                                                                  \n",
      " concatenate_10 (Concatenat  (None, 589952)               0         ['flatten_17[0][0]',          \n",
      " e)                                                                  'flatten_18[0][0]',          \n",
      "                                                                     'flatten_19[0][0]',          \n",
      "                                                                     'lstm_10[0][0]']             \n",
      "                                                                                                  \n",
      " dense_38 (Dense)            (None, 256)                  1510279   ['concatenate_10[0][0]']      \n",
      "                                                          68                                      \n",
      "                                                                                                  \n",
      " dense_39 (Dense)            (None, 128)                  32896     ['dense_38[0][0]']            \n",
      "                                                                                                  \n",
      " dense_40 (Dense)            (None, 3)                    387       ['dense_39[0][0]']            \n",
      "                                                                                                  \n",
      "==================================================================================================\n",
      "Total params: 153101827 (584.04 MB)\n",
      "Trainable params: 153101827 (584.04 MB)\n",
      "Non-trainable params: 0 (0.00 Byte)\n",
      "__________________________________________________________________________________________________\n"
     ]
    }
   ],
   "source": [
    "# 모델확인\n",
    "model.summary()"
   ]
  },
  {
   "cell_type": "code",
   "execution_count": 299,
   "id": "a33edb82-bfd1-4fc7-97b7-eb1a06d9541f",
   "metadata": {
    "scrolled": true
   },
   "outputs": [
    {
     "name": "stdout",
     "output_type": "stream",
     "text": [
      "Epoch 1/20\n",
      "25/25 [==============================] - ETA: 0s - loss: 1206.8075 "
     ]
    },
    {
     "name": "stderr",
     "output_type": "stream",
     "text": [
      "C:\\Users\\user\\anaconda3\\envs\\koreait\\lib\\site-packages\\keras\\src\\engine\\training.py:3000: UserWarning: You are saving your model as an HDF5 file via `model.save()`. This file format is considered legacy. We recommend using instead the native Keras format, e.g. `model.save('my_model.keras')`.\n",
      "  saving_api.save_model(\n"
     ]
    },
    {
     "name": "stdout",
     "output_type": "stream",
     "text": [
      "25/25 [==============================] - 281s 11s/step - loss: 1206.8075 - val_loss: 1470.0251\n",
      "Epoch 2/20\n",
      "25/25 [==============================] - 262s 10s/step - loss: 494.7684 - val_loss: 1327.0477\n",
      "Epoch 3/20\n",
      "25/25 [==============================] - 250s 10s/step - loss: 367.2954 - val_loss: 1157.3783\n",
      "Epoch 4/20\n",
      "25/25 [==============================] - 255s 10s/step - loss: 292.5784 - val_loss: 1021.7389\n",
      "Epoch 5/20\n",
      "25/25 [==============================] - 255s 10s/step - loss: 226.7444 - val_loss: 917.2713\n",
      "Epoch 6/20\n",
      "25/25 [==============================] - 262s 10s/step - loss: 177.8259 - val_loss: 985.6646\n",
      "Epoch 7/20\n",
      "25/25 [==============================] - 269s 11s/step - loss: 130.9453 - val_loss: 1120.3550\n"
     ]
    }
   ],
   "source": [
    "# 모델 훈련\n",
    "history = model.fit([x_0045_train, x_0145_train, x_0245_train, scaled_climate_train], y_train, epochs=20, batch_size=32,\n",
    "                    validation_data=([x_0045_val, x_0145_val, x_0245_val, scaled_climate_val], y_val), callbacks=[checkpoint_cb, early_stopping_cb])"
   ]
  },
  {
   "cell_type": "code",
   "execution_count": 300,
   "id": "79f14381-f1ec-4b28-abb6-c0dbe0e0ddc4",
   "metadata": {},
   "outputs": [
    {
     "name": "stdout",
     "output_type": "stream",
     "text": [
      "8/8 [==============================] - 8s 927ms/step - loss: 276.2029\n"
     ]
    },
    {
     "data": {
      "text/plain": [
       "276.20294189453125"
      ]
     },
     "execution_count": 300,
     "metadata": {},
     "output_type": "execute_result"
    }
   ],
   "source": [
    "# 테스트셋 MSE 추출\n",
    "test_loss = model.evaluate([x_0045_test, x_0145_test, x_0245_test, scaled_climate_test], y_test)\n",
    "test_loss"
   ]
  },
  {
   "cell_type": "code",
   "execution_count": 301,
   "id": "c586e724-b7c4-4f31-8bdf-25fabd2cfbbe",
   "metadata": {},
   "outputs": [
    {
     "data": {
      "text/plain": [
       "16.61324772583615"
      ]
     },
     "execution_count": 301,
     "metadata": {},
     "output_type": "execute_result"
    }
   ],
   "source": [
    "# RMSE 계산\n",
    "np.sqrt(276)"
   ]
  },
  {
   "cell_type": "code",
   "execution_count": 310,
   "id": "6218ff37-f900-4075-92d8-ed1f3f78faa7",
   "metadata": {},
   "outputs": [
    {
     "name": "stdout",
     "output_type": "stream",
     "text": [
      "8/8 [==============================] - 7s 807ms/step\n",
      "예측값: \n",
      " [[66.281044 51.76091  41.7831  ]\n",
      " [16.920408 19.871403 21.667334]\n",
      " [45.242527 40.65161  34.993305]]\n",
      "실제값: \n",
      " [[[59.5125    ]\n",
      "  [95.        ]\n",
      "  [55.75714286]]\n",
      "\n",
      " [[ 3.7875    ]\n",
      "  [ 9.2125    ]\n",
      "  [11.9875    ]]\n",
      "\n",
      " [[33.7125    ]\n",
      "  [27.55      ]\n",
      "  [36.5375    ]]]\n"
     ]
    }
   ],
   "source": [
    "# 예측\n",
    "y_pred = model.predict([x_0045_test, x_0145_test, x_0245_test, scaled_climate_test])\n",
    "\n",
    "# 예측 결과 확인\n",
    "print(f'예측값: \\n {y_pred[:3]}')\n",
    "print(f'실제값: \\n {y_test[:3]}')"
   ]
  },
  {
   "cell_type": "code",
   "execution_count": 305,
   "id": "790ec425-af56-4d7b-b918-68afd2345667",
   "metadata": {},
   "outputs": [
    {
     "data": {
      "text/plain": [
       "(770, 6, 2220)"
      ]
     },
     "execution_count": 305,
     "metadata": {},
     "output_type": "execute_result"
    }
   ],
   "source": [
    "x_climate_train.shape"
   ]
  },
  {
   "cell_type": "code",
   "execution_count": 308,
   "id": "fb970875-ed8a-45ec-9819-753e1ec68a6f",
   "metadata": {},
   "outputs": [
    {
     "data": {
      "text/plain": [
       "(770, 13320)"
      ]
     },
     "execution_count": 308,
     "metadata": {},
     "output_type": "execute_result"
    }
   ],
   "source": [
    "x_climate_train.reshape(x_climate_train.shape[0], -1).shape"
   ]
  },
  {
   "cell_type": "markdown",
   "id": "301e1406-a3de-4b8a-ba7a-e0271ea47141",
   "metadata": {},
   "source": [
    "## 이미지 제외하고 LSTM만 돌려보고 비교"
   ]
  },
  {
   "cell_type": "code",
   "execution_count": 311,
   "id": "9eb022e6-006b-4efe-a336-119701f631f1",
   "metadata": {},
   "outputs": [],
   "source": [
    "# 이미지를 제외했기때문에, 기상, 미세먼지 슬라이딩 윈도우 생성 함수 사용\n",
    "xx_climate, yy = create_sliding_window(climate_data, seoul_pm)"
   ]
  },
  {
   "cell_type": "code",
   "execution_count": 312,
   "id": "0c0e7170-9660-45f5-9a0d-09ac44e8378f",
   "metadata": {},
   "outputs": [
    {
     "data": {
      "text/plain": [
       "(1204, 6, 2220)"
      ]
     },
     "execution_count": 312,
     "metadata": {},
     "output_type": "execute_result"
    }
   ],
   "source": [
    "xx_climate.shape"
   ]
  },
  {
   "cell_type": "code",
   "execution_count": 313,
   "id": "f6937711-dc0f-4e89-8deb-ab5c01fd132e",
   "metadata": {},
   "outputs": [
    {
     "data": {
      "text/plain": [
       "(1204, 3, 1)"
      ]
     },
     "execution_count": 313,
     "metadata": {},
     "output_type": "execute_result"
    }
   ],
   "source": [
    "yy.shape"
   ]
  },
  {
   "cell_type": "code",
   "execution_count": 314,
   "id": "84f180d5-1240-42ce-a9a0-f346c9e6884c",
   "metadata": {},
   "outputs": [
    {
     "name": "stdout",
     "output_type": "stream",
     "text": [
      "train shapes: (770, 6, 2220), (770, 3, 1)\n",
      "validation shapes: (193, 6, 2220), (193, 3, 1)\n",
      "test shapes: (241, 6, 2220), (241, 3, 1)\n"
     ]
    }
   ],
   "source": [
    "# 데이터 분할 (훈련, 검증, 테스트셋)\n",
    "xx_climate_train, xx_climate_test, yy_train, yy_test = train_test_split(xx_climate, yy, test_size=0.2, random_state=42)\n",
    "xx_climate_train, xx_climate_val, yy_train, yy_val = train_test_split(xx_climate_train, yy_train, test_size=0.2, random_state=42)\n",
    "\n",
    "print(f'train shapes: {xx_climate_train.shape}, {yy_train.shape}')\n",
    "print(f'validation shapes: {xx_climate_val.shape}, {yy_val.shape}')\n",
    "print(f'test shapes: {xx_climate_test.shape}, {yy_test.shape}')"
   ]
  },
  {
   "cell_type": "code",
   "execution_count": 316,
   "id": "ae0d12dd-93da-494b-b959-f9ac66a582cf",
   "metadata": {},
   "outputs": [],
   "source": [
    "ss = StandardScaler()"
   ]
  },
  {
   "cell_type": "code",
   "execution_count": 317,
   "id": "27d44f41-d4af-42c5-9d6d-112fdaf02edb",
   "metadata": {},
   "outputs": [],
   "source": [
    "xx_climate_train_reshaped = xx_climate_train.reshape(xx_climate_train.shape[0], -1)\n",
    "xx_climate_val_reshaped = xx_climate_val.reshape(xx_climate_val.shape[0], -1)\n",
    "xx_climate_test_reshaped = xx_climate_test.reshape(xx_climate_test.shape[0], -1)\n",
    "\n",
    "xx_climate_train_scaled_reshaped = ss.fit_transform(xx_climate_train_reshaped)\n",
    "xx_climate_val_scaled_reshaped = ss.transform(xx_climate_val_reshaped)\n",
    "xx_climate_test_scaled_reshaped = ss.transform(xx_climate_test_reshaped)\n",
    "\n",
    "xx_scaled_climate_train = xx_climate_train_scaled_reshaped.reshape(xx_climate_train.shape)\n",
    "xx_scaled_climate_val = xx_climate_val_scaled_reshaped.reshape(xx_climate_val.shape)\n",
    "xx_scaled_climate_test = xx_climate_test_scaled_reshaped.reshape(xx_climate_test.shape)"
   ]
  },
  {
   "cell_type": "code",
   "execution_count": 329,
   "id": "919f75ff-fee3-4563-b9c6-50e00c13d75f",
   "metadata": {},
   "outputs": [
    {
     "name": "stdout",
     "output_type": "stream",
     "text": [
      "Model: \"model_20\"\n",
      "_________________________________________________________________\n",
      " Layer (type)                Output Shape              Param #   \n",
      "=================================================================\n",
      " input_37 (InputLayer)       [(None, 6, 2220)]         0         \n",
      "                                                                 \n",
      " lstm_14 (LSTM)              (None, 6, 128)            1202688   \n",
      "                                                                 \n",
      " batch_normalization_1 (Bat  (None, 6, 128)            512       \n",
      " chNormalization)                                                \n",
      "                                                                 \n",
      " dropout (Dropout)           (None, 6, 128)            0         \n",
      "                                                                 \n",
      " lstm_15 (LSTM)              (None, 6, 128)            131584    \n",
      "                                                                 \n",
      " batch_normalization_2 (Bat  (None, 6, 128)            512       \n",
      " chNormalization)                                                \n",
      "                                                                 \n",
      " dropout_1 (Dropout)         (None, 6, 128)            0         \n",
      "                                                                 \n",
      " lstm_16 (LSTM)              (None, 128)               131584    \n",
      "                                                                 \n",
      " batch_normalization_3 (Bat  (None, 128)               512       \n",
      " chNormalization)                                                \n",
      "                                                                 \n",
      " dropout_2 (Dropout)         (None, 128)               0         \n",
      "                                                                 \n",
      " dense_47 (Dense)            (None, 256)               33024     \n",
      "                                                                 \n",
      " dropout_3 (Dropout)         (None, 256)               0         \n",
      "                                                                 \n",
      " dense_48 (Dense)            (None, 128)               32896     \n",
      "                                                                 \n",
      " dropout_4 (Dropout)         (None, 128)               0         \n",
      "                                                                 \n",
      " dense_49 (Dense)            (None, 3)                 387       \n",
      "                                                                 \n",
      "=================================================================\n",
      "Total params: 1533699 (5.85 MB)\n",
      "Trainable params: 1532931 (5.85 MB)\n",
      "Non-trainable params: 768 (3.00 KB)\n",
      "_________________________________________________________________\n"
     ]
    }
   ],
   "source": [
    "# 기상 데이터 입력\n",
    "input_weather = Input(shape=(6, 2220))\n",
    "\n",
    "# 첫 번째 LSTM 층\n",
    "x = LSTM(128, activation='relu', return_sequences=True)(input_weather)\n",
    "x = BatchNormalization()(x)\n",
    "x = Dropout(0.2)(x)\n",
    "\n",
    "# 두 번째 LSTM 층\n",
    "x = LSTM(128, activation='relu', return_sequences=True)(x)\n",
    "x = BatchNormalization()(x)\n",
    "x = Dropout(0.2)(x)\n",
    "\n",
    "# 세 번째 LSTM 층\n",
    "x = LSTM(128, activation='relu', return_sequences=False)(x)\n",
    "x = BatchNormalization()(x)\n",
    "x = Dropout(0.2)(x)\n",
    "\n",
    "# Fully Connected (FC) 층\n",
    "x = Dense(256, activation='relu')(x)\n",
    "x = Dropout(0.2)(x)\n",
    "x = Dense(128, activation='relu')(x)\n",
    "x = Dropout(0.2)(x)\n",
    "output = Dense(3, activation='linear')(x)  # 미래 3일 예측\n",
    "\n",
    "# 모델 생성 및 컴파일\n",
    "lstm_model = Model(inputs=input_weather, outputs=output)\n",
    "lstm_model.compile(optimizer='adam', loss='mean_squared_error')\n",
    "\n",
    "# 모델 요약\n",
    "lstm_model.summary()"
   ]
  },
  {
   "cell_type": "code",
   "execution_count": 330,
   "id": "104542a8-54b7-4382-91f7-00d2b1045aed",
   "metadata": {},
   "outputs": [],
   "source": [
    "# 콜백 설정 (모델 체크포인트, 조기 종료 등)\n",
    "checkpoint_cb = ModelCheckpoint(\"./best_LSTM_model.h5\", save_best_only=True)\n",
    "early_stopping_cb = EarlyStopping(patience=8, restore_best_weights=True)"
   ]
  },
  {
   "cell_type": "code",
   "execution_count": 331,
   "id": "808e6194-72f1-4d84-8c6e-1ed77d97f7ca",
   "metadata": {},
   "outputs": [
    {
     "name": "stdout",
     "output_type": "stream",
     "text": [
      "Epoch 1/100\n",
      "25/25 [==============================] - 3s 42ms/step - loss: 1398.7672 - val_loss: 2363.0044\n",
      "Epoch 2/100\n",
      "25/25 [==============================] - 1s 32ms/step - loss: 545.4167 - val_loss: 1572.0477\n",
      "Epoch 3/100\n",
      "25/25 [==============================] - 1s 32ms/step - loss: 480.5036 - val_loss: 1434.5448\n",
      "Epoch 4/100\n",
      "25/25 [==============================] - 1s 32ms/step - loss: 402.0983 - val_loss: 1410.6389\n",
      "Epoch 5/100\n",
      "25/25 [==============================] - 1s 31ms/step - loss: 384.3793 - val_loss: 1410.3712\n",
      "Epoch 6/100\n",
      "25/25 [==============================] - 1s 31ms/step - loss: 383.9137 - val_loss: 891.4938\n",
      "Epoch 7/100\n",
      "25/25 [==============================] - 1s 30ms/step - loss: 378.3284 - val_loss: 972.1300\n",
      "Epoch 8/100\n",
      "25/25 [==============================] - 1s 30ms/step - loss: 389.0844 - val_loss: 1359.0769\n",
      "Epoch 9/100\n",
      "25/25 [==============================] - 1s 30ms/step - loss: 366.2758 - val_loss: 1116.4764\n",
      "Epoch 10/100\n",
      "25/25 [==============================] - 1s 30ms/step - loss: 360.1300 - val_loss: 2326.7937\n",
      "Epoch 11/100\n",
      "25/25 [==============================] - 1s 30ms/step - loss: 358.9717 - val_loss: 1659.0426\n",
      "Epoch 12/100\n",
      "25/25 [==============================] - 1s 30ms/step - loss: 336.9288 - val_loss: 1475.6056\n",
      "Epoch 13/100\n",
      "25/25 [==============================] - 1s 30ms/step - loss: 358.9886 - val_loss: 2312.6936\n",
      "Epoch 14/100\n",
      "25/25 [==============================] - 1s 30ms/step - loss: 319.0775 - val_loss: 2388.1575\n"
     ]
    }
   ],
   "source": [
    "# 모델 훈련\n",
    "history = lstm_model.fit(xx_scaled_climate_train, yy_train, epochs=100, batch_size=32,\n",
    "                    validation_data=(xx_scaled_climate_val, yy_val), \n",
    "                    callbacks=[checkpoint_cb, early_stopping_cb])"
   ]
  },
  {
   "cell_type": "code",
   "execution_count": 332,
   "id": "09f71209-700d-43e5-ab3c-7940f3dce924",
   "metadata": {},
   "outputs": [
    {
     "name": "stdout",
     "output_type": "stream",
     "text": [
      "8/8 [==============================] - 0s 11ms/step - loss: 457.7531\n"
     ]
    },
    {
     "data": {
      "text/plain": [
       "457.7531433105469"
      ]
     },
     "execution_count": 332,
     "metadata": {},
     "output_type": "execute_result"
    }
   ],
   "source": [
    "test_loss = lstm_model.evaluate([xx_scaled_climate_test], yy_test)\n",
    "test_loss"
   ]
  },
  {
   "cell_type": "code",
   "execution_count": null,
   "id": "cbd47ce2-02e0-4f17-bae0-6126cd363d4b",
   "metadata": {},
   "outputs": [],
   "source": []
  }
 ],
 "metadata": {
  "kernelspec": {
   "display_name": "Python 3 (ipykernel)",
   "language": "python",
   "name": "python3"
  },
  "language_info": {
   "codemirror_mode": {
    "name": "ipython",
    "version": 3
   },
   "file_extension": ".py",
   "mimetype": "text/x-python",
   "name": "python",
   "nbconvert_exporter": "python",
   "pygments_lexer": "ipython3",
   "version": "3.10.9"
  }
 },
 "nbformat": 4,
 "nbformat_minor": 5
}
