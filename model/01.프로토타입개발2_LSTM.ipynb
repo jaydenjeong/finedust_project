{
 "cells": [
  {
   "cell_type": "code",
   "execution_count": 18,
   "id": "55092005",
   "metadata": {},
   "outputs": [],
   "source": [
    "import pandas as pd\n",
    "from tensorflow import keras\n",
    "from sklearn.model_selection import train_test_split\n",
    "from tensorflow.keras.models import Sequential\n",
    "from tensorflow.keras.layers import LSTM, Dense"
   ]
  },
  {
   "cell_type": "code",
   "execution_count": 2,
   "id": "bd401020",
   "metadata": {},
   "outputs": [],
   "source": [
    "df = pd.read_csv(\"./git/데이터/0. 프로토타입용 데이터/prototype_data.csv\")"
   ]
  },
  {
   "cell_type": "code",
   "execution_count": 3,
   "id": "18aa6730",
   "metadata": {
    "scrolled": false
   },
   "outputs": [
    {
     "data": {
      "text/html": [
       "<div>\n",
       "<style scoped>\n",
       "    .dataframe tbody tr th:only-of-type {\n",
       "        vertical-align: middle;\n",
       "    }\n",
       "\n",
       "    .dataframe tbody tr th {\n",
       "        vertical-align: top;\n",
       "    }\n",
       "\n",
       "    .dataframe thead th {\n",
       "        text-align: right;\n",
       "    }\n",
       "</style>\n",
       "<table border=\"1\" class=\"dataframe\">\n",
       "  <thead>\n",
       "    <tr style=\"text-align: right;\">\n",
       "      <th></th>\n",
       "      <th>일시</th>\n",
       "      <th>PM-10</th>\n",
       "      <th>('풍속', 98)</th>\n",
       "      <th>('풍속', 99)</th>\n",
       "      <th>('풍속', 108)</th>\n",
       "      <th>('풍속', 112)</th>\n",
       "      <th>('풍속', 119)</th>\n",
       "      <th>('풍속', 133)</th>\n",
       "      <th>('풍속', 201)</th>\n",
       "      <th>('강수량', 98)</th>\n",
       "      <th>...</th>\n",
       "      <th>month_11</th>\n",
       "      <th>month_12</th>\n",
       "      <th>hour_00</th>\n",
       "      <th>hour_03</th>\n",
       "      <th>hour_06</th>\n",
       "      <th>hour_09</th>\n",
       "      <th>hour_12</th>\n",
       "      <th>hour_15</th>\n",
       "      <th>hour_18</th>\n",
       "      <th>hour_21</th>\n",
       "    </tr>\n",
       "  </thead>\n",
       "  <tbody>\n",
       "    <tr>\n",
       "      <th>0</th>\n",
       "      <td>2023-01-03 03:00:00</td>\n",
       "      <td>27.0</td>\n",
       "      <td>-1.001528</td>\n",
       "      <td>-1.276354</td>\n",
       "      <td>-0.794339</td>\n",
       "      <td>0.077853</td>\n",
       "      <td>-0.865018</td>\n",
       "      <td>-0.777845</td>\n",
       "      <td>-1.041770</td>\n",
       "      <td>-0.194231</td>\n",
       "      <td>...</td>\n",
       "      <td>False</td>\n",
       "      <td>False</td>\n",
       "      <td>False</td>\n",
       "      <td>True</td>\n",
       "      <td>False</td>\n",
       "      <td>False</td>\n",
       "      <td>False</td>\n",
       "      <td>False</td>\n",
       "      <td>False</td>\n",
       "      <td>False</td>\n",
       "    </tr>\n",
       "    <tr>\n",
       "      <th>1</th>\n",
       "      <td>2023-01-03 06:00:00</td>\n",
       "      <td>29.0</td>\n",
       "      <td>-1.001528</td>\n",
       "      <td>-1.178118</td>\n",
       "      <td>-0.692980</td>\n",
       "      <td>-0.654746</td>\n",
       "      <td>-1.128880</td>\n",
       "      <td>-0.777845</td>\n",
       "      <td>-1.209365</td>\n",
       "      <td>-0.194231</td>\n",
       "      <td>...</td>\n",
       "      <td>False</td>\n",
       "      <td>False</td>\n",
       "      <td>False</td>\n",
       "      <td>False</td>\n",
       "      <td>True</td>\n",
       "      <td>False</td>\n",
       "      <td>False</td>\n",
       "      <td>False</td>\n",
       "      <td>False</td>\n",
       "      <td>False</td>\n",
       "    </tr>\n",
       "    <tr>\n",
       "      <th>2</th>\n",
       "      <td>2023-01-03 09:00:00</td>\n",
       "      <td>30.0</td>\n",
       "      <td>-0.902350</td>\n",
       "      <td>-1.276354</td>\n",
       "      <td>-0.895697</td>\n",
       "      <td>-1.533866</td>\n",
       "      <td>-1.304788</td>\n",
       "      <td>-0.863775</td>\n",
       "      <td>-0.957973</td>\n",
       "      <td>-0.194231</td>\n",
       "      <td>...</td>\n",
       "      <td>False</td>\n",
       "      <td>False</td>\n",
       "      <td>False</td>\n",
       "      <td>False</td>\n",
       "      <td>False</td>\n",
       "      <td>True</td>\n",
       "      <td>False</td>\n",
       "      <td>False</td>\n",
       "      <td>False</td>\n",
       "      <td>False</td>\n",
       "    </tr>\n",
       "    <tr>\n",
       "      <th>3</th>\n",
       "      <td>2023-01-03 12:00:00</td>\n",
       "      <td>41.0</td>\n",
       "      <td>-0.604817</td>\n",
       "      <td>-0.981647</td>\n",
       "      <td>-0.084830</td>\n",
       "      <td>-0.508227</td>\n",
       "      <td>-0.513201</td>\n",
       "      <td>-0.262265</td>\n",
       "      <td>-0.957973</td>\n",
       "      <td>-0.194231</td>\n",
       "      <td>...</td>\n",
       "      <td>False</td>\n",
       "      <td>False</td>\n",
       "      <td>False</td>\n",
       "      <td>False</td>\n",
       "      <td>False</td>\n",
       "      <td>False</td>\n",
       "      <td>True</td>\n",
       "      <td>False</td>\n",
       "      <td>False</td>\n",
       "      <td>False</td>\n",
       "    </tr>\n",
       "    <tr>\n",
       "      <th>4</th>\n",
       "      <td>2023-01-03 15:00:00</td>\n",
       "      <td>31.0</td>\n",
       "      <td>0.585315</td>\n",
       "      <td>-0.294000</td>\n",
       "      <td>0.827396</td>\n",
       "      <td>0.297633</td>\n",
       "      <td>0.982019</td>\n",
       "      <td>1.198545</td>\n",
       "      <td>0.466585</td>\n",
       "      <td>-0.194231</td>\n",
       "      <td>...</td>\n",
       "      <td>False</td>\n",
       "      <td>False</td>\n",
       "      <td>False</td>\n",
       "      <td>False</td>\n",
       "      <td>False</td>\n",
       "      <td>False</td>\n",
       "      <td>False</td>\n",
       "      <td>True</td>\n",
       "      <td>False</td>\n",
       "      <td>False</td>\n",
       "    </tr>\n",
       "  </tbody>\n",
       "</table>\n",
       "<p>5 rows × 613 columns</p>\n",
       "</div>"
      ],
      "text/plain": [
       "                    일시  PM-10  ('풍속', 98)  ('풍속', 99)  ('풍속', 108)  \\\n",
       "0  2023-01-03 03:00:00   27.0   -1.001528   -1.276354    -0.794339   \n",
       "1  2023-01-03 06:00:00   29.0   -1.001528   -1.178118    -0.692980   \n",
       "2  2023-01-03 09:00:00   30.0   -0.902350   -1.276354    -0.895697   \n",
       "3  2023-01-03 12:00:00   41.0   -0.604817   -0.981647    -0.084830   \n",
       "4  2023-01-03 15:00:00   31.0    0.585315   -0.294000     0.827396   \n",
       "\n",
       "   ('풍속', 112)  ('풍속', 119)  ('풍속', 133)  ('풍속', 201)  ('강수량', 98)  ...  \\\n",
       "0     0.077853    -0.865018    -0.777845    -1.041770    -0.194231  ...   \n",
       "1    -0.654746    -1.128880    -0.777845    -1.209365    -0.194231  ...   \n",
       "2    -1.533866    -1.304788    -0.863775    -0.957973    -0.194231  ...   \n",
       "3    -0.508227    -0.513201    -0.262265    -0.957973    -0.194231  ...   \n",
       "4     0.297633     0.982019     1.198545     0.466585    -0.194231  ...   \n",
       "\n",
       "   month_11  month_12  hour_00  hour_03  hour_06  hour_09  hour_12  hour_15  \\\n",
       "0     False     False    False     True    False    False    False    False   \n",
       "1     False     False    False    False     True    False    False    False   \n",
       "2     False     False    False    False    False     True    False    False   \n",
       "3     False     False    False    False    False    False     True    False   \n",
       "4     False     False    False    False    False    False    False     True   \n",
       "\n",
       "   hour_18  hour_21  \n",
       "0    False    False  \n",
       "1    False    False  \n",
       "2    False    False  \n",
       "3    False    False  \n",
       "4    False    False  \n",
       "\n",
       "[5 rows x 613 columns]"
      ]
     },
     "execution_count": 3,
     "metadata": {},
     "output_type": "execute_result"
    }
   ],
   "source": [
    "df.head()"
   ]
  },
  {
   "cell_type": "code",
   "execution_count": 11,
   "id": "2c7062a1",
   "metadata": {},
   "outputs": [
    {
     "data": {
      "text/plain": [
       "(2143, 613)"
      ]
     },
     "execution_count": 11,
     "metadata": {},
     "output_type": "execute_result"
    }
   ],
   "source": [
    "df.shape"
   ]
  },
  {
   "cell_type": "code",
   "execution_count": 4,
   "id": "47fe6632",
   "metadata": {},
   "outputs": [],
   "source": [
    "x = df.drop(\"PM-10\", axis = 1)"
   ]
  },
  {
   "cell_type": "code",
   "execution_count": 5,
   "id": "9ec0a27c",
   "metadata": {},
   "outputs": [],
   "source": [
    "y = df[\"PM-10\"]"
   ]
  },
  {
   "cell_type": "code",
   "execution_count": 13,
   "id": "404d4cee",
   "metadata": {},
   "outputs": [],
   "source": [
    "x_train, x_test, y_train, y_test = train_test_split(x, y, test_size= 0.3, random_state= 42)"
   ]
  },
  {
   "cell_type": "code",
   "execution_count": 14,
   "id": "6bb58a4c",
   "metadata": {},
   "outputs": [],
   "source": [
    "# 훈련 세트와 검증 세트로 나누기\n",
    "x_train, x_val, y_train, y_val = train_test_split(x_train, y_train, test_size= 0.3, random_state= 42)"
   ]
  },
  {
   "cell_type": "code",
   "execution_count": 15,
   "id": "3e06389b",
   "metadata": {},
   "outputs": [
    {
     "data": {
      "text/plain": [
       "(1050, 612)"
      ]
     },
     "execution_count": 15,
     "metadata": {},
     "output_type": "execute_result"
    }
   ],
   "source": [
    "x_train.shape"
   ]
  },
  {
   "cell_type": "code",
   "execution_count": 21,
   "id": "e1e3bc58",
   "metadata": {},
   "outputs": [],
   "source": [
    "# LSTM 모델 생성\n",
    "timesteps = 16\n",
    "model = keras.Sequential()\n",
    "model.add(keras.layers.Dense(256, input_shape =(timesteps, 612))) # 순서를 바꿔야 할 수도 있음\n",
    "model.add(keras.layers.LSTM(128))\n",
    "model.add(keras.layers.Dropout(0.5))\n",
    "model.add(keras.layers.Dense(1, activation = \"linear\"))"
   ]
  },
  {
   "cell_type": "code",
   "execution_count": 22,
   "id": "6282672f",
   "metadata": {},
   "outputs": [
    {
     "name": "stdout",
     "output_type": "stream",
     "text": [
      "Model: \"sequential_4\"\n",
      "_________________________________________________________________\n",
      " Layer (type)                Output Shape              Param #   \n",
      "=================================================================\n",
      " dense_2 (Dense)             (None, 16, 256)           156928    \n",
      "                                                                 \n",
      " lstm_2 (LSTM)               (None, 128)               197120    \n",
      "                                                                 \n",
      " dropout (Dropout)           (None, 128)               0         \n",
      "                                                                 \n",
      " dense_3 (Dense)             (None, 1)                 129       \n",
      "                                                                 \n",
      "=================================================================\n",
      "Total params: 354177 (1.35 MB)\n",
      "Trainable params: 354177 (1.35 MB)\n",
      "Non-trainable params: 0 (0.00 Byte)\n",
      "_________________________________________________________________\n"
     ]
    }
   ],
   "source": [
    "# 모델 컴파일\n",
    "model.compile(optimizer='adam', loss='mean_squared_error')\n",
    "\n",
    "# 모델 요약 출력\n",
    "model.summary()"
   ]
  },
  {
   "cell_type": "code",
   "execution_count": null,
   "id": "d5e0310d",
   "metadata": {},
   "outputs": [],
   "source": [
    "history = model.fit(x_train, y_train, epochs = 20, validation_data= (x_val, y_val))"
   ]
  },
  {
   "cell_type": "code",
   "execution_count": null,
   "id": "fde63be2",
   "metadata": {},
   "outputs": [],
   "source": []
  },
  {
   "cell_type": "code",
   "execution_count": null,
   "id": "13344bc2",
   "metadata": {},
   "outputs": [],
   "source": []
  },
  {
   "cell_type": "code",
   "execution_count": null,
   "id": "14931966",
   "metadata": {},
   "outputs": [],
   "source": []
  },
  {
   "cell_type": "code",
   "execution_count": null,
   "id": "caf41bbb",
   "metadata": {},
   "outputs": [],
   "source": []
  },
  {
   "cell_type": "code",
   "execution_count": null,
   "id": "b4f63b72",
   "metadata": {},
   "outputs": [],
   "source": []
  },
  {
   "cell_type": "code",
   "execution_count": null,
   "id": "0d7874cb",
   "metadata": {},
   "outputs": [],
   "source": []
  },
  {
   "cell_type": "code",
   "execution_count": null,
   "id": "04816c93",
   "metadata": {},
   "outputs": [],
   "source": []
  },
  {
   "cell_type": "code",
   "execution_count": null,
   "id": "01a3f9b9",
   "metadata": {},
   "outputs": [],
   "source": []
  }
 ],
 "metadata": {
  "kernelspec": {
   "display_name": "Python 3 (ipykernel)",
   "language": "python",
   "name": "python3"
  },
  "language_info": {
   "codemirror_mode": {
    "name": "ipython",
    "version": 3
   },
   "file_extension": ".py",
   "mimetype": "text/x-python",
   "name": "python",
   "nbconvert_exporter": "python",
   "pygments_lexer": "ipython3",
   "version": "3.10.9"
  }
 },
 "nbformat": 4,
 "nbformat_minor": 5
}
