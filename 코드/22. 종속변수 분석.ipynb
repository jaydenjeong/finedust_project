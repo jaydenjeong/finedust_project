{
 "cells": [
  {
   "cell_type": "code",
   "execution_count": 259,
   "id": "9eda5c5d",
   "metadata": {},
   "outputs": [],
   "source": [
    "import pandas as pd\n",
    "import numpy as np\n",
    "import matplotlib.pyplot as plt\n",
    "import matplotlib.dates as mdates\n",
    "from datetime import datetime"
   ]
  },
  {
   "cell_type": "code",
   "execution_count": 36,
   "id": "df245df3",
   "metadata": {},
   "outputs": [],
   "source": [
    "from matplotlib import font_manager, rc\n",
    "import matplotlib\n",
    "font_path = 'C:/Windows/Fonts/malgun.ttf'\n",
    "font_name = font_manager.FontProperties(fname = font_path).get_name()\n",
    "rc('font', family=font_name)\n",
    "\n",
    "plt.rcParams['font.family'] = 'Malgun Gothic'"
   ]
  },
  {
   "cell_type": "code",
   "execution_count": 37,
   "id": "8879342c",
   "metadata": {},
   "outputs": [],
   "source": [
    "# 미세먼지 데이터 읽기\n",
    "pm10_df = pd.read_csv(\"./Git/데이터/1. 종속변수/국내미세먼지농도.csv\", index_col = 0, header = [0, 1])\n",
    "pm25_df = pd.read_csv(\"./Git/데이터/1. 종속변수/국내초미세먼지농도.csv\", index_col = 0, header = [0, 1])"
   ]
  },
  {
   "cell_type": "code",
   "execution_count": 38,
   "id": "1684ae1b",
   "metadata": {},
   "outputs": [],
   "source": [
    "# 기상 데이터 읽기\n",
    "kr_df = pd.read_csv(\"./독립변수/국내기상데이터.csv\", index_col = 0, header = [0, 1])"
   ]
  },
  {
   "cell_type": "code",
   "execution_count": 39,
   "id": "6a45b43b",
   "metadata": {},
   "outputs": [
    {
     "data": {
      "text/html": [
       "<div>\n",
       "<style scoped>\n",
       "    .dataframe tbody tr th:only-of-type {\n",
       "        vertical-align: middle;\n",
       "    }\n",
       "\n",
       "    .dataframe tbody tr th {\n",
       "        vertical-align: top;\n",
       "    }\n",
       "\n",
       "    .dataframe thead tr th {\n",
       "        text-align: left;\n",
       "    }\n",
       "\n",
       "    .dataframe thead tr:last-of-type th {\n",
       "        text-align: right;\n",
       "    }\n",
       "</style>\n",
       "<table border=\"1\" class=\"dataframe\">\n",
       "  <thead>\n",
       "    <tr>\n",
       "      <th></th>\n",
       "      <th colspan=\"5\" halign=\"left\">PM10</th>\n",
       "    </tr>\n",
       "    <tr>\n",
       "      <th>지역</th>\n",
       "      <th>강원 강릉시</th>\n",
       "      <th>광주 북구</th>\n",
       "      <th>대전 중구</th>\n",
       "      <th>부산 해운대구</th>\n",
       "      <th>서울 서대문구</th>\n",
       "    </tr>\n",
       "    <tr>\n",
       "      <th>일시</th>\n",
       "      <th></th>\n",
       "      <th></th>\n",
       "      <th></th>\n",
       "      <th></th>\n",
       "      <th></th>\n",
       "    </tr>\n",
       "  </thead>\n",
       "  <tbody>\n",
       "    <tr>\n",
       "      <th>2015-01-01 03:00:00</th>\n",
       "      <td>35.0</td>\n",
       "      <td>21.7</td>\n",
       "      <td>33.3</td>\n",
       "      <td>18.7</td>\n",
       "      <td>63.7</td>\n",
       "    </tr>\n",
       "    <tr>\n",
       "      <th>2015-01-01 06:00:00</th>\n",
       "      <td>45.3</td>\n",
       "      <td>21.0</td>\n",
       "      <td>61.3</td>\n",
       "      <td>19.0</td>\n",
       "      <td>113.3</td>\n",
       "    </tr>\n",
       "    <tr>\n",
       "      <th>2015-01-01 09:00:00</th>\n",
       "      <td>56.3</td>\n",
       "      <td>21.7</td>\n",
       "      <td>95.0</td>\n",
       "      <td>28.3</td>\n",
       "      <td>135.0</td>\n",
       "    </tr>\n",
       "    <tr>\n",
       "      <th>2015-01-01 12:00:00</th>\n",
       "      <td>68.7</td>\n",
       "      <td>41.0</td>\n",
       "      <td>124.0</td>\n",
       "      <td>53.5</td>\n",
       "      <td>85.0</td>\n",
       "    </tr>\n",
       "    <tr>\n",
       "      <th>2015-01-01 15:00:00</th>\n",
       "      <td>88.3</td>\n",
       "      <td>70.3</td>\n",
       "      <td>56.3</td>\n",
       "      <td>54.3</td>\n",
       "      <td>44.7</td>\n",
       "    </tr>\n",
       "    <tr>\n",
       "      <th>...</th>\n",
       "      <td>...</td>\n",
       "      <td>...</td>\n",
       "      <td>...</td>\n",
       "      <td>...</td>\n",
       "      <td>...</td>\n",
       "    </tr>\n",
       "    <tr>\n",
       "      <th>2024-05-19 09:00:00</th>\n",
       "      <td>22.0</td>\n",
       "      <td>24.7</td>\n",
       "      <td>17.3</td>\n",
       "      <td>23.3</td>\n",
       "      <td>18.0</td>\n",
       "    </tr>\n",
       "    <tr>\n",
       "      <th>2024-05-19 12:00:00</th>\n",
       "      <td>25.0</td>\n",
       "      <td>21.3</td>\n",
       "      <td>30.0</td>\n",
       "      <td>33.3</td>\n",
       "      <td>17.0</td>\n",
       "    </tr>\n",
       "    <tr>\n",
       "      <th>2024-05-19 15:00:00</th>\n",
       "      <td>45.3</td>\n",
       "      <td>14.0</td>\n",
       "      <td>19.0</td>\n",
       "      <td>36.7</td>\n",
       "      <td>18.3</td>\n",
       "    </tr>\n",
       "    <tr>\n",
       "      <th>2024-05-19 18:00:00</th>\n",
       "      <td>34.3</td>\n",
       "      <td>20.7</td>\n",
       "      <td>16.3</td>\n",
       "      <td>32.3</td>\n",
       "      <td>24.7</td>\n",
       "    </tr>\n",
       "    <tr>\n",
       "      <th>2024-05-19 21:00:00</th>\n",
       "      <td>35.7</td>\n",
       "      <td>20.0</td>\n",
       "      <td>11.7</td>\n",
       "      <td>36.3</td>\n",
       "      <td>17.7</td>\n",
       "    </tr>\n",
       "  </tbody>\n",
       "</table>\n",
       "<p>27415 rows × 5 columns</p>\n",
       "</div>"
      ],
      "text/plain": [
       "                      PM10                             \n",
       "지역                  강원 강릉시 광주 북구  대전 중구 부산 해운대구 서울 서대문구\n",
       "일시                                                     \n",
       "2015-01-01 03:00:00   35.0  21.7   33.3    18.7    63.7\n",
       "2015-01-01 06:00:00   45.3  21.0   61.3    19.0   113.3\n",
       "2015-01-01 09:00:00   56.3  21.7   95.0    28.3   135.0\n",
       "2015-01-01 12:00:00   68.7  41.0  124.0    53.5    85.0\n",
       "2015-01-01 15:00:00   88.3  70.3   56.3    54.3    44.7\n",
       "...                    ...   ...    ...     ...     ...\n",
       "2024-05-19 09:00:00   22.0  24.7   17.3    23.3    18.0\n",
       "2024-05-19 12:00:00   25.0  21.3   30.0    33.3    17.0\n",
       "2024-05-19 15:00:00   45.3  14.0   19.0    36.7    18.3\n",
       "2024-05-19 18:00:00   34.3  20.7   16.3    32.3    24.7\n",
       "2024-05-19 21:00:00   35.7  20.0   11.7    36.3    17.7\n",
       "\n",
       "[27415 rows x 5 columns]"
      ]
     },
     "execution_count": 39,
     "metadata": {},
     "output_type": "execute_result"
    }
   ],
   "source": [
    "pm10_df"
   ]
  },
  {
   "cell_type": "code",
   "execution_count": 40,
   "id": "5d87c972",
   "metadata": {},
   "outputs": [
    {
     "data": {
      "text/html": [
       "<div>\n",
       "<style scoped>\n",
       "    .dataframe tbody tr th:only-of-type {\n",
       "        vertical-align: middle;\n",
       "    }\n",
       "\n",
       "    .dataframe tbody tr th {\n",
       "        vertical-align: top;\n",
       "    }\n",
       "\n",
       "    .dataframe thead tr th {\n",
       "        text-align: left;\n",
       "    }\n",
       "\n",
       "    .dataframe thead tr:last-of-type th {\n",
       "        text-align: right;\n",
       "    }\n",
       "</style>\n",
       "<table border=\"1\" class=\"dataframe\">\n",
       "  <thead>\n",
       "    <tr>\n",
       "      <th></th>\n",
       "      <th colspan=\"10\" halign=\"left\">강수량</th>\n",
       "      <th>...</th>\n",
       "      <th colspan=\"10\" halign=\"left\">풍향</th>\n",
       "    </tr>\n",
       "    <tr>\n",
       "      <th></th>\n",
       "      <th>90</th>\n",
       "      <th>101</th>\n",
       "      <th>102</th>\n",
       "      <th>105</th>\n",
       "      <th>108</th>\n",
       "      <th>119</th>\n",
       "      <th>127</th>\n",
       "      <th>133</th>\n",
       "      <th>140</th>\n",
       "      <th>152</th>\n",
       "      <th>...</th>\n",
       "      <th>(279, 60.0)</th>\n",
       "      <th>(279, 90.0)</th>\n",
       "      <th>(279, 120.0)</th>\n",
       "      <th>(279, 150.0)</th>\n",
       "      <th>(279, 180.0)</th>\n",
       "      <th>(279, 210.0)</th>\n",
       "      <th>(279, 240.0)</th>\n",
       "      <th>(279, 270.0)</th>\n",
       "      <th>(279, 300.0)</th>\n",
       "      <th>(279, 330.0)</th>\n",
       "    </tr>\n",
       "    <tr>\n",
       "      <th>일시</th>\n",
       "      <th></th>\n",
       "      <th></th>\n",
       "      <th></th>\n",
       "      <th></th>\n",
       "      <th></th>\n",
       "      <th></th>\n",
       "      <th></th>\n",
       "      <th></th>\n",
       "      <th></th>\n",
       "      <th></th>\n",
       "      <th></th>\n",
       "      <th></th>\n",
       "      <th></th>\n",
       "      <th></th>\n",
       "      <th></th>\n",
       "      <th></th>\n",
       "      <th></th>\n",
       "      <th></th>\n",
       "      <th></th>\n",
       "      <th></th>\n",
       "      <th></th>\n",
       "    </tr>\n",
       "  </thead>\n",
       "  <tbody>\n",
       "    <tr>\n",
       "      <th>2015-01-01 03:00:00</th>\n",
       "      <td>0.0</td>\n",
       "      <td>0.0</td>\n",
       "      <td>0.0</td>\n",
       "      <td>0.0</td>\n",
       "      <td>0.0</td>\n",
       "      <td>0.0</td>\n",
       "      <td>0.0</td>\n",
       "      <td>0.0</td>\n",
       "      <td>0.0</td>\n",
       "      <td>0.0</td>\n",
       "      <td>...</td>\n",
       "      <td>0</td>\n",
       "      <td>0</td>\n",
       "      <td>0</td>\n",
       "      <td>0</td>\n",
       "      <td>0</td>\n",
       "      <td>0</td>\n",
       "      <td>0</td>\n",
       "      <td>0</td>\n",
       "      <td>1</td>\n",
       "      <td>0</td>\n",
       "    </tr>\n",
       "    <tr>\n",
       "      <th>2015-01-01 06:00:00</th>\n",
       "      <td>0.0</td>\n",
       "      <td>0.0</td>\n",
       "      <td>0.0</td>\n",
       "      <td>0.0</td>\n",
       "      <td>0.0</td>\n",
       "      <td>0.0</td>\n",
       "      <td>0.0</td>\n",
       "      <td>0.0</td>\n",
       "      <td>0.0</td>\n",
       "      <td>0.0</td>\n",
       "      <td>...</td>\n",
       "      <td>0</td>\n",
       "      <td>0</td>\n",
       "      <td>0</td>\n",
       "      <td>0</td>\n",
       "      <td>0</td>\n",
       "      <td>0</td>\n",
       "      <td>0</td>\n",
       "      <td>0</td>\n",
       "      <td>1</td>\n",
       "      <td>0</td>\n",
       "    </tr>\n",
       "    <tr>\n",
       "      <th>2015-01-01 09:00:00</th>\n",
       "      <td>0.0</td>\n",
       "      <td>0.0</td>\n",
       "      <td>0.0</td>\n",
       "      <td>0.0</td>\n",
       "      <td>0.0</td>\n",
       "      <td>0.0</td>\n",
       "      <td>0.0</td>\n",
       "      <td>0.0</td>\n",
       "      <td>0.0</td>\n",
       "      <td>0.0</td>\n",
       "      <td>...</td>\n",
       "      <td>0</td>\n",
       "      <td>0</td>\n",
       "      <td>0</td>\n",
       "      <td>0</td>\n",
       "      <td>0</td>\n",
       "      <td>0</td>\n",
       "      <td>0</td>\n",
       "      <td>0</td>\n",
       "      <td>1</td>\n",
       "      <td>0</td>\n",
       "    </tr>\n",
       "    <tr>\n",
       "      <th>2015-01-01 12:00:00</th>\n",
       "      <td>0.0</td>\n",
       "      <td>0.0</td>\n",
       "      <td>0.0</td>\n",
       "      <td>0.0</td>\n",
       "      <td>0.0</td>\n",
       "      <td>0.0</td>\n",
       "      <td>0.0</td>\n",
       "      <td>0.0</td>\n",
       "      <td>0.0</td>\n",
       "      <td>0.0</td>\n",
       "      <td>...</td>\n",
       "      <td>0</td>\n",
       "      <td>0</td>\n",
       "      <td>0</td>\n",
       "      <td>0</td>\n",
       "      <td>0</td>\n",
       "      <td>0</td>\n",
       "      <td>0</td>\n",
       "      <td>0</td>\n",
       "      <td>1</td>\n",
       "      <td>0</td>\n",
       "    </tr>\n",
       "    <tr>\n",
       "      <th>2015-01-01 15:00:00</th>\n",
       "      <td>0.0</td>\n",
       "      <td>0.0</td>\n",
       "      <td>0.0</td>\n",
       "      <td>0.0</td>\n",
       "      <td>0.0</td>\n",
       "      <td>0.0</td>\n",
       "      <td>0.0</td>\n",
       "      <td>0.0</td>\n",
       "      <td>0.0</td>\n",
       "      <td>0.0</td>\n",
       "      <td>...</td>\n",
       "      <td>0</td>\n",
       "      <td>0</td>\n",
       "      <td>0</td>\n",
       "      <td>0</td>\n",
       "      <td>0</td>\n",
       "      <td>0</td>\n",
       "      <td>0</td>\n",
       "      <td>0</td>\n",
       "      <td>1</td>\n",
       "      <td>0</td>\n",
       "    </tr>\n",
       "  </tbody>\n",
       "</table>\n",
       "<p>5 rows × 399 columns</p>\n",
       "</div>"
      ],
      "text/plain": [
       "                     강수량                                               ...  \\\n",
       "                      90  101  102  105  108  119  127  133  140  152  ...   \n",
       "일시                                                                     ...   \n",
       "2015-01-01 03:00:00  0.0  0.0  0.0  0.0  0.0  0.0  0.0  0.0  0.0  0.0  ...   \n",
       "2015-01-01 06:00:00  0.0  0.0  0.0  0.0  0.0  0.0  0.0  0.0  0.0  0.0  ...   \n",
       "2015-01-01 09:00:00  0.0  0.0  0.0  0.0  0.0  0.0  0.0  0.0  0.0  0.0  ...   \n",
       "2015-01-01 12:00:00  0.0  0.0  0.0  0.0  0.0  0.0  0.0  0.0  0.0  0.0  ...   \n",
       "2015-01-01 15:00:00  0.0  0.0  0.0  0.0  0.0  0.0  0.0  0.0  0.0  0.0  ...   \n",
       "\n",
       "                             풍향                                        \\\n",
       "                    (279, 60.0) (279, 90.0) (279, 120.0) (279, 150.0)   \n",
       "일시                                                                      \n",
       "2015-01-01 03:00:00           0           0            0            0   \n",
       "2015-01-01 06:00:00           0           0            0            0   \n",
       "2015-01-01 09:00:00           0           0            0            0   \n",
       "2015-01-01 12:00:00           0           0            0            0   \n",
       "2015-01-01 15:00:00           0           0            0            0   \n",
       "\n",
       "                                                                         \\\n",
       "                    (279, 180.0) (279, 210.0) (279, 240.0) (279, 270.0)   \n",
       "일시                                                                        \n",
       "2015-01-01 03:00:00            0            0            0            0   \n",
       "2015-01-01 06:00:00            0            0            0            0   \n",
       "2015-01-01 09:00:00            0            0            0            0   \n",
       "2015-01-01 12:00:00            0            0            0            0   \n",
       "2015-01-01 15:00:00            0            0            0            0   \n",
       "\n",
       "                                               \n",
       "                    (279, 300.0) (279, 330.0)  \n",
       "일시                                             \n",
       "2015-01-01 03:00:00            1            0  \n",
       "2015-01-01 06:00:00            1            0  \n",
       "2015-01-01 09:00:00            1            0  \n",
       "2015-01-01 12:00:00            1            0  \n",
       "2015-01-01 15:00:00            1            0  \n",
       "\n",
       "[5 rows x 399 columns]"
      ]
     },
     "execution_count": 40,
     "metadata": {},
     "output_type": "execute_result"
    }
   ],
   "source": [
    "kr_df.head()"
   ]
  },
  {
   "cell_type": "code",
   "execution_count": 41,
   "id": "6985ca2e",
   "metadata": {},
   "outputs": [],
   "source": [
    "# 서울의 데이터만을 하나의 데이터프레임으로 생성\n",
    "seoul_df = kr_df.xs(\"108\", axis = 1, level = 1)"
   ]
  },
  {
   "cell_type": "code",
   "execution_count": 42,
   "id": "5e5716d0",
   "metadata": {},
   "outputs": [],
   "source": [
    "# 서울의 풍향 데이터 생성\n",
    "seoul_wd = kr_df.iloc[:, -180:-168]"
   ]
  },
  {
   "cell_type": "code",
   "execution_count": 43,
   "id": "2d9b2d27",
   "metadata": {},
   "outputs": [],
   "source": [
    "seoul_wd.columns = range(0, 360, 30)"
   ]
  },
  {
   "cell_type": "code",
   "execution_count": 44,
   "id": "d04d9eb0",
   "metadata": {},
   "outputs": [],
   "source": [
    "seoul_wd = seoul_wd.idxmax(axis = 1)"
   ]
  },
  {
   "cell_type": "code",
   "execution_count": 45,
   "id": "eedebaa9",
   "metadata": {},
   "outputs": [],
   "source": [
    "seoul_df = pd.concat([seoul_df, seoul_wd], axis = 1)"
   ]
  },
  {
   "cell_type": "code",
   "execution_count": 48,
   "id": "da7d3868",
   "metadata": {},
   "outputs": [],
   "source": [
    "seoul_df.columns = ['강수량', '기온', '습도', '이슬점온도', '증기압', '지면온도', '풍속', '해면기압', '현지기압', '풍향']"
   ]
  },
  {
   "cell_type": "code",
   "execution_count": null,
   "id": "05848378",
   "metadata": {},
   "outputs": [],
   "source": []
  },
  {
   "cell_type": "code",
   "execution_count": 49,
   "id": "99298f4e",
   "metadata": {},
   "outputs": [
    {
     "data": {
      "text/plain": [
       "일시\n",
       "2015-01-01 03:00:00     63.7\n",
       "2015-01-01 06:00:00    113.3\n",
       "2015-01-01 09:00:00    135.0\n",
       "2015-01-01 12:00:00     85.0\n",
       "2015-01-01 15:00:00     44.7\n",
       "                       ...  \n",
       "2024-05-19 09:00:00     18.0\n",
       "2024-05-19 12:00:00     17.0\n",
       "2024-05-19 15:00:00     18.3\n",
       "2024-05-19 18:00:00     24.7\n",
       "2024-05-19 21:00:00     17.7\n",
       "Name: (PM10, 서울 서대문구), Length: 27415, dtype: float64"
      ]
     },
     "execution_count": 49,
     "metadata": {},
     "output_type": "execute_result"
    }
   ],
   "source": [
    "pm10_df[(\"PM10\", \"서울 서대문구\")]"
   ]
  },
  {
   "cell_type": "code",
   "execution_count": 50,
   "id": "0ee85a71",
   "metadata": {},
   "outputs": [],
   "source": [
    "seoul_df = pd.concat([pm10_df[(\"PM10\", \"서울 서대문구\")], seoul_df], axis = 1)"
   ]
  },
  {
   "cell_type": "code",
   "execution_count": 51,
   "id": "eaa14da9",
   "metadata": {},
   "outputs": [],
   "source": [
    "seoul_df.index = seoul_df.index.map(lambda x: datetime.strptime(x, \"%Y-%m-%d %H:%M:%S\"))"
   ]
  },
  {
   "cell_type": "code",
   "execution_count": 52,
   "id": "8875f977",
   "metadata": {},
   "outputs": [],
   "source": [
    "# 각 월, 일, 시간 피처 생성\n",
    "seoul_df[\"month\"] = seoul_df.index.map(lambda x: x.month)\n",
    "seoul_df[\"day\"] = seoul_df.index.map(lambda x: x.day)\n",
    "seoul_df[\"hour\"] = seoul_df.index.map(lambda x: x.hour)"
   ]
  },
  {
   "cell_type": "code",
   "execution_count": null,
   "id": "4b83b80d",
   "metadata": {},
   "outputs": [],
   "source": []
  },
  {
   "cell_type": "markdown",
   "id": "af30c377",
   "metadata": {},
   "source": [
    "## 강수 여부에 따른 미세먼지 수치 분석"
   ]
  },
  {
   "cell_type": "code",
   "execution_count": 53,
   "id": "e86f5aed",
   "metadata": {},
   "outputs": [],
   "source": [
    "seoul_df[\"강수여부\"] = seoul_df[\"강수량\"] != 0"
   ]
  },
  {
   "cell_type": "code",
   "execution_count": 83,
   "id": "a4294143",
   "metadata": {},
   "outputs": [],
   "source": [
    "# 월별 / 강수 여부로 미세먼지 평균을 표현하는 데이터프레임 생성\n",
    "perc_df = pd.concat([seoul_df[seoul_df[\"강수여부\"] == False].groupby(\"month\").mean().iloc[:, 0],\n",
    "seoul_df[seoul_df[\"강수여부\"] == True].groupby(\"month\").mean().iloc[:, 0]], axis = 1)"
   ]
  },
  {
   "cell_type": "code",
   "execution_count": 84,
   "id": "e1dc21e1",
   "metadata": {},
   "outputs": [],
   "source": [
    "perc_df.columns = [\"False\", \"True\"]"
   ]
  },
  {
   "cell_type": "code",
   "execution_count": 85,
   "id": "84f72b20",
   "metadata": {},
   "outputs": [
    {
     "data": {
      "text/html": [
       "<div>\n",
       "<style scoped>\n",
       "    .dataframe tbody tr th:only-of-type {\n",
       "        vertical-align: middle;\n",
       "    }\n",
       "\n",
       "    .dataframe tbody tr th {\n",
       "        vertical-align: top;\n",
       "    }\n",
       "\n",
       "    .dataframe thead th {\n",
       "        text-align: right;\n",
       "    }\n",
       "</style>\n",
       "<table border=\"1\" class=\"dataframe\">\n",
       "  <thead>\n",
       "    <tr style=\"text-align: right;\">\n",
       "      <th></th>\n",
       "      <th>False</th>\n",
       "      <th>True</th>\n",
       "    </tr>\n",
       "    <tr>\n",
       "      <th>month</th>\n",
       "      <th></th>\n",
       "      <th></th>\n",
       "    </tr>\n",
       "  </thead>\n",
       "  <tbody>\n",
       "    <tr>\n",
       "      <th>1</th>\n",
       "      <td>47.638928</td>\n",
       "      <td>33.669697</td>\n",
       "    </tr>\n",
       "    <tr>\n",
       "      <th>2</th>\n",
       "      <td>49.946889</td>\n",
       "      <td>27.285517</td>\n",
       "    </tr>\n",
       "    <tr>\n",
       "      <th>3</th>\n",
       "      <td>59.775706</td>\n",
       "      <td>32.388793</td>\n",
       "    </tr>\n",
       "    <tr>\n",
       "      <th>4</th>\n",
       "      <td>53.299315</td>\n",
       "      <td>25.552217</td>\n",
       "    </tr>\n",
       "    <tr>\n",
       "      <th>5</th>\n",
       "      <td>49.681737</td>\n",
       "      <td>22.493162</td>\n",
       "    </tr>\n",
       "    <tr>\n",
       "      <th>6</th>\n",
       "      <td>34.777680</td>\n",
       "      <td>22.019196</td>\n",
       "    </tr>\n",
       "    <tr>\n",
       "      <th>7</th>\n",
       "      <td>25.612062</td>\n",
       "      <td>15.851499</td>\n",
       "    </tr>\n",
       "    <tr>\n",
       "      <th>8</th>\n",
       "      <td>23.536069</td>\n",
       "      <td>13.395148</td>\n",
       "    </tr>\n",
       "    <tr>\n",
       "      <th>9</th>\n",
       "      <td>22.497275</td>\n",
       "      <td>13.466337</td>\n",
       "    </tr>\n",
       "    <tr>\n",
       "      <th>10</th>\n",
       "      <td>29.967788</td>\n",
       "      <td>16.265041</td>\n",
       "    </tr>\n",
       "    <tr>\n",
       "      <th>11</th>\n",
       "      <td>40.358675</td>\n",
       "      <td>22.091566</td>\n",
       "    </tr>\n",
       "    <tr>\n",
       "      <th>12</th>\n",
       "      <td>41.219017</td>\n",
       "      <td>33.308633</td>\n",
       "    </tr>\n",
       "  </tbody>\n",
       "</table>\n",
       "</div>"
      ],
      "text/plain": [
       "           False       True\n",
       "month                      \n",
       "1      47.638928  33.669697\n",
       "2      49.946889  27.285517\n",
       "3      59.775706  32.388793\n",
       "4      53.299315  25.552217\n",
       "5      49.681737  22.493162\n",
       "6      34.777680  22.019196\n",
       "7      25.612062  15.851499\n",
       "8      23.536069  13.395148\n",
       "9      22.497275  13.466337\n",
       "10     29.967788  16.265041\n",
       "11     40.358675  22.091566\n",
       "12     41.219017  33.308633"
      ]
     },
     "execution_count": 85,
     "metadata": {},
     "output_type": "execute_result"
    }
   ],
   "source": [
    "perc_df"
   ]
  },
  {
   "cell_type": "code",
   "execution_count": 95,
   "id": "609a83d8",
   "metadata": {},
   "outputs": [
    {
     "data": {
      "image/png": "[encoded data removed]",
      "text/plain": [
       "<Figure size 2000x1000 with 1 Axes>"
      ]
     },
     "metadata": {},
     "output_type": "display_data"
    }
   ],
   "source": [
    "# X축 위치\n",
    "x = np.arange(len(perc_df))\n",
    "\n",
    "# 막대의 너비\n",
    "bar_width = 0.35\n",
    "\n",
    "# 플롯 초기화\n",
    "fig, ax = plt.subplots(figsize=(20, 10))\n",
    "\n",
    "# 첫 번째 데이터 (강수) 시각화\n",
    "bars1 = ax.bar(x - bar_width/2 - 0.025, perc_df.iloc[:, 1], bar_width, label='강수', color='dodgerblue')\n",
    "\n",
    "# 두 번째 데이터 (강수 없음) 시각화\n",
    "bars2 = ax.bar(x + bar_width/2 + 0.025, perc_df.iloc[:, 0], bar_width, label='맑음', color='sandybrown')\n",
    "\n",
    "# 레이블 및 제목 추가\n",
    "ax.set_xlabel('월', size=20)\n",
    "ax.set_ylabel('미세먼지 수치', size=20)\n",
    "ax.set_title('강수 여부에 따른 미세먼지 차이', size=30)\n",
    "ax.set_xticks(x)\n",
    "ax.set_xticklabels(perc_df.index, size=15)\n",
    "ax.legend(fontsize=15)\n",
    "\n",
    "# 그래프 출력\n",
    "plt.show()"
   ]
  },
  {
   "cell_type": "markdown",
   "id": "6a052484",
   "metadata": {},
   "source": [
    "- 정말로 비오는 시간대에는 미세먼지가 적다\n",
    "- 크게는 2배 이상, 작게는 약 33%"
   ]
  },
  {
   "cell_type": "code",
   "execution_count": null,
   "id": "330dd21a",
   "metadata": {},
   "outputs": [],
   "source": []
  },
  {
   "cell_type": "markdown",
   "id": "5ae83579",
   "metadata": {},
   "source": [
    "### 풍향에 따른 미세먼지 농도 분석"
   ]
  },
  {
   "cell_type": "code",
   "execution_count": 66,
   "id": "be1c0497",
   "metadata": {},
   "outputs": [
    {
     "name": "stderr",
     "output_type": "stream",
     "text": [
      "C:\\Users\\ITSC\\AppData\\Local\\Temp\\ipykernel_10052\\116752910.py:1: FutureWarning: The 'axis' keyword in DataFrame.groupby is deprecated and will be removed in a future version.\n",
      "  wd_df = seoul_df.iloc[:, [0, 10]].groupby(\"풍향\", axis = 0).mean()\n"
     ]
    }
   ],
   "source": [
    "wd_df = seoul_df.iloc[:, [0, 10]].groupby(\"풍향\", axis = 0).mean()"
   ]
  },
  {
   "cell_type": "code",
   "execution_count": 67,
   "id": "ef7c351d",
   "metadata": {},
   "outputs": [
    {
     "data": {
      "text/html": [
       "<div>\n",
       "<style scoped>\n",
       "    .dataframe tbody tr th:only-of-type {\n",
       "        vertical-align: middle;\n",
       "    }\n",
       "\n",
       "    .dataframe tbody tr th {\n",
       "        vertical-align: top;\n",
       "    }\n",
       "\n",
       "    .dataframe thead th {\n",
       "        text-align: right;\n",
       "    }\n",
       "</style>\n",
       "<table border=\"1\" class=\"dataframe\">\n",
       "  <thead>\n",
       "    <tr style=\"text-align: right;\">\n",
       "      <th></th>\n",
       "      <th>(PM10, 서울 서대문구)</th>\n",
       "    </tr>\n",
       "    <tr>\n",
       "      <th>풍향</th>\n",
       "      <th></th>\n",
       "    </tr>\n",
       "  </thead>\n",
       "  <tbody>\n",
       "    <tr>\n",
       "      <th>0</th>\n",
       "      <td>37.834594</td>\n",
       "    </tr>\n",
       "    <tr>\n",
       "      <th>30</th>\n",
       "      <td>36.410986</td>\n",
       "    </tr>\n",
       "    <tr>\n",
       "      <th>60</th>\n",
       "      <td>25.166073</td>\n",
       "    </tr>\n",
       "    <tr>\n",
       "      <th>90</th>\n",
       "      <td>30.437163</td>\n",
       "    </tr>\n",
       "    <tr>\n",
       "      <th>120</th>\n",
       "      <td>30.582196</td>\n",
       "    </tr>\n",
       "    <tr>\n",
       "      <th>150</th>\n",
       "      <td>34.528810</td>\n",
       "    </tr>\n",
       "    <tr>\n",
       "      <th>180</th>\n",
       "      <td>38.835378</td>\n",
       "    </tr>\n",
       "    <tr>\n",
       "      <th>210</th>\n",
       "      <td>43.283789</td>\n",
       "    </tr>\n",
       "    <tr>\n",
       "      <th>240</th>\n",
       "      <td>47.260176</td>\n",
       "    </tr>\n",
       "    <tr>\n",
       "      <th>270</th>\n",
       "      <td>45.428599</td>\n",
       "    </tr>\n",
       "    <tr>\n",
       "      <th>300</th>\n",
       "      <td>43.011580</td>\n",
       "    </tr>\n",
       "    <tr>\n",
       "      <th>330</th>\n",
       "      <td>40.663474</td>\n",
       "    </tr>\n",
       "  </tbody>\n",
       "</table>\n",
       "</div>"
      ],
      "text/plain": [
       "     (PM10, 서울 서대문구)\n",
       "풍향                  \n",
       "0          37.834594\n",
       "30         36.410986\n",
       "60         25.166073\n",
       "90         30.437163\n",
       "120        30.582196\n",
       "150        34.528810\n",
       "180        38.835378\n",
       "210        43.283789\n",
       "240        47.260176\n",
       "270        45.428599\n",
       "300        43.011580\n",
       "330        40.663474"
      ]
     },
     "execution_count": 67,
     "metadata": {},
     "output_type": "execute_result"
    }
   ],
   "source": [
    "wd_df"
   ]
  },
  {
   "cell_type": "code",
   "execution_count": 75,
   "id": "e6bb7675",
   "metadata": {},
   "outputs": [
    {
     "data": {
      "image/png": "[encoded data removed]",
      "text/plain": [
       "<Figure size 1500x800 with 1 Axes>"
      ]
     },
     "metadata": {},
     "output_type": "display_data"
    }
   ],
   "source": [
    "wd_df.plot(kind = \"bar\", figsize = (15, 8), width = 0.5, color = [\"sandybrown\"])\n",
    "\n",
    "plt.title(\"풍향에 따른 미세먼지 농도\", size = 24)\n",
    "plt.ylabel(\"미세먼지 수치\", size = 15)\n",
    "plt.xlabel(\"풍향\", size = 15)\n",
    "\n",
    "plt.show()"
   ]
  },
  {
   "cell_type": "code",
   "execution_count": null,
   "id": "69a0e2c4",
   "metadata": {},
   "outputs": [],
   "source": []
  },
  {
   "cell_type": "code",
   "execution_count": 124,
   "id": "facb9832",
   "metadata": {},
   "outputs": [
    {
     "data": {
      "text/html": [
       "<div>\n",
       "<style scoped>\n",
       "    .dataframe tbody tr th:only-of-type {\n",
       "        vertical-align: middle;\n",
       "    }\n",
       "\n",
       "    .dataframe tbody tr th {\n",
       "        vertical-align: top;\n",
       "    }\n",
       "\n",
       "    .dataframe thead th {\n",
       "        text-align: right;\n",
       "    }\n",
       "</style>\n",
       "<table border=\"1\" class=\"dataframe\">\n",
       "  <thead>\n",
       "    <tr style=\"text-align: right;\">\n",
       "      <th></th>\n",
       "      <th>(PM10, 서울 서대문구)</th>\n",
       "      <th>강수량</th>\n",
       "      <th>기온</th>\n",
       "      <th>습도</th>\n",
       "      <th>이슬점온도</th>\n",
       "      <th>증기압</th>\n",
       "      <th>지면온도</th>\n",
       "      <th>풍속</th>\n",
       "      <th>해면기압</th>\n",
       "      <th>현지기압</th>\n",
       "      <th>풍향</th>\n",
       "      <th>month</th>\n",
       "      <th>day</th>\n",
       "      <th>hour</th>\n",
       "      <th>강수여부</th>\n",
       "    </tr>\n",
       "    <tr>\n",
       "      <th>일시</th>\n",
       "      <th></th>\n",
       "      <th></th>\n",
       "      <th></th>\n",
       "      <th></th>\n",
       "      <th></th>\n",
       "      <th></th>\n",
       "      <th></th>\n",
       "      <th></th>\n",
       "      <th></th>\n",
       "      <th></th>\n",
       "      <th></th>\n",
       "      <th></th>\n",
       "      <th></th>\n",
       "      <th></th>\n",
       "      <th></th>\n",
       "    </tr>\n",
       "  </thead>\n",
       "  <tbody>\n",
       "    <tr>\n",
       "      <th>2015-01-01 03:00:00</th>\n",
       "      <td>63.7</td>\n",
       "      <td>0.0</td>\n",
       "      <td>-7.9</td>\n",
       "      <td>35.0</td>\n",
       "      <td>-20.73</td>\n",
       "      <td>1.2</td>\n",
       "      <td>-5.03</td>\n",
       "      <td>4.3</td>\n",
       "      <td>1023.07</td>\n",
       "      <td>1011.87</td>\n",
       "      <td>300</td>\n",
       "      <td>1</td>\n",
       "      <td>1</td>\n",
       "      <td>3</td>\n",
       "      <td>False</td>\n",
       "    </tr>\n",
       "    <tr>\n",
       "      <th>2015-01-01 06:00:00</th>\n",
       "      <td>113.3</td>\n",
       "      <td>0.0</td>\n",
       "      <td>-9.1</td>\n",
       "      <td>35.0</td>\n",
       "      <td>-21.60</td>\n",
       "      <td>1.1</td>\n",
       "      <td>-6.27</td>\n",
       "      <td>5.3</td>\n",
       "      <td>1023.37</td>\n",
       "      <td>1012.07</td>\n",
       "      <td>300</td>\n",
       "      <td>1</td>\n",
       "      <td>1</td>\n",
       "      <td>6</td>\n",
       "      <td>False</td>\n",
       "    </tr>\n",
       "    <tr>\n",
       "      <th>2015-01-01 09:00:00</th>\n",
       "      <td>135.0</td>\n",
       "      <td>0.0</td>\n",
       "      <td>-9.6</td>\n",
       "      <td>40.0</td>\n",
       "      <td>-20.60</td>\n",
       "      <td>1.2</td>\n",
       "      <td>-6.60</td>\n",
       "      <td>5.2</td>\n",
       "      <td>1024.40</td>\n",
       "      <td>1013.10</td>\n",
       "      <td>270</td>\n",
       "      <td>1</td>\n",
       "      <td>1</td>\n",
       "      <td>9</td>\n",
       "      <td>False</td>\n",
       "    </tr>\n",
       "    <tr>\n",
       "      <th>2015-01-01 12:00:00</th>\n",
       "      <td>85.0</td>\n",
       "      <td>0.0</td>\n",
       "      <td>-7.7</td>\n",
       "      <td>36.0</td>\n",
       "      <td>-20.33</td>\n",
       "      <td>1.2</td>\n",
       "      <td>-1.00</td>\n",
       "      <td>4.7</td>\n",
       "      <td>1025.43</td>\n",
       "      <td>1014.20</td>\n",
       "      <td>300</td>\n",
       "      <td>1</td>\n",
       "      <td>1</td>\n",
       "      <td>12</td>\n",
       "      <td>False</td>\n",
       "    </tr>\n",
       "    <tr>\n",
       "      <th>2015-01-01 15:00:00</th>\n",
       "      <td>44.7</td>\n",
       "      <td>0.0</td>\n",
       "      <td>-5.3</td>\n",
       "      <td>33.0</td>\n",
       "      <td>-18.93</td>\n",
       "      <td>1.4</td>\n",
       "      <td>0.63</td>\n",
       "      <td>5.4</td>\n",
       "      <td>1024.17</td>\n",
       "      <td>1013.07</td>\n",
       "      <td>300</td>\n",
       "      <td>1</td>\n",
       "      <td>1</td>\n",
       "      <td>15</td>\n",
       "      <td>False</td>\n",
       "    </tr>\n",
       "    <tr>\n",
       "      <th>...</th>\n",
       "      <td>...</td>\n",
       "      <td>...</td>\n",
       "      <td>...</td>\n",
       "      <td>...</td>\n",
       "      <td>...</td>\n",
       "      <td>...</td>\n",
       "      <td>...</td>\n",
       "      <td>...</td>\n",
       "      <td>...</td>\n",
       "      <td>...</td>\n",
       "      <td>...</td>\n",
       "      <td>...</td>\n",
       "      <td>...</td>\n",
       "      <td>...</td>\n",
       "      <td>...</td>\n",
       "    </tr>\n",
       "    <tr>\n",
       "      <th>2024-05-19 09:00:00</th>\n",
       "      <td>18.0</td>\n",
       "      <td>0.0</td>\n",
       "      <td>18.8</td>\n",
       "      <td>78.0</td>\n",
       "      <td>14.77</td>\n",
       "      <td>16.8</td>\n",
       "      <td>21.63</td>\n",
       "      <td>1.0</td>\n",
       "      <td>1016.30</td>\n",
       "      <td>1006.30</td>\n",
       "      <td>90</td>\n",
       "      <td>5</td>\n",
       "      <td>19</td>\n",
       "      <td>9</td>\n",
       "      <td>False</td>\n",
       "    </tr>\n",
       "    <tr>\n",
       "      <th>2024-05-19 12:00:00</th>\n",
       "      <td>17.0</td>\n",
       "      <td>0.0</td>\n",
       "      <td>24.0</td>\n",
       "      <td>55.0</td>\n",
       "      <td>14.30</td>\n",
       "      <td>16.3</td>\n",
       "      <td>33.70</td>\n",
       "      <td>1.8</td>\n",
       "      <td>1015.27</td>\n",
       "      <td>1005.43</td>\n",
       "      <td>240</td>\n",
       "      <td>5</td>\n",
       "      <td>19</td>\n",
       "      <td>12</td>\n",
       "      <td>False</td>\n",
       "    </tr>\n",
       "    <tr>\n",
       "      <th>2024-05-19 15:00:00</th>\n",
       "      <td>18.3</td>\n",
       "      <td>0.0</td>\n",
       "      <td>26.9</td>\n",
       "      <td>38.0</td>\n",
       "      <td>11.13</td>\n",
       "      <td>13.4</td>\n",
       "      <td>38.47</td>\n",
       "      <td>2.9</td>\n",
       "      <td>1013.43</td>\n",
       "      <td>1003.73</td>\n",
       "      <td>270</td>\n",
       "      <td>5</td>\n",
       "      <td>19</td>\n",
       "      <td>15</td>\n",
       "      <td>False</td>\n",
       "    </tr>\n",
       "    <tr>\n",
       "      <th>2024-05-19 18:00:00</th>\n",
       "      <td>24.7</td>\n",
       "      <td>0.0</td>\n",
       "      <td>26.4</td>\n",
       "      <td>43.0</td>\n",
       "      <td>12.63</td>\n",
       "      <td>14.7</td>\n",
       "      <td>31.73</td>\n",
       "      <td>3.2</td>\n",
       "      <td>1012.87</td>\n",
       "      <td>1003.13</td>\n",
       "      <td>270</td>\n",
       "      <td>5</td>\n",
       "      <td>19</td>\n",
       "      <td>18</td>\n",
       "      <td>False</td>\n",
       "    </tr>\n",
       "    <tr>\n",
       "      <th>2024-05-19 21:00:00</th>\n",
       "      <td>17.7</td>\n",
       "      <td>0.0</td>\n",
       "      <td>22.0</td>\n",
       "      <td>52.0</td>\n",
       "      <td>11.50</td>\n",
       "      <td>13.6</td>\n",
       "      <td>21.23</td>\n",
       "      <td>3.3</td>\n",
       "      <td>1014.10</td>\n",
       "      <td>1004.20</td>\n",
       "      <td>270</td>\n",
       "      <td>5</td>\n",
       "      <td>19</td>\n",
       "      <td>21</td>\n",
       "      <td>False</td>\n",
       "    </tr>\n",
       "  </tbody>\n",
       "</table>\n",
       "<p>27415 rows × 15 columns</p>\n",
       "</div>"
      ],
      "text/plain": [
       "                     (PM10, 서울 서대문구)  강수량    기온    습도  이슬점온도   증기압   지면온도  \\\n",
       "일시                                                                          \n",
       "2015-01-01 03:00:00             63.7  0.0  -7.9  35.0 -20.73   1.2  -5.03   \n",
       "2015-01-01 06:00:00            113.3  0.0  -9.1  35.0 -21.60   1.1  -6.27   \n",
       "2015-01-01 09:00:00            135.0  0.0  -9.6  40.0 -20.60   1.2  -6.60   \n",
       "2015-01-01 12:00:00             85.0  0.0  -7.7  36.0 -20.33   1.2  -1.00   \n",
       "2015-01-01 15:00:00             44.7  0.0  -5.3  33.0 -18.93   1.4   0.63   \n",
       "...                              ...  ...   ...   ...    ...   ...    ...   \n",
       "2024-05-19 09:00:00             18.0  0.0  18.8  78.0  14.77  16.8  21.63   \n",
       "2024-05-19 12:00:00             17.0  0.0  24.0  55.0  14.30  16.3  33.70   \n",
       "2024-05-19 15:00:00             18.3  0.0  26.9  38.0  11.13  13.4  38.47   \n",
       "2024-05-19 18:00:00             24.7  0.0  26.4  43.0  12.63  14.7  31.73   \n",
       "2024-05-19 21:00:00             17.7  0.0  22.0  52.0  11.50  13.6  21.23   \n",
       "\n",
       "                      풍속     해면기압     현지기압   풍향  month  day  hour   강수여부  \n",
       "일시                                                                        \n",
       "2015-01-01 03:00:00  4.3  1023.07  1011.87  300      1    1     3  False  \n",
       "2015-01-01 06:00:00  5.3  1023.37  1012.07  300      1    1     6  False  \n",
       "2015-01-01 09:00:00  5.2  1024.40  1013.10  270      1    1     9  False  \n",
       "2015-01-01 12:00:00  4.7  1025.43  1014.20  300      1    1    12  False  \n",
       "2015-01-01 15:00:00  5.4  1024.17  1013.07  300      1    1    15  False  \n",
       "...                  ...      ...      ...  ...    ...  ...   ...    ...  \n",
       "2024-05-19 09:00:00  1.0  1016.30  1006.30   90      5   19     9  False  \n",
       "2024-05-19 12:00:00  1.8  1015.27  1005.43  240      5   19    12  False  \n",
       "2024-05-19 15:00:00  2.9  1013.43  1003.73  270      5   19    15  False  \n",
       "2024-05-19 18:00:00  3.2  1012.87  1003.13  270      5   19    18  False  \n",
       "2024-05-19 21:00:00  3.3  1014.10  1004.20  270      5   19    21  False  \n",
       "\n",
       "[27415 rows x 15 columns]"
      ]
     },
     "execution_count": 124,
     "metadata": {},
     "output_type": "execute_result"
    }
   ],
   "source": [
    "seoul_df"
   ]
  },
  {
   "cell_type": "code",
   "execution_count": null,
   "id": "bcf177b0",
   "metadata": {},
   "outputs": [],
   "source": []
  },
  {
   "cell_type": "markdown",
   "id": "6cae16ee",
   "metadata": {},
   "source": [
    "#### 프로토타입 테스트 당시의 MSE값 시각화"
   ]
  },
  {
   "cell_type": "code",
   "execution_count": 129,
   "id": "673c2502",
   "metadata": {},
   "outputs": [],
   "source": [
    "# 프로토타입 테스트 당시의 MSE값\n",
    "step_test = [\n",
    "    [322, 314, 308],\n",
    "    [207, 226, 183],\n",
    "    [33, 49, 32],\n",
    "    [20, 41, 53],\n",
    "    [20, 13, 38],\n",
    "    [31, 24, 35],\n",
    "    [20, 20 ,29],\n",
    "    [34, 21, 14],\n",
    "    [13, 26, 26],\n",
    "    [17, 16, 22],\n",
    "    [9, 8, 10],\n",
    "    [14, 9, 13],\n",
    "    [12, 8, 8],\n",
    "    [16, 21, 13]\n",
    "]"
   ]
  },
  {
   "cell_type": "code",
   "execution_count": 132,
   "id": "ffc7bb50",
   "metadata": {},
   "outputs": [],
   "source": [
    "step_df = pd.DataFrame(step_test)"
   ]
  },
  {
   "cell_type": "code",
   "execution_count": 136,
   "id": "033d01ca",
   "metadata": {},
   "outputs": [],
   "source": [
    "step_df.index = range(4, 60, 4)"
   ]
  },
  {
   "cell_type": "code",
   "execution_count": 138,
   "id": "27b041ef",
   "metadata": {},
   "outputs": [],
   "source": [
    "steps = step_df.mean(axis = 1)"
   ]
  },
  {
   "cell_type": "code",
   "execution_count": 161,
   "id": "7c2f84d1",
   "metadata": {},
   "outputs": [
    {
     "data": {
      "image/png": "[encoded data removed]",
      "text/plain": [
       "<Figure size 640x480 with 1 Axes>"
      ]
     },
     "metadata": {},
     "output_type": "display_data"
    }
   ],
   "source": [
    "plt.plot(steps)\n",
    "plt.title(\"Steps 수에 따른 MSE 변화\", size = 15)\n",
    "plt.xlabel(\"Steps\", size = 12)\n",
    "plt.xticks(np.arange(4, 60, 4), size=10)\n",
    "\n",
    "# 강조 지점 (x=48)\n",
    "highlight_x = 48\n",
    "highlight_color = 'green'\n",
    "\n",
    "plt.annotate('', xy=(highlight_x, steps[12] - 10), xytext=(highlight_x, steps[12] + 10),\n",
    "            arrowprops=dict(facecolor=highlight_color, shrink=0.05))\n",
    "\n",
    "plt.ylabel(\"MSE\", size = 12)\n",
    "plt.show()"
   ]
  },
  {
   "cell_type": "code",
   "execution_count": null,
   "id": "f6201c02",
   "metadata": {},
   "outputs": [],
   "source": []
  },
  {
   "cell_type": "markdown",
   "id": "4760fff4",
   "metadata": {},
   "source": [
    "## 날짜에 따른 미세먼지 추세 분석"
   ]
  },
  {
   "cell_type": "code",
   "execution_count": 193,
   "id": "929d2a7d",
   "metadata": {},
   "outputs": [],
   "source": [
    "# 서울의 미세먼지 값만 있는 데이터프레임 생성\n",
    "seoul_dust = pm10_df.iloc[:, 4]"
   ]
  },
  {
   "cell_type": "code",
   "execution_count": 197,
   "id": "3f578d6a",
   "metadata": {},
   "outputs": [],
   "source": [
    "# 인덱스값 datetime 타입으로 변환\n",
    "seoul_dust.index = seoul_dust.index.map(lambda x: datetime.strptime(x, \"%Y-%m-%d %H:%M:%S\"))"
   ]
  },
  {
   "cell_type": "code",
   "execution_count": 200,
   "id": "65821bf5",
   "metadata": {},
   "outputs": [],
   "source": [
    "seoul_dust = pd.DataFrame(seoul_dust)"
   ]
  },
  {
   "cell_type": "code",
   "execution_count": 204,
   "id": "cfffb7cd",
   "metadata": {},
   "outputs": [],
   "source": [
    "weekday = [\"MON\", \"TUE\", \"WED\", \"THU\", \"FRI\", \"SAT\", \"SUN\"]"
   ]
  },
  {
   "cell_type": "code",
   "execution_count": 208,
   "id": "6cc0e789",
   "metadata": {},
   "outputs": [],
   "source": [
    "# 연 월 요일 시간 피처 생성\n",
    "seoul_dust[\"year\"] = seoul_dust.index.map(lambda x: x.year)\n",
    "seoul_dust[\"month\"] = seoul_dust.index.map(lambda x: x.month)\n",
    "seoul_dust[\"weekday\"] = seoul_dust.index.map(lambda x: weekday[x.weekday()])\n",
    "seoul_dust[\"hour\"] = seoul_dust.index.map(lambda x: x.hour)"
   ]
  },
  {
   "cell_type": "code",
   "execution_count": 214,
   "id": "465011d5",
   "metadata": {},
   "outputs": [],
   "source": [
    "seoul_dust.columns = [\"PM10\", \"Year\", \"Month\", \"Weekday\", \"Hour\"]"
   ]
  },
  {
   "cell_type": "code",
   "execution_count": null,
   "id": "cfdcca4a",
   "metadata": {},
   "outputs": [],
   "source": []
  },
  {
   "cell_type": "code",
   "execution_count": null,
   "id": "cbca761d",
   "metadata": {},
   "outputs": [],
   "source": []
  },
  {
   "cell_type": "markdown",
   "id": "769c3d01",
   "metadata": {},
   "source": [
    "### 시간에 따른 미세먼지 분석"
   ]
  },
  {
   "cell_type": "code",
   "execution_count": 234,
   "id": "883a9520",
   "metadata": {},
   "outputs": [
    {
     "name": "stderr",
     "output_type": "stream",
     "text": [
      "C:\\Users\\ITSC\\AppData\\Local\\Temp\\ipykernel_10052\\1785128067.py:1: FutureWarning: The 'axis' keyword in DataFrame.groupby is deprecated and will be removed in a future version.\n",
      "  hour_df = seoul_dust.groupby(\"Hour\", axis = 0).mean(numeric_only = True).iloc[:, 0]\n"
     ]
    }
   ],
   "source": [
    "hour_df = seoul_dust.groupby(\"Hour\", axis = 0).mean(numeric_only = True).iloc[:, 0]"
   ]
  },
  {
   "cell_type": "code",
   "execution_count": 235,
   "id": "08258e92",
   "metadata": {},
   "outputs": [
    {
     "data": {
      "text/plain": [
       "Hour\n",
       "0     39.054009\n",
       "3     36.752654\n",
       "6     35.215028\n",
       "9     36.809785\n",
       "12    40.713992\n",
       "15    40.972297\n",
       "18    41.465403\n",
       "21    40.044934\n",
       "Name: PM10, dtype: float64"
      ]
     },
     "execution_count": 235,
     "metadata": {},
     "output_type": "execute_result"
    }
   ],
   "source": [
    "hour_df"
   ]
  },
  {
   "cell_type": "code",
   "execution_count": 274,
   "id": "45ae42ef",
   "metadata": {},
   "outputs": [
    {
     "data": {
      "image/png": "[encoded data removed]",
      "text/plain": [
       "<Figure size 1500x800 with 1 Axes>"
      ]
     },
     "metadata": {},
     "output_type": "display_data"
    }
   ],
   "source": [
    "hour_df.plot(kind = \"bar\", figsize = (15, 8), width = 0.5, color = [\"sandybrown\"])\n",
    "\n",
    "plt.title(\"시간대별 미세먼지 농도\", size = 24)\n",
    "plt.ylabel(\"미세먼지 수치\", size = 15)\n",
    "plt.xlabel(\"시간\", size = 15)\n",
    "plt.yticks(size = 12)\n",
    "plt.xticks(size = 12)\n",
    "\n",
    "plt.show()"
   ]
  },
  {
   "cell_type": "code",
   "execution_count": null,
   "id": "483a8be2",
   "metadata": {},
   "outputs": [],
   "source": []
  },
  {
   "cell_type": "markdown",
   "id": "1f3dc64c",
   "metadata": {},
   "source": [
    "### 요일에 따른 미세먼지 분석"
   ]
  },
  {
   "cell_type": "code",
   "execution_count": 230,
   "id": "1a279e73",
   "metadata": {},
   "outputs": [
    {
     "name": "stderr",
     "output_type": "stream",
     "text": [
      "C:\\Users\\ITSC\\AppData\\Local\\Temp\\ipykernel_10052\\1994721454.py:1: FutureWarning: The 'axis' keyword in DataFrame.groupby is deprecated and will be removed in a future version.\n",
      "  weekday_df = seoul_dust.groupby(\"Weekday\", axis = 0).mean().iloc[:, 0]\n"
     ]
    }
   ],
   "source": [
    "weekday_df = seoul_dust.groupby(\"Weekday\", axis = 0).mean().iloc[:, 0]"
   ]
  },
  {
   "cell_type": "code",
   "execution_count": 231,
   "id": "c5e4e364",
   "metadata": {},
   "outputs": [
    {
     "data": {
      "text/plain": [
       "Weekday\n",
       "FRI    39.481183\n",
       "MON    39.399058\n",
       "SAT    40.272827\n",
       "SUN    37.450117\n",
       "THU    38.148818\n",
       "TUE    38.665024\n",
       "WED    38.732575\n",
       "Name: PM10, dtype: float64"
      ]
     },
     "execution_count": 231,
     "metadata": {},
     "output_type": "execute_result"
    }
   ],
   "source": [
    "weekday_df"
   ]
  },
  {
   "cell_type": "code",
   "execution_count": 232,
   "id": "dc07c7a7",
   "metadata": {},
   "outputs": [
    {
     "name": "stderr",
     "output_type": "stream",
     "text": [
      "C:\\Users\\ITSC\\AppData\\Local\\Temp\\ipykernel_10052\\3312708364.py:1: FutureWarning: Series.__getitem__ treating keys as positions is deprecated. In a future version, integer keys will always be treated as labels (consistent with DataFrame behavior). To access a value by position, use `ser.iloc[pos]`\n",
      "  weekday_df = weekday_df[[1, 5, 6, 4, 0, 2, 3]]\n"
     ]
    }
   ],
   "source": [
    "weekday_df = weekday_df[[1, 5, 6, 4, 0, 2, 3]]"
   ]
  },
  {
   "cell_type": "code",
   "execution_count": 233,
   "id": "8959292c",
   "metadata": {},
   "outputs": [
    {
     "data": {
      "text/plain": [
       "Weekday\n",
       "MON    39.399058\n",
       "TUE    38.665024\n",
       "WED    38.732575\n",
       "THU    38.148818\n",
       "FRI    39.481183\n",
       "SAT    40.272827\n",
       "SUN    37.450117\n",
       "Name: PM10, dtype: float64"
      ]
     },
     "execution_count": 233,
     "metadata": {},
     "output_type": "execute_result"
    }
   ],
   "source": [
    "weekday_df"
   ]
  },
  {
   "cell_type": "code",
   "execution_count": 275,
   "id": "8b97c859",
   "metadata": {},
   "outputs": [
    {
     "data": {
      "image/png": "[encoded data removed]",
      "text/plain": [
       "<Figure size 1500x800 with 1 Axes>"
      ]
     },
     "metadata": {},
     "output_type": "display_data"
    }
   ],
   "source": [
    "weekday_df.plot(kind = \"bar\", figsize = (15, 8), width = 0.5, color = [\"sandybrown\"])\n",
    "\n",
    "plt.title(\"요일별 미세먼지 농도\", size = 24)\n",
    "plt.ylabel(\"미세먼지 수치\", size = 15)\n",
    "plt.xlabel(\"요일\", size = 15)\n",
    "plt.yticks(size = 12)\n",
    "plt.xticks(size = 12)\n",
    "\n",
    "plt.show()"
   ]
  },
  {
   "cell_type": "code",
   "execution_count": null,
   "id": "3ca47a72",
   "metadata": {},
   "outputs": [],
   "source": []
  },
  {
   "cell_type": "markdown",
   "id": "92c0aca4",
   "metadata": {},
   "source": [
    "### 월별 미세먼지 분석"
   ]
  },
  {
   "cell_type": "code",
   "execution_count": 241,
   "id": "098c2679",
   "metadata": {},
   "outputs": [
    {
     "name": "stderr",
     "output_type": "stream",
     "text": [
      "C:\\Users\\ITSC\\AppData\\Local\\Temp\\ipykernel_10052\\209653793.py:1: FutureWarning: The 'axis' keyword in DataFrame.groupby is deprecated and will be removed in a future version.\n",
      "  month_df = seoul_dust.groupby(\"Month\", axis = 0).mean(numeric_only = True).iloc[:, 0]\n"
     ]
    }
   ],
   "source": [
    "month_df = seoul_dust.groupby(\"Month\", axis = 0).mean(numeric_only = True).iloc[:, 0]"
   ]
  },
  {
   "cell_type": "code",
   "execution_count": 242,
   "id": "d68abf71",
   "metadata": {},
   "outputs": [
    {
     "data": {
      "text/plain": [
       "Month\n",
       "1     47.052185\n",
       "2     48.465419\n",
       "3     58.461316\n",
       "4     50.946491\n",
       "5     46.990482\n",
       "6     33.451508\n",
       "7     24.001394\n",
       "8     21.843635\n",
       "9     21.647601\n",
       "10    29.159424\n",
       "11    38.892360\n",
       "12    40.708314\n",
       "Name: PM10, dtype: float64"
      ]
     },
     "execution_count": 242,
     "metadata": {},
     "output_type": "execute_result"
    }
   ],
   "source": [
    "month_df"
   ]
  },
  {
   "cell_type": "code",
   "execution_count": 276,
   "id": "3b0a5b31",
   "metadata": {},
   "outputs": [
    {
     "data": {
      "image/png": "[encoded data removed]",
      "text/plain": [
       "<Figure size 1500x800 with 1 Axes>"
      ]
     },
     "metadata": {},
     "output_type": "display_data"
    }
   ],
   "source": [
    "month_df.plot(kind = \"bar\", figsize = (15, 8), width = 0.5, color = [\"sandybrown\"])\n",
    "\n",
    "plt.title(\"월별 미세먼지 농도\", size = 24)\n",
    "plt.ylabel(\"미세먼지 수치\", size = 15)\n",
    "plt.xlabel(\"월\", size = 15)\n",
    "plt.yticks(size = 12)\n",
    "plt.xticks(size = 12)\n",
    "\n",
    "plt.show()"
   ]
  },
  {
   "cell_type": "code",
   "execution_count": null,
   "id": "f98b4c38",
   "metadata": {},
   "outputs": [],
   "source": []
  },
  {
   "cell_type": "markdown",
   "id": "60979a5e",
   "metadata": {},
   "source": [
    "### 미세먼지 변화 추이"
   ]
  },
  {
   "cell_type": "code",
   "execution_count": 246,
   "id": "3127a25c",
   "metadata": {},
   "outputs": [
    {
     "name": "stderr",
     "output_type": "stream",
     "text": [
      "C:\\Users\\ITSC\\AppData\\Local\\Temp\\ipykernel_10052\\3289330543.py:1: FutureWarning: The 'axis' keyword in DataFrame.groupby is deprecated and will be removed in a future version.\n",
      "  yearmonth_df = seoul_dust.groupby([\"Year\", \"Month\"], axis = 0).mean(numeric_only = True).iloc[:, 0]\n"
     ]
    }
   ],
   "source": [
    "yearmonth_df = seoul_dust.groupby([\"Year\", \"Month\"], axis = 0).mean(numeric_only = True).iloc[:, 0]"
   ]
  },
  {
   "cell_type": "code",
   "execution_count": 247,
   "id": "33b7d30f",
   "metadata": {},
   "outputs": [
    {
     "name": "stderr",
     "output_type": "stream",
     "text": [
      "C:\\Users\\ITSC\\AppData\\Local\\Temp\\ipykernel_10052\\1475714588.py:1: FutureWarning: The 'axis' keyword in DataFrame.groupby is deprecated and will be removed in a future version.\n",
      "  year_df = seoul_dust.groupby(\"Year\", axis = 0).mean(numeric_only = True).iloc[:, 0]\n"
     ]
    }
   ],
   "source": [
    "year_df = seoul_dust.groupby(\"Year\", axis = 0).mean(numeric_only = True).iloc[:, 0]"
   ]
  },
  {
   "cell_type": "code",
   "execution_count": 262,
   "id": "84bf05fb",
   "metadata": {},
   "outputs": [
    {
     "data": {
      "image/png": "[encoded data removed]",
      "text/plain": [
       "<Figure size 1500x800 with 1 Axes>"
      ]
     },
     "metadata": {},
     "output_type": "display_data"
    }
   ],
   "source": [
    "# 연/월 별로 미세먼지 농도 평균 시각화\n",
    "yearmonth_df.plot(kind = \"line\", figsize = (15, 8), color = [\"sandybrown\"])\n",
    "\n",
    "plt.title(\"미세먼지 농도 변화 추이\", size = 24)\n",
    "plt.ylabel(\"미세먼지 수치\", size = 15)\n",
    "plt.xlabel(\"월\", size = 15)\n",
    "\n",
    "plt.show()"
   ]
  },
  {
   "cell_type": "markdown",
   "id": "9780e65e",
   "metadata": {},
   "source": [
    "- 계절간의 변동은 크게 눈에 띄지만 연간 변화를 나타내기엔 아쉬움"
   ]
  },
  {
   "cell_type": "code",
   "execution_count": 278,
   "id": "e37aba77",
   "metadata": {},
   "outputs": [
    {
     "data": {
      "image/png": "[encoded data removed]",
      "text/plain": [
       "<Figure size 1500x800 with 1 Axes>"
      ]
     },
     "metadata": {},
     "output_type": "display_data"
    }
   ],
   "source": [
    "# 연도별 미세먼지 평균 농도 시각화\n",
    "year_df.plot(kind = \"bar\", figsize = (15, 8), width = 0.5, color = [\"sandybrown\"])\n",
    "\n",
    "plt.title(\"년도별 미세먼지 농도\", size = 24)\n",
    "plt.ylabel(\"미세먼지 수치\", size = 15)\n",
    "plt.xlabel(\"요일\", size = 15)\n",
    "plt.yticks(size = 12)\n",
    "plt.xticks(size = 12, rotation = 45)\n",
    "\n",
    "plt.show()"
   ]
  },
  {
   "cell_type": "code",
   "execution_count": null,
   "id": "4691c255",
   "metadata": {},
   "outputs": [],
   "source": []
  }
 ],
 "metadata": {
  "kernelspec": {
   "display_name": "Python 3 (ipykernel)",
   "language": "python",
   "name": "python3"
  },
  "language_info": {
   "codemirror_mode": {
    "name": "ipython",
    "version": 3
   },
   "file_extension": ".py",
   "mimetype": "text/x-python",
   "name": "python",
   "nbconvert_exporter": "python",
   "pygments_lexer": "ipython3",
   "version": "3.11.7"
  }
 },
 "nbformat": 4,
 "nbformat_minor": 5
}
