{
 "cells": [
  {
   "cell_type": "code",
   "execution_count": 1,
   "id": "d7732795",
   "metadata": {},
   "outputs": [],
   "source": [
    "import pandas as pd\n",
    "import numpy as np\n",
    "from sklearn.ensemble import RandomForestRegressor, GradientBoostingRegressor"
   ]
  },
  {
   "cell_type": "code",
   "execution_count": 2,
   "id": "db5357c4",
   "metadata": {},
   "outputs": [],
   "source": [
    "# 데이터프레임 읽기\n",
    "df = pd.read_csv(\"./pm10_final_v4.csv\", index_col = 0)"
   ]
  },
  {
   "cell_type": "code",
   "execution_count": 3,
   "id": "12112238",
   "metadata": {},
   "outputs": [
    {
     "data": {
      "text/html": [
       "<div>\n",
       "<style scoped>\n",
       "    .dataframe tbody tr th:only-of-type {\n",
       "        vertical-align: middle;\n",
       "    }\n",
       "\n",
       "    .dataframe tbody tr th {\n",
       "        vertical-align: top;\n",
       "    }\n",
       "\n",
       "    .dataframe thead th {\n",
       "        text-align: right;\n",
       "    }\n",
       "</style>\n",
       "<table border=\"1\" class=\"dataframe\">\n",
       "  <thead>\n",
       "    <tr style=\"text-align: right;\">\n",
       "      <th></th>\n",
       "      <th>('PM10', '강원 강릉시')</th>\n",
       "      <th>('PM10', '광주 북구')</th>\n",
       "      <th>('PM10', '대전 중구')</th>\n",
       "      <th>('PM10', '부산 해운대구')</th>\n",
       "      <th>('PM10', '서울 서대문구')</th>\n",
       "      <th>('강수량', '90')</th>\n",
       "      <th>('강수량', '101')</th>\n",
       "      <th>('강수량', '102')</th>\n",
       "      <th>('강수량', '105')</th>\n",
       "      <th>('강수량', '108')</th>\n",
       "      <th>...</th>\n",
       "      <th>Passenger Traffic of Highways Current Period(10000 persons)</th>\n",
       "      <th>Passenger Traffic of Waterways Current Period(10000 persons)</th>\n",
       "      <th>Freight Traffic Current Period(10000 tons)</th>\n",
       "      <th>Freight Traffic of Railways Current Period(10000 tons)</th>\n",
       "      <th>Freight Traffic of Highways Current Period(10000 tons)</th>\n",
       "      <th>Freight Traffic of Waterways Current Period(10000 tons)</th>\n",
       "      <th>Manufacturing Purchasing Managers'' Index(%)</th>\n",
       "      <th>cn_a50</th>\n",
       "      <th>cn_szse</th>\n",
       "      <th>cn_sha</th>\n",
       "    </tr>\n",
       "  </thead>\n",
       "  <tbody>\n",
       "    <tr>\n",
       "      <th>2015-01-01 03:00:00</th>\n",
       "      <td>35.0</td>\n",
       "      <td>21.7</td>\n",
       "      <td>33.3</td>\n",
       "      <td>18.7</td>\n",
       "      <td>63.7</td>\n",
       "      <td>0.0</td>\n",
       "      <td>0.0</td>\n",
       "      <td>0.0</td>\n",
       "      <td>0.0</td>\n",
       "      <td>0.0</td>\n",
       "      <td>...</td>\n",
       "      <td>150028.0</td>\n",
       "      <td>1483.0</td>\n",
       "      <td>364076.0</td>\n",
       "      <td>31253.0</td>\n",
       "      <td>283653.0</td>\n",
       "      <td>49119.0</td>\n",
       "      <td>49.8</td>\n",
       "      <td>11860.36</td>\n",
       "      <td>11520.59</td>\n",
       "      <td>3350.52</td>\n",
       "    </tr>\n",
       "    <tr>\n",
       "      <th>2015-01-01 06:00:00</th>\n",
       "      <td>45.3</td>\n",
       "      <td>21.0</td>\n",
       "      <td>61.3</td>\n",
       "      <td>19.0</td>\n",
       "      <td>113.3</td>\n",
       "      <td>0.0</td>\n",
       "      <td>0.0</td>\n",
       "      <td>0.0</td>\n",
       "      <td>0.0</td>\n",
       "      <td>0.0</td>\n",
       "      <td>...</td>\n",
       "      <td>150028.0</td>\n",
       "      <td>1483.0</td>\n",
       "      <td>364076.0</td>\n",
       "      <td>31253.0</td>\n",
       "      <td>283653.0</td>\n",
       "      <td>49119.0</td>\n",
       "      <td>49.8</td>\n",
       "      <td>11860.36</td>\n",
       "      <td>11520.59</td>\n",
       "      <td>3350.52</td>\n",
       "    </tr>\n",
       "    <tr>\n",
       "      <th>2015-01-01 09:00:00</th>\n",
       "      <td>56.3</td>\n",
       "      <td>21.7</td>\n",
       "      <td>95.0</td>\n",
       "      <td>28.3</td>\n",
       "      <td>135.0</td>\n",
       "      <td>0.0</td>\n",
       "      <td>0.0</td>\n",
       "      <td>0.0</td>\n",
       "      <td>0.0</td>\n",
       "      <td>0.0</td>\n",
       "      <td>...</td>\n",
       "      <td>150028.0</td>\n",
       "      <td>1483.0</td>\n",
       "      <td>364076.0</td>\n",
       "      <td>31253.0</td>\n",
       "      <td>283653.0</td>\n",
       "      <td>49119.0</td>\n",
       "      <td>49.8</td>\n",
       "      <td>11860.36</td>\n",
       "      <td>11520.59</td>\n",
       "      <td>3350.52</td>\n",
       "    </tr>\n",
       "    <tr>\n",
       "      <th>2015-01-01 12:00:00</th>\n",
       "      <td>68.7</td>\n",
       "      <td>41.0</td>\n",
       "      <td>124.0</td>\n",
       "      <td>53.5</td>\n",
       "      <td>85.0</td>\n",
       "      <td>0.0</td>\n",
       "      <td>0.0</td>\n",
       "      <td>0.0</td>\n",
       "      <td>0.0</td>\n",
       "      <td>0.0</td>\n",
       "      <td>...</td>\n",
       "      <td>150028.0</td>\n",
       "      <td>1483.0</td>\n",
       "      <td>364076.0</td>\n",
       "      <td>31253.0</td>\n",
       "      <td>283653.0</td>\n",
       "      <td>49119.0</td>\n",
       "      <td>49.8</td>\n",
       "      <td>11860.36</td>\n",
       "      <td>11520.59</td>\n",
       "      <td>3350.52</td>\n",
       "    </tr>\n",
       "    <tr>\n",
       "      <th>2015-01-01 15:00:00</th>\n",
       "      <td>88.3</td>\n",
       "      <td>70.3</td>\n",
       "      <td>56.3</td>\n",
       "      <td>54.3</td>\n",
       "      <td>44.7</td>\n",
       "      <td>0.0</td>\n",
       "      <td>0.0</td>\n",
       "      <td>0.0</td>\n",
       "      <td>0.0</td>\n",
       "      <td>0.0</td>\n",
       "      <td>...</td>\n",
       "      <td>150028.0</td>\n",
       "      <td>1483.0</td>\n",
       "      <td>364076.0</td>\n",
       "      <td>31253.0</td>\n",
       "      <td>283653.0</td>\n",
       "      <td>49119.0</td>\n",
       "      <td>49.8</td>\n",
       "      <td>11860.36</td>\n",
       "      <td>11520.59</td>\n",
       "      <td>3350.52</td>\n",
       "    </tr>\n",
       "  </tbody>\n",
       "</table>\n",
       "<p>5 rows × 2488 columns</p>\n",
       "</div>"
      ],
      "text/plain": [
       "                     ('PM10', '강원 강릉시')  ('PM10', '광주 북구')  ('PM10', '대전 중구')  \\\n",
       "2015-01-01 03:00:00                35.0               21.7               33.3   \n",
       "2015-01-01 06:00:00                45.3               21.0               61.3   \n",
       "2015-01-01 09:00:00                56.3               21.7               95.0   \n",
       "2015-01-01 12:00:00                68.7               41.0              124.0   \n",
       "2015-01-01 15:00:00                88.3               70.3               56.3   \n",
       "\n",
       "                     ('PM10', '부산 해운대구')  ('PM10', '서울 서대문구')  ('강수량', '90')  \\\n",
       "2015-01-01 03:00:00                 18.7                 63.7            0.0   \n",
       "2015-01-01 06:00:00                 19.0                113.3            0.0   \n",
       "2015-01-01 09:00:00                 28.3                135.0            0.0   \n",
       "2015-01-01 12:00:00                 53.5                 85.0            0.0   \n",
       "2015-01-01 15:00:00                 54.3                 44.7            0.0   \n",
       "\n",
       "                     ('강수량', '101')  ('강수량', '102')  ('강수량', '105')  \\\n",
       "2015-01-01 03:00:00             0.0             0.0             0.0   \n",
       "2015-01-01 06:00:00             0.0             0.0             0.0   \n",
       "2015-01-01 09:00:00             0.0             0.0             0.0   \n",
       "2015-01-01 12:00:00             0.0             0.0             0.0   \n",
       "2015-01-01 15:00:00             0.0             0.0             0.0   \n",
       "\n",
       "                     ('강수량', '108')  ...  \\\n",
       "2015-01-01 03:00:00             0.0  ...   \n",
       "2015-01-01 06:00:00             0.0  ...   \n",
       "2015-01-01 09:00:00             0.0  ...   \n",
       "2015-01-01 12:00:00             0.0  ...   \n",
       "2015-01-01 15:00:00             0.0  ...   \n",
       "\n",
       "                     Passenger Traffic of Highways Current Period(10000 persons)  \\\n",
       "2015-01-01 03:00:00                                           150028.0             \n",
       "2015-01-01 06:00:00                                           150028.0             \n",
       "2015-01-01 09:00:00                                           150028.0             \n",
       "2015-01-01 12:00:00                                           150028.0             \n",
       "2015-01-01 15:00:00                                           150028.0             \n",
       "\n",
       "                     Passenger Traffic of Waterways Current Period(10000 persons)  \\\n",
       "2015-01-01 03:00:00                                             1483.0              \n",
       "2015-01-01 06:00:00                                             1483.0              \n",
       "2015-01-01 09:00:00                                             1483.0              \n",
       "2015-01-01 12:00:00                                             1483.0              \n",
       "2015-01-01 15:00:00                                             1483.0              \n",
       "\n",
       "                     Freight Traffic Current Period(10000 tons)  \\\n",
       "2015-01-01 03:00:00                                    364076.0   \n",
       "2015-01-01 06:00:00                                    364076.0   \n",
       "2015-01-01 09:00:00                                    364076.0   \n",
       "2015-01-01 12:00:00                                    364076.0   \n",
       "2015-01-01 15:00:00                                    364076.0   \n",
       "\n",
       "                     Freight Traffic of Railways Current Period(10000 tons)  \\\n",
       "2015-01-01 03:00:00                                            31253.0        \n",
       "2015-01-01 06:00:00                                            31253.0        \n",
       "2015-01-01 09:00:00                                            31253.0        \n",
       "2015-01-01 12:00:00                                            31253.0        \n",
       "2015-01-01 15:00:00                                            31253.0        \n",
       "\n",
       "                     Freight Traffic of Highways Current Period(10000 tons)  \\\n",
       "2015-01-01 03:00:00                                           283653.0        \n",
       "2015-01-01 06:00:00                                           283653.0        \n",
       "2015-01-01 09:00:00                                           283653.0        \n",
       "2015-01-01 12:00:00                                           283653.0        \n",
       "2015-01-01 15:00:00                                           283653.0        \n",
       "\n",
       "                     Freight Traffic of Waterways Current Period(10000 tons)  \\\n",
       "2015-01-01 03:00:00                                            49119.0         \n",
       "2015-01-01 06:00:00                                            49119.0         \n",
       "2015-01-01 09:00:00                                            49119.0         \n",
       "2015-01-01 12:00:00                                            49119.0         \n",
       "2015-01-01 15:00:00                                            49119.0         \n",
       "\n",
       "                     Manufacturing Purchasing Managers'' Index(%)    cn_a50  \\\n",
       "2015-01-01 03:00:00                                          49.8  11860.36   \n",
       "2015-01-01 06:00:00                                          49.8  11860.36   \n",
       "2015-01-01 09:00:00                                          49.8  11860.36   \n",
       "2015-01-01 12:00:00                                          49.8  11860.36   \n",
       "2015-01-01 15:00:00                                          49.8  11860.36   \n",
       "\n",
       "                      cn_szse   cn_sha  \n",
       "2015-01-01 03:00:00  11520.59  3350.52  \n",
       "2015-01-01 06:00:00  11520.59  3350.52  \n",
       "2015-01-01 09:00:00  11520.59  3350.52  \n",
       "2015-01-01 12:00:00  11520.59  3350.52  \n",
       "2015-01-01 15:00:00  11520.59  3350.52  \n",
       "\n",
       "[5 rows x 2488 columns]"
      ]
     },
     "execution_count": 3,
     "metadata": {},
     "output_type": "execute_result"
    }
   ],
   "source": [
    "df.head()"
   ]
  },
  {
   "cell_type": "code",
   "execution_count": 4,
   "id": "db58cefb",
   "metadata": {},
   "outputs": [],
   "source": [
    "# 결측치 컬럼 제거\n",
    "df = df.dropna()"
   ]
  },
  {
   "cell_type": "code",
   "execution_count": null,
   "id": "44426400",
   "metadata": {},
   "outputs": [],
   "source": []
  },
  {
   "cell_type": "markdown",
   "id": "ef5cc03f",
   "metadata": {},
   "source": [
    "### 독립변수와 각 지역별 종속변수 분리"
   ]
  },
  {
   "cell_type": "code",
   "execution_count": 5,
   "id": "3a8c243c",
   "metadata": {},
   "outputs": [],
   "source": [
    "x = df.drop([\"('PM10', '강원 강릉시')\", \"('PM10', '광주 북구')\", \"('PM10', '대전 중구')\", \n",
    "             \"('PM10', '부산 해운대구')\", \"('PM10', '서울 서대문구')\"], axis = 1)\n",
    "# 각 지점의 미세먼지 수치를 종속변수로 설정\n",
    "y1 = df[\"('PM10', '서울 서대문구')\"]\n",
    "y2 = df[\"('PM10', '부산 해운대구')\"]\n",
    "y3 = df[\"('PM10', '광주 북구')\"]\n",
    "y4 = df[\"('PM10', '대전 중구')\"]\n",
    "y5 = df[\"('PM10', '강원 강릉시')\"]"
   ]
  },
  {
   "cell_type": "code",
   "execution_count": null,
   "id": "ee925d4d",
   "metadata": {},
   "outputs": [],
   "source": []
  },
  {
   "cell_type": "markdown",
   "id": "93eafc89",
   "metadata": {},
   "source": [
    "### 랜덤포레스트 시도"
   ]
  },
  {
   "cell_type": "code",
   "execution_count": 6,
   "id": "2cfa70e4",
   "metadata": {},
   "outputs": [],
   "source": [
    "# 5개의 지점을 별도로 학습할 5개의 랜덤포레스트리그레서 생성\n",
    "rf1 = RandomForestRegressor(n_jobs = -1, random_state = 10)\n",
    "rf2 = RandomForestRegressor(n_jobs = -1, random_state = 10)\n",
    "rf3 = RandomForestRegressor(n_jobs = -1, random_state = 10)\n",
    "rf4 = RandomForestRegressor(n_jobs = -1, random_state = 10)\n",
    "rf5 = RandomForestRegressor(n_jobs = -1, random_state = 10)"
   ]
  },
  {
   "cell_type": "code",
   "execution_count": 7,
   "id": "fe0dd8df",
   "metadata": {},
   "outputs": [
    {
     "data": {
      "text/html": [
       "<style>#sk-container-id-1 {color: black;background-color: white;}#sk-container-id-1 pre{padding: 0;}#sk-container-id-1 div.sk-toggleable {background-color: white;}#sk-container-id-1 label.sk-toggleable__label {cursor: pointer;display: block;width: 100%;margin-bottom: 0;padding: 0.3em;box-sizing: border-box;text-align: center;}#sk-container-id-1 label.sk-toggleable__label-arrow:before {content: \"▸\";float: left;margin-right: 0.25em;color: #696969;}#sk-container-id-1 label.sk-toggleable__label-arrow:hover:before {color: black;}#sk-container-id-1 div.sk-estimator:hover label.sk-toggleable__label-arrow:before {color: black;}#sk-container-id-1 div.sk-toggleable__content {max-height: 0;max-width: 0;overflow: hidden;text-align: left;background-color: #f0f8ff;}#sk-container-id-1 div.sk-toggleable__content pre {margin: 0.2em;color: black;border-radius: 0.25em;background-color: #f0f8ff;}#sk-container-id-1 input.sk-toggleable__control:checked~div.sk-toggleable__content {max-height: 200px;max-width: 100%;overflow: auto;}#sk-container-id-1 input.sk-toggleable__control:checked~label.sk-toggleable__label-arrow:before {content: \"▾\";}#sk-container-id-1 div.sk-estimator input.sk-toggleable__control:checked~label.sk-toggleable__label {background-color: #d4ebff;}#sk-container-id-1 div.sk-label input.sk-toggleable__control:checked~label.sk-toggleable__label {background-color: #d4ebff;}#sk-container-id-1 input.sk-hidden--visually {border: 0;clip: rect(1px 1px 1px 1px);clip: rect(1px, 1px, 1px, 1px);height: 1px;margin: -1px;overflow: hidden;padding: 0;position: absolute;width: 1px;}#sk-container-id-1 div.sk-estimator {font-family: monospace;background-color: #f0f8ff;border: 1px dotted black;border-radius: 0.25em;box-sizing: border-box;margin-bottom: 0.5em;}#sk-container-id-1 div.sk-estimator:hover {background-color: #d4ebff;}#sk-container-id-1 div.sk-parallel-item::after {content: \"\";width: 100%;border-bottom: 1px solid gray;flex-grow: 1;}#sk-container-id-1 div.sk-label:hover label.sk-toggleable__label {background-color: #d4ebff;}#sk-container-id-1 div.sk-serial::before {content: \"\";position: absolute;border-left: 1px solid gray;box-sizing: border-box;top: 0;bottom: 0;left: 50%;z-index: 0;}#sk-container-id-1 div.sk-serial {display: flex;flex-direction: column;align-items: center;background-color: white;padding-right: 0.2em;padding-left: 0.2em;position: relative;}#sk-container-id-1 div.sk-item {position: relative;z-index: 1;}#sk-container-id-1 div.sk-parallel {display: flex;align-items: stretch;justify-content: center;background-color: white;position: relative;}#sk-container-id-1 div.sk-item::before, #sk-container-id-1 div.sk-parallel-item::before {content: \"\";position: absolute;border-left: 1px solid gray;box-sizing: border-box;top: 0;bottom: 0;left: 50%;z-index: -1;}#sk-container-id-1 div.sk-parallel-item {display: flex;flex-direction: column;z-index: 1;position: relative;background-color: white;}#sk-container-id-1 div.sk-parallel-item:first-child::after {align-self: flex-end;width: 50%;}#sk-container-id-1 div.sk-parallel-item:last-child::after {align-self: flex-start;width: 50%;}#sk-container-id-1 div.sk-parallel-item:only-child::after {width: 0;}#sk-container-id-1 div.sk-dashed-wrapped {border: 1px dashed gray;margin: 0 0.4em 0.5em 0.4em;box-sizing: border-box;padding-bottom: 0.4em;background-color: white;}#sk-container-id-1 div.sk-label label {font-family: monospace;font-weight: bold;display: inline-block;line-height: 1.2em;}#sk-container-id-1 div.sk-label-container {text-align: center;}#sk-container-id-1 div.sk-container {/* jupyter's `normalize.less` sets `[hidden] { display: none; }` but bootstrap.min.css set `[hidden] { display: none !important; }` so we also need the `!important` here to be able to override the default hidden behavior on the sphinx rendered scikit-learn.org. See: https://github.com/scikit-learn/scikit-learn/issues/21755 */display: inline-block !important;position: relative;}#sk-container-id-1 div.sk-text-repr-fallback {display: none;}</style><div id=\"sk-container-id-1\" class=\"sk-top-container\"><div class=\"sk-text-repr-fallback\"><pre>RandomForestRegressor(n_jobs=-1, random_state=10)</pre><b>In a Jupyter environment, please rerun this cell to show the HTML representation or trust the notebook. <br />On GitHub, the HTML representation is unable to render, please try loading this page with nbviewer.org.</b></div><div class=\"sk-container\" hidden><div class=\"sk-item\"><div class=\"sk-estimator sk-toggleable\"><input class=\"sk-toggleable__control sk-hidden--visually\" id=\"sk-estimator-id-1\" type=\"checkbox\" checked><label for=\"sk-estimator-id-1\" class=\"sk-toggleable__label sk-toggleable__label-arrow\">RandomForestRegressor</label><div class=\"sk-toggleable__content\"><pre>RandomForestRegressor(n_jobs=-1, random_state=10)</pre></div></div></div></div></div>"
      ],
      "text/plain": [
       "RandomForestRegressor(n_jobs=-1, random_state=10)"
      ]
     },
     "execution_count": 7,
     "metadata": {},
     "output_type": "execute_result"
    }
   ],
   "source": [
    "rf1.fit(x, y1)"
   ]
  },
  {
   "cell_type": "code",
   "execution_count": 8,
   "id": "37347e3a",
   "metadata": {},
   "outputs": [
    {
     "data": {
      "text/html": [
       "<style>#sk-container-id-2 {color: black;background-color: white;}#sk-container-id-2 pre{padding: 0;}#sk-container-id-2 div.sk-toggleable {background-color: white;}#sk-container-id-2 label.sk-toggleable__label {cursor: pointer;display: block;width: 100%;margin-bottom: 0;padding: 0.3em;box-sizing: border-box;text-align: center;}#sk-container-id-2 label.sk-toggleable__label-arrow:before {content: \"▸\";float: left;margin-right: 0.25em;color: #696969;}#sk-container-id-2 label.sk-toggleable__label-arrow:hover:before {color: black;}#sk-container-id-2 div.sk-estimator:hover label.sk-toggleable__label-arrow:before {color: black;}#sk-container-id-2 div.sk-toggleable__content {max-height: 0;max-width: 0;overflow: hidden;text-align: left;background-color: #f0f8ff;}#sk-container-id-2 div.sk-toggleable__content pre {margin: 0.2em;color: black;border-radius: 0.25em;background-color: #f0f8ff;}#sk-container-id-2 input.sk-toggleable__control:checked~div.sk-toggleable__content {max-height: 200px;max-width: 100%;overflow: auto;}#sk-container-id-2 input.sk-toggleable__control:checked~label.sk-toggleable__label-arrow:before {content: \"▾\";}#sk-container-id-2 div.sk-estimator input.sk-toggleable__control:checked~label.sk-toggleable__label {background-color: #d4ebff;}#sk-container-id-2 div.sk-label input.sk-toggleable__control:checked~label.sk-toggleable__label {background-color: #d4ebff;}#sk-container-id-2 input.sk-hidden--visually {border: 0;clip: rect(1px 1px 1px 1px);clip: rect(1px, 1px, 1px, 1px);height: 1px;margin: -1px;overflow: hidden;padding: 0;position: absolute;width: 1px;}#sk-container-id-2 div.sk-estimator {font-family: monospace;background-color: #f0f8ff;border: 1px dotted black;border-radius: 0.25em;box-sizing: border-box;margin-bottom: 0.5em;}#sk-container-id-2 div.sk-estimator:hover {background-color: #d4ebff;}#sk-container-id-2 div.sk-parallel-item::after {content: \"\";width: 100%;border-bottom: 1px solid gray;flex-grow: 1;}#sk-container-id-2 div.sk-label:hover label.sk-toggleable__label {background-color: #d4ebff;}#sk-container-id-2 div.sk-serial::before {content: \"\";position: absolute;border-left: 1px solid gray;box-sizing: border-box;top: 0;bottom: 0;left: 50%;z-index: 0;}#sk-container-id-2 div.sk-serial {display: flex;flex-direction: column;align-items: center;background-color: white;padding-right: 0.2em;padding-left: 0.2em;position: relative;}#sk-container-id-2 div.sk-item {position: relative;z-index: 1;}#sk-container-id-2 div.sk-parallel {display: flex;align-items: stretch;justify-content: center;background-color: white;position: relative;}#sk-container-id-2 div.sk-item::before, #sk-container-id-2 div.sk-parallel-item::before {content: \"\";position: absolute;border-left: 1px solid gray;box-sizing: border-box;top: 0;bottom: 0;left: 50%;z-index: -1;}#sk-container-id-2 div.sk-parallel-item {display: flex;flex-direction: column;z-index: 1;position: relative;background-color: white;}#sk-container-id-2 div.sk-parallel-item:first-child::after {align-self: flex-end;width: 50%;}#sk-container-id-2 div.sk-parallel-item:last-child::after {align-self: flex-start;width: 50%;}#sk-container-id-2 div.sk-parallel-item:only-child::after {width: 0;}#sk-container-id-2 div.sk-dashed-wrapped {border: 1px dashed gray;margin: 0 0.4em 0.5em 0.4em;box-sizing: border-box;padding-bottom: 0.4em;background-color: white;}#sk-container-id-2 div.sk-label label {font-family: monospace;font-weight: bold;display: inline-block;line-height: 1.2em;}#sk-container-id-2 div.sk-label-container {text-align: center;}#sk-container-id-2 div.sk-container {/* jupyter's `normalize.less` sets `[hidden] { display: none; }` but bootstrap.min.css set `[hidden] { display: none !important; }` so we also need the `!important` here to be able to override the default hidden behavior on the sphinx rendered scikit-learn.org. See: https://github.com/scikit-learn/scikit-learn/issues/21755 */display: inline-block !important;position: relative;}#sk-container-id-2 div.sk-text-repr-fallback {display: none;}</style><div id=\"sk-container-id-2\" class=\"sk-top-container\"><div class=\"sk-text-repr-fallback\"><pre>RandomForestRegressor(n_jobs=-1, random_state=10)</pre><b>In a Jupyter environment, please rerun this cell to show the HTML representation or trust the notebook. <br />On GitHub, the HTML representation is unable to render, please try loading this page with nbviewer.org.</b></div><div class=\"sk-container\" hidden><div class=\"sk-item\"><div class=\"sk-estimator sk-toggleable\"><input class=\"sk-toggleable__control sk-hidden--visually\" id=\"sk-estimator-id-2\" type=\"checkbox\" checked><label for=\"sk-estimator-id-2\" class=\"sk-toggleable__label sk-toggleable__label-arrow\">RandomForestRegressor</label><div class=\"sk-toggleable__content\"><pre>RandomForestRegressor(n_jobs=-1, random_state=10)</pre></div></div></div></div></div>"
      ],
      "text/plain": [
       "RandomForestRegressor(n_jobs=-1, random_state=10)"
      ]
     },
     "execution_count": 8,
     "metadata": {},
     "output_type": "execute_result"
    }
   ],
   "source": [
    "rf2.fit(x, y2)"
   ]
  },
  {
   "cell_type": "code",
   "execution_count": 9,
   "id": "cb508229",
   "metadata": {},
   "outputs": [
    {
     "data": {
      "text/html": [
       "<style>#sk-container-id-3 {color: black;background-color: white;}#sk-container-id-3 pre{padding: 0;}#sk-container-id-3 div.sk-toggleable {background-color: white;}#sk-container-id-3 label.sk-toggleable__label {cursor: pointer;display: block;width: 100%;margin-bottom: 0;padding: 0.3em;box-sizing: border-box;text-align: center;}#sk-container-id-3 label.sk-toggleable__label-arrow:before {content: \"▸\";float: left;margin-right: 0.25em;color: #696969;}#sk-container-id-3 label.sk-toggleable__label-arrow:hover:before {color: black;}#sk-container-id-3 div.sk-estimator:hover label.sk-toggleable__label-arrow:before {color: black;}#sk-container-id-3 div.sk-toggleable__content {max-height: 0;max-width: 0;overflow: hidden;text-align: left;background-color: #f0f8ff;}#sk-container-id-3 div.sk-toggleable__content pre {margin: 0.2em;color: black;border-radius: 0.25em;background-color: #f0f8ff;}#sk-container-id-3 input.sk-toggleable__control:checked~div.sk-toggleable__content {max-height: 200px;max-width: 100%;overflow: auto;}#sk-container-id-3 input.sk-toggleable__control:checked~label.sk-toggleable__label-arrow:before {content: \"▾\";}#sk-container-id-3 div.sk-estimator input.sk-toggleable__control:checked~label.sk-toggleable__label {background-color: #d4ebff;}#sk-container-id-3 div.sk-label input.sk-toggleable__control:checked~label.sk-toggleable__label {background-color: #d4ebff;}#sk-container-id-3 input.sk-hidden--visually {border: 0;clip: rect(1px 1px 1px 1px);clip: rect(1px, 1px, 1px, 1px);height: 1px;margin: -1px;overflow: hidden;padding: 0;position: absolute;width: 1px;}#sk-container-id-3 div.sk-estimator {font-family: monospace;background-color: #f0f8ff;border: 1px dotted black;border-radius: 0.25em;box-sizing: border-box;margin-bottom: 0.5em;}#sk-container-id-3 div.sk-estimator:hover {background-color: #d4ebff;}#sk-container-id-3 div.sk-parallel-item::after {content: \"\";width: 100%;border-bottom: 1px solid gray;flex-grow: 1;}#sk-container-id-3 div.sk-label:hover label.sk-toggleable__label {background-color: #d4ebff;}#sk-container-id-3 div.sk-serial::before {content: \"\";position: absolute;border-left: 1px solid gray;box-sizing: border-box;top: 0;bottom: 0;left: 50%;z-index: 0;}#sk-container-id-3 div.sk-serial {display: flex;flex-direction: column;align-items: center;background-color: white;padding-right: 0.2em;padding-left: 0.2em;position: relative;}#sk-container-id-3 div.sk-item {position: relative;z-index: 1;}#sk-container-id-3 div.sk-parallel {display: flex;align-items: stretch;justify-content: center;background-color: white;position: relative;}#sk-container-id-3 div.sk-item::before, #sk-container-id-3 div.sk-parallel-item::before {content: \"\";position: absolute;border-left: 1px solid gray;box-sizing: border-box;top: 0;bottom: 0;left: 50%;z-index: -1;}#sk-container-id-3 div.sk-parallel-item {display: flex;flex-direction: column;z-index: 1;position: relative;background-color: white;}#sk-container-id-3 div.sk-parallel-item:first-child::after {align-self: flex-end;width: 50%;}#sk-container-id-3 div.sk-parallel-item:last-child::after {align-self: flex-start;width: 50%;}#sk-container-id-3 div.sk-parallel-item:only-child::after {width: 0;}#sk-container-id-3 div.sk-dashed-wrapped {border: 1px dashed gray;margin: 0 0.4em 0.5em 0.4em;box-sizing: border-box;padding-bottom: 0.4em;background-color: white;}#sk-container-id-3 div.sk-label label {font-family: monospace;font-weight: bold;display: inline-block;line-height: 1.2em;}#sk-container-id-3 div.sk-label-container {text-align: center;}#sk-container-id-3 div.sk-container {/* jupyter's `normalize.less` sets `[hidden] { display: none; }` but bootstrap.min.css set `[hidden] { display: none !important; }` so we also need the `!important` here to be able to override the default hidden behavior on the sphinx rendered scikit-learn.org. See: https://github.com/scikit-learn/scikit-learn/issues/21755 */display: inline-block !important;position: relative;}#sk-container-id-3 div.sk-text-repr-fallback {display: none;}</style><div id=\"sk-container-id-3\" class=\"sk-top-container\"><div class=\"sk-text-repr-fallback\"><pre>RandomForestRegressor(n_jobs=-1, random_state=10)</pre><b>In a Jupyter environment, please rerun this cell to show the HTML representation or trust the notebook. <br />On GitHub, the HTML representation is unable to render, please try loading this page with nbviewer.org.</b></div><div class=\"sk-container\" hidden><div class=\"sk-item\"><div class=\"sk-estimator sk-toggleable\"><input class=\"sk-toggleable__control sk-hidden--visually\" id=\"sk-estimator-id-3\" type=\"checkbox\" checked><label for=\"sk-estimator-id-3\" class=\"sk-toggleable__label sk-toggleable__label-arrow\">RandomForestRegressor</label><div class=\"sk-toggleable__content\"><pre>RandomForestRegressor(n_jobs=-1, random_state=10)</pre></div></div></div></div></div>"
      ],
      "text/plain": [
       "RandomForestRegressor(n_jobs=-1, random_state=10)"
      ]
     },
     "execution_count": 9,
     "metadata": {},
     "output_type": "execute_result"
    }
   ],
   "source": [
    "rf3.fit(x, y3)"
   ]
  },
  {
   "cell_type": "code",
   "execution_count": 10,
   "id": "14a0d5d4",
   "metadata": {},
   "outputs": [
    {
     "data": {
      "text/html": [
       "<style>#sk-container-id-4 {color: black;background-color: white;}#sk-container-id-4 pre{padding: 0;}#sk-container-id-4 div.sk-toggleable {background-color: white;}#sk-container-id-4 label.sk-toggleable__label {cursor: pointer;display: block;width: 100%;margin-bottom: 0;padding: 0.3em;box-sizing: border-box;text-align: center;}#sk-container-id-4 label.sk-toggleable__label-arrow:before {content: \"▸\";float: left;margin-right: 0.25em;color: #696969;}#sk-container-id-4 label.sk-toggleable__label-arrow:hover:before {color: black;}#sk-container-id-4 div.sk-estimator:hover label.sk-toggleable__label-arrow:before {color: black;}#sk-container-id-4 div.sk-toggleable__content {max-height: 0;max-width: 0;overflow: hidden;text-align: left;background-color: #f0f8ff;}#sk-container-id-4 div.sk-toggleable__content pre {margin: 0.2em;color: black;border-radius: 0.25em;background-color: #f0f8ff;}#sk-container-id-4 input.sk-toggleable__control:checked~div.sk-toggleable__content {max-height: 200px;max-width: 100%;overflow: auto;}#sk-container-id-4 input.sk-toggleable__control:checked~label.sk-toggleable__label-arrow:before {content: \"▾\";}#sk-container-id-4 div.sk-estimator input.sk-toggleable__control:checked~label.sk-toggleable__label {background-color: #d4ebff;}#sk-container-id-4 div.sk-label input.sk-toggleable__control:checked~label.sk-toggleable__label {background-color: #d4ebff;}#sk-container-id-4 input.sk-hidden--visually {border: 0;clip: rect(1px 1px 1px 1px);clip: rect(1px, 1px, 1px, 1px);height: 1px;margin: -1px;overflow: hidden;padding: 0;position: absolute;width: 1px;}#sk-container-id-4 div.sk-estimator {font-family: monospace;background-color: #f0f8ff;border: 1px dotted black;border-radius: 0.25em;box-sizing: border-box;margin-bottom: 0.5em;}#sk-container-id-4 div.sk-estimator:hover {background-color: #d4ebff;}#sk-container-id-4 div.sk-parallel-item::after {content: \"\";width: 100%;border-bottom: 1px solid gray;flex-grow: 1;}#sk-container-id-4 div.sk-label:hover label.sk-toggleable__label {background-color: #d4ebff;}#sk-container-id-4 div.sk-serial::before {content: \"\";position: absolute;border-left: 1px solid gray;box-sizing: border-box;top: 0;bottom: 0;left: 50%;z-index: 0;}#sk-container-id-4 div.sk-serial {display: flex;flex-direction: column;align-items: center;background-color: white;padding-right: 0.2em;padding-left: 0.2em;position: relative;}#sk-container-id-4 div.sk-item {position: relative;z-index: 1;}#sk-container-id-4 div.sk-parallel {display: flex;align-items: stretch;justify-content: center;background-color: white;position: relative;}#sk-container-id-4 div.sk-item::before, #sk-container-id-4 div.sk-parallel-item::before {content: \"\";position: absolute;border-left: 1px solid gray;box-sizing: border-box;top: 0;bottom: 0;left: 50%;z-index: -1;}#sk-container-id-4 div.sk-parallel-item {display: flex;flex-direction: column;z-index: 1;position: relative;background-color: white;}#sk-container-id-4 div.sk-parallel-item:first-child::after {align-self: flex-end;width: 50%;}#sk-container-id-4 div.sk-parallel-item:last-child::after {align-self: flex-start;width: 50%;}#sk-container-id-4 div.sk-parallel-item:only-child::after {width: 0;}#sk-container-id-4 div.sk-dashed-wrapped {border: 1px dashed gray;margin: 0 0.4em 0.5em 0.4em;box-sizing: border-box;padding-bottom: 0.4em;background-color: white;}#sk-container-id-4 div.sk-label label {font-family: monospace;font-weight: bold;display: inline-block;line-height: 1.2em;}#sk-container-id-4 div.sk-label-container {text-align: center;}#sk-container-id-4 div.sk-container {/* jupyter's `normalize.less` sets `[hidden] { display: none; }` but bootstrap.min.css set `[hidden] { display: none !important; }` so we also need the `!important` here to be able to override the default hidden behavior on the sphinx rendered scikit-learn.org. See: https://github.com/scikit-learn/scikit-learn/issues/21755 */display: inline-block !important;position: relative;}#sk-container-id-4 div.sk-text-repr-fallback {display: none;}</style><div id=\"sk-container-id-4\" class=\"sk-top-container\"><div class=\"sk-text-repr-fallback\"><pre>RandomForestRegressor(n_jobs=-1, random_state=10)</pre><b>In a Jupyter environment, please rerun this cell to show the HTML representation or trust the notebook. <br />On GitHub, the HTML representation is unable to render, please try loading this page with nbviewer.org.</b></div><div class=\"sk-container\" hidden><div class=\"sk-item\"><div class=\"sk-estimator sk-toggleable\"><input class=\"sk-toggleable__control sk-hidden--visually\" id=\"sk-estimator-id-4\" type=\"checkbox\" checked><label for=\"sk-estimator-id-4\" class=\"sk-toggleable__label sk-toggleable__label-arrow\">RandomForestRegressor</label><div class=\"sk-toggleable__content\"><pre>RandomForestRegressor(n_jobs=-1, random_state=10)</pre></div></div></div></div></div>"
      ],
      "text/plain": [
       "RandomForestRegressor(n_jobs=-1, random_state=10)"
      ]
     },
     "execution_count": 10,
     "metadata": {},
     "output_type": "execute_result"
    }
   ],
   "source": [
    "rf4.fit(x, y4)"
   ]
  },
  {
   "cell_type": "code",
   "execution_count": 11,
   "id": "760ed523",
   "metadata": {},
   "outputs": [
    {
     "data": {
      "text/html": [
       "<style>#sk-container-id-5 {color: black;background-color: white;}#sk-container-id-5 pre{padding: 0;}#sk-container-id-5 div.sk-toggleable {background-color: white;}#sk-container-id-5 label.sk-toggleable__label {cursor: pointer;display: block;width: 100%;margin-bottom: 0;padding: 0.3em;box-sizing: border-box;text-align: center;}#sk-container-id-5 label.sk-toggleable__label-arrow:before {content: \"▸\";float: left;margin-right: 0.25em;color: #696969;}#sk-container-id-5 label.sk-toggleable__label-arrow:hover:before {color: black;}#sk-container-id-5 div.sk-estimator:hover label.sk-toggleable__label-arrow:before {color: black;}#sk-container-id-5 div.sk-toggleable__content {max-height: 0;max-width: 0;overflow: hidden;text-align: left;background-color: #f0f8ff;}#sk-container-id-5 div.sk-toggleable__content pre {margin: 0.2em;color: black;border-radius: 0.25em;background-color: #f0f8ff;}#sk-container-id-5 input.sk-toggleable__control:checked~div.sk-toggleable__content {max-height: 200px;max-width: 100%;overflow: auto;}#sk-container-id-5 input.sk-toggleable__control:checked~label.sk-toggleable__label-arrow:before {content: \"▾\";}#sk-container-id-5 div.sk-estimator input.sk-toggleable__control:checked~label.sk-toggleable__label {background-color: #d4ebff;}#sk-container-id-5 div.sk-label input.sk-toggleable__control:checked~label.sk-toggleable__label {background-color: #d4ebff;}#sk-container-id-5 input.sk-hidden--visually {border: 0;clip: rect(1px 1px 1px 1px);clip: rect(1px, 1px, 1px, 1px);height: 1px;margin: -1px;overflow: hidden;padding: 0;position: absolute;width: 1px;}#sk-container-id-5 div.sk-estimator {font-family: monospace;background-color: #f0f8ff;border: 1px dotted black;border-radius: 0.25em;box-sizing: border-box;margin-bottom: 0.5em;}#sk-container-id-5 div.sk-estimator:hover {background-color: #d4ebff;}#sk-container-id-5 div.sk-parallel-item::after {content: \"\";width: 100%;border-bottom: 1px solid gray;flex-grow: 1;}#sk-container-id-5 div.sk-label:hover label.sk-toggleable__label {background-color: #d4ebff;}#sk-container-id-5 div.sk-serial::before {content: \"\";position: absolute;border-left: 1px solid gray;box-sizing: border-box;top: 0;bottom: 0;left: 50%;z-index: 0;}#sk-container-id-5 div.sk-serial {display: flex;flex-direction: column;align-items: center;background-color: white;padding-right: 0.2em;padding-left: 0.2em;position: relative;}#sk-container-id-5 div.sk-item {position: relative;z-index: 1;}#sk-container-id-5 div.sk-parallel {display: flex;align-items: stretch;justify-content: center;background-color: white;position: relative;}#sk-container-id-5 div.sk-item::before, #sk-container-id-5 div.sk-parallel-item::before {content: \"\";position: absolute;border-left: 1px solid gray;box-sizing: border-box;top: 0;bottom: 0;left: 50%;z-index: -1;}#sk-container-id-5 div.sk-parallel-item {display: flex;flex-direction: column;z-index: 1;position: relative;background-color: white;}#sk-container-id-5 div.sk-parallel-item:first-child::after {align-self: flex-end;width: 50%;}#sk-container-id-5 div.sk-parallel-item:last-child::after {align-self: flex-start;width: 50%;}#sk-container-id-5 div.sk-parallel-item:only-child::after {width: 0;}#sk-container-id-5 div.sk-dashed-wrapped {border: 1px dashed gray;margin: 0 0.4em 0.5em 0.4em;box-sizing: border-box;padding-bottom: 0.4em;background-color: white;}#sk-container-id-5 div.sk-label label {font-family: monospace;font-weight: bold;display: inline-block;line-height: 1.2em;}#sk-container-id-5 div.sk-label-container {text-align: center;}#sk-container-id-5 div.sk-container {/* jupyter's `normalize.less` sets `[hidden] { display: none; }` but bootstrap.min.css set `[hidden] { display: none !important; }` so we also need the `!important` here to be able to override the default hidden behavior on the sphinx rendered scikit-learn.org. See: https://github.com/scikit-learn/scikit-learn/issues/21755 */display: inline-block !important;position: relative;}#sk-container-id-5 div.sk-text-repr-fallback {display: none;}</style><div id=\"sk-container-id-5\" class=\"sk-top-container\"><div class=\"sk-text-repr-fallback\"><pre>RandomForestRegressor(n_jobs=-1, random_state=10)</pre><b>In a Jupyter environment, please rerun this cell to show the HTML representation or trust the notebook. <br />On GitHub, the HTML representation is unable to render, please try loading this page with nbviewer.org.</b></div><div class=\"sk-container\" hidden><div class=\"sk-item\"><div class=\"sk-estimator sk-toggleable\"><input class=\"sk-toggleable__control sk-hidden--visually\" id=\"sk-estimator-id-5\" type=\"checkbox\" checked><label for=\"sk-estimator-id-5\" class=\"sk-toggleable__label sk-toggleable__label-arrow\">RandomForestRegressor</label><div class=\"sk-toggleable__content\"><pre>RandomForestRegressor(n_jobs=-1, random_state=10)</pre></div></div></div></div></div>"
      ],
      "text/plain": [
       "RandomForestRegressor(n_jobs=-1, random_state=10)"
      ]
     },
     "execution_count": 11,
     "metadata": {},
     "output_type": "execute_result"
    }
   ],
   "source": [
    "rf5.fit(x, y5)"
   ]
  },
  {
   "cell_type": "code",
   "execution_count": 12,
   "id": "914b755c",
   "metadata": {},
   "outputs": [],
   "source": [
    "# 각 피처의 중요도를 담은 어레이 생성\n",
    "rf1_feat = rf1.feature_importances_\n",
    "rf2_feat = rf2.feature_importances_\n",
    "rf3_feat = rf3.feature_importances_\n",
    "rf4_feat = rf4.feature_importances_\n",
    "rf5_feat = rf5.feature_importances_"
   ]
  },
  {
   "cell_type": "code",
   "execution_count": 77,
   "id": "a87e8b5b",
   "metadata": {},
   "outputs": [
    {
     "data": {
      "text/plain": [
       "0.8197206964926895"
      ]
     },
     "execution_count": 77,
     "metadata": {},
     "output_type": "execute_result"
    }
   ],
   "source": [
    "pd.Series(rf1_feat).sort_values(ascending = False)[:250].sum()"
   ]
  },
  {
   "cell_type": "code",
   "execution_count": null,
   "id": "bd2b3a26",
   "metadata": {},
   "outputs": [],
   "source": []
  },
  {
   "cell_type": "code",
   "execution_count": null,
   "id": "493c4719",
   "metadata": {},
   "outputs": [],
   "source": []
  },
  {
   "cell_type": "markdown",
   "id": "f1db4417",
   "metadata": {},
   "source": [
    "### 그래디언트부스팅 시도"
   ]
  },
  {
   "cell_type": "code",
   "execution_count": 18,
   "id": "7e6f1cab",
   "metadata": {},
   "outputs": [],
   "source": [
    "gb1 = GradientBoostingRegressor(n_estimators=100, random_state=42)\n",
    "gb2 = GradientBoostingRegressor(n_estimators=100, random_state=42)\n",
    "gb3 = GradientBoostingRegressor(n_estimators=100, random_state=42)\n",
    "gb4 = GradientBoostingRegressor(n_estimators=100, random_state=42)\n",
    "gb5 = GradientBoostingRegressor(n_estimators=100, random_state=42)"
   ]
  },
  {
   "cell_type": "code",
   "execution_count": 19,
   "id": "dc4e494c",
   "metadata": {},
   "outputs": [
    {
     "data": {
      "text/html": [
       "<style>#sk-container-id-6 {color: black;background-color: white;}#sk-container-id-6 pre{padding: 0;}#sk-container-id-6 div.sk-toggleable {background-color: white;}#sk-container-id-6 label.sk-toggleable__label {cursor: pointer;display: block;width: 100%;margin-bottom: 0;padding: 0.3em;box-sizing: border-box;text-align: center;}#sk-container-id-6 label.sk-toggleable__label-arrow:before {content: \"▸\";float: left;margin-right: 0.25em;color: #696969;}#sk-container-id-6 label.sk-toggleable__label-arrow:hover:before {color: black;}#sk-container-id-6 div.sk-estimator:hover label.sk-toggleable__label-arrow:before {color: black;}#sk-container-id-6 div.sk-toggleable__content {max-height: 0;max-width: 0;overflow: hidden;text-align: left;background-color: #f0f8ff;}#sk-container-id-6 div.sk-toggleable__content pre {margin: 0.2em;color: black;border-radius: 0.25em;background-color: #f0f8ff;}#sk-container-id-6 input.sk-toggleable__control:checked~div.sk-toggleable__content {max-height: 200px;max-width: 100%;overflow: auto;}#sk-container-id-6 input.sk-toggleable__control:checked~label.sk-toggleable__label-arrow:before {content: \"▾\";}#sk-container-id-6 div.sk-estimator input.sk-toggleable__control:checked~label.sk-toggleable__label {background-color: #d4ebff;}#sk-container-id-6 div.sk-label input.sk-toggleable__control:checked~label.sk-toggleable__label {background-color: #d4ebff;}#sk-container-id-6 input.sk-hidden--visually {border: 0;clip: rect(1px 1px 1px 1px);clip: rect(1px, 1px, 1px, 1px);height: 1px;margin: -1px;overflow: hidden;padding: 0;position: absolute;width: 1px;}#sk-container-id-6 div.sk-estimator {font-family: monospace;background-color: #f0f8ff;border: 1px dotted black;border-radius: 0.25em;box-sizing: border-box;margin-bottom: 0.5em;}#sk-container-id-6 div.sk-estimator:hover {background-color: #d4ebff;}#sk-container-id-6 div.sk-parallel-item::after {content: \"\";width: 100%;border-bottom: 1px solid gray;flex-grow: 1;}#sk-container-id-6 div.sk-label:hover label.sk-toggleable__label {background-color: #d4ebff;}#sk-container-id-6 div.sk-serial::before {content: \"\";position: absolute;border-left: 1px solid gray;box-sizing: border-box;top: 0;bottom: 0;left: 50%;z-index: 0;}#sk-container-id-6 div.sk-serial {display: flex;flex-direction: column;align-items: center;background-color: white;padding-right: 0.2em;padding-left: 0.2em;position: relative;}#sk-container-id-6 div.sk-item {position: relative;z-index: 1;}#sk-container-id-6 div.sk-parallel {display: flex;align-items: stretch;justify-content: center;background-color: white;position: relative;}#sk-container-id-6 div.sk-item::before, #sk-container-id-6 div.sk-parallel-item::before {content: \"\";position: absolute;border-left: 1px solid gray;box-sizing: border-box;top: 0;bottom: 0;left: 50%;z-index: -1;}#sk-container-id-6 div.sk-parallel-item {display: flex;flex-direction: column;z-index: 1;position: relative;background-color: white;}#sk-container-id-6 div.sk-parallel-item:first-child::after {align-self: flex-end;width: 50%;}#sk-container-id-6 div.sk-parallel-item:last-child::after {align-self: flex-start;width: 50%;}#sk-container-id-6 div.sk-parallel-item:only-child::after {width: 0;}#sk-container-id-6 div.sk-dashed-wrapped {border: 1px dashed gray;margin: 0 0.4em 0.5em 0.4em;box-sizing: border-box;padding-bottom: 0.4em;background-color: white;}#sk-container-id-6 div.sk-label label {font-family: monospace;font-weight: bold;display: inline-block;line-height: 1.2em;}#sk-container-id-6 div.sk-label-container {text-align: center;}#sk-container-id-6 div.sk-container {/* jupyter's `normalize.less` sets `[hidden] { display: none; }` but bootstrap.min.css set `[hidden] { display: none !important; }` so we also need the `!important` here to be able to override the default hidden behavior on the sphinx rendered scikit-learn.org. See: https://github.com/scikit-learn/scikit-learn/issues/21755 */display: inline-block !important;position: relative;}#sk-container-id-6 div.sk-text-repr-fallback {display: none;}</style><div id=\"sk-container-id-6\" class=\"sk-top-container\"><div class=\"sk-text-repr-fallback\"><pre>GradientBoostingRegressor(random_state=42)</pre><b>In a Jupyter environment, please rerun this cell to show the HTML representation or trust the notebook. <br />On GitHub, the HTML representation is unable to render, please try loading this page with nbviewer.org.</b></div><div class=\"sk-container\" hidden><div class=\"sk-item\"><div class=\"sk-estimator sk-toggleable\"><input class=\"sk-toggleable__control sk-hidden--visually\" id=\"sk-estimator-id-6\" type=\"checkbox\" checked><label for=\"sk-estimator-id-6\" class=\"sk-toggleable__label sk-toggleable__label-arrow\">GradientBoostingRegressor</label><div class=\"sk-toggleable__content\"><pre>GradientBoostingRegressor(random_state=42)</pre></div></div></div></div></div>"
      ],
      "text/plain": [
       "GradientBoostingRegressor(random_state=42)"
      ]
     },
     "execution_count": 19,
     "metadata": {},
     "output_type": "execute_result"
    }
   ],
   "source": [
    "gb1.fit(x, y1)"
   ]
  },
  {
   "cell_type": "code",
   "execution_count": 20,
   "id": "3738d647",
   "metadata": {},
   "outputs": [
    {
     "data": {
      "text/html": [
       "<style>#sk-container-id-7 {color: black;background-color: white;}#sk-container-id-7 pre{padding: 0;}#sk-container-id-7 div.sk-toggleable {background-color: white;}#sk-container-id-7 label.sk-toggleable__label {cursor: pointer;display: block;width: 100%;margin-bottom: 0;padding: 0.3em;box-sizing: border-box;text-align: center;}#sk-container-id-7 label.sk-toggleable__label-arrow:before {content: \"▸\";float: left;margin-right: 0.25em;color: #696969;}#sk-container-id-7 label.sk-toggleable__label-arrow:hover:before {color: black;}#sk-container-id-7 div.sk-estimator:hover label.sk-toggleable__label-arrow:before {color: black;}#sk-container-id-7 div.sk-toggleable__content {max-height: 0;max-width: 0;overflow: hidden;text-align: left;background-color: #f0f8ff;}#sk-container-id-7 div.sk-toggleable__content pre {margin: 0.2em;color: black;border-radius: 0.25em;background-color: #f0f8ff;}#sk-container-id-7 input.sk-toggleable__control:checked~div.sk-toggleable__content {max-height: 200px;max-width: 100%;overflow: auto;}#sk-container-id-7 input.sk-toggleable__control:checked~label.sk-toggleable__label-arrow:before {content: \"▾\";}#sk-container-id-7 div.sk-estimator input.sk-toggleable__control:checked~label.sk-toggleable__label {background-color: #d4ebff;}#sk-container-id-7 div.sk-label input.sk-toggleable__control:checked~label.sk-toggleable__label {background-color: #d4ebff;}#sk-container-id-7 input.sk-hidden--visually {border: 0;clip: rect(1px 1px 1px 1px);clip: rect(1px, 1px, 1px, 1px);height: 1px;margin: -1px;overflow: hidden;padding: 0;position: absolute;width: 1px;}#sk-container-id-7 div.sk-estimator {font-family: monospace;background-color: #f0f8ff;border: 1px dotted black;border-radius: 0.25em;box-sizing: border-box;margin-bottom: 0.5em;}#sk-container-id-7 div.sk-estimator:hover {background-color: #d4ebff;}#sk-container-id-7 div.sk-parallel-item::after {content: \"\";width: 100%;border-bottom: 1px solid gray;flex-grow: 1;}#sk-container-id-7 div.sk-label:hover label.sk-toggleable__label {background-color: #d4ebff;}#sk-container-id-7 div.sk-serial::before {content: \"\";position: absolute;border-left: 1px solid gray;box-sizing: border-box;top: 0;bottom: 0;left: 50%;z-index: 0;}#sk-container-id-7 div.sk-serial {display: flex;flex-direction: column;align-items: center;background-color: white;padding-right: 0.2em;padding-left: 0.2em;position: relative;}#sk-container-id-7 div.sk-item {position: relative;z-index: 1;}#sk-container-id-7 div.sk-parallel {display: flex;align-items: stretch;justify-content: center;background-color: white;position: relative;}#sk-container-id-7 div.sk-item::before, #sk-container-id-7 div.sk-parallel-item::before {content: \"\";position: absolute;border-left: 1px solid gray;box-sizing: border-box;top: 0;bottom: 0;left: 50%;z-index: -1;}#sk-container-id-7 div.sk-parallel-item {display: flex;flex-direction: column;z-index: 1;position: relative;background-color: white;}#sk-container-id-7 div.sk-parallel-item:first-child::after {align-self: flex-end;width: 50%;}#sk-container-id-7 div.sk-parallel-item:last-child::after {align-self: flex-start;width: 50%;}#sk-container-id-7 div.sk-parallel-item:only-child::after {width: 0;}#sk-container-id-7 div.sk-dashed-wrapped {border: 1px dashed gray;margin: 0 0.4em 0.5em 0.4em;box-sizing: border-box;padding-bottom: 0.4em;background-color: white;}#sk-container-id-7 div.sk-label label {font-family: monospace;font-weight: bold;display: inline-block;line-height: 1.2em;}#sk-container-id-7 div.sk-label-container {text-align: center;}#sk-container-id-7 div.sk-container {/* jupyter's `normalize.less` sets `[hidden] { display: none; }` but bootstrap.min.css set `[hidden] { display: none !important; }` so we also need the `!important` here to be able to override the default hidden behavior on the sphinx rendered scikit-learn.org. See: https://github.com/scikit-learn/scikit-learn/issues/21755 */display: inline-block !important;position: relative;}#sk-container-id-7 div.sk-text-repr-fallback {display: none;}</style><div id=\"sk-container-id-7\" class=\"sk-top-container\"><div class=\"sk-text-repr-fallback\"><pre>GradientBoostingRegressor(random_state=42)</pre><b>In a Jupyter environment, please rerun this cell to show the HTML representation or trust the notebook. <br />On GitHub, the HTML representation is unable to render, please try loading this page with nbviewer.org.</b></div><div class=\"sk-container\" hidden><div class=\"sk-item\"><div class=\"sk-estimator sk-toggleable\"><input class=\"sk-toggleable__control sk-hidden--visually\" id=\"sk-estimator-id-7\" type=\"checkbox\" checked><label for=\"sk-estimator-id-7\" class=\"sk-toggleable__label sk-toggleable__label-arrow\">GradientBoostingRegressor</label><div class=\"sk-toggleable__content\"><pre>GradientBoostingRegressor(random_state=42)</pre></div></div></div></div></div>"
      ],
      "text/plain": [
       "GradientBoostingRegressor(random_state=42)"
      ]
     },
     "execution_count": 20,
     "metadata": {},
     "output_type": "execute_result"
    }
   ],
   "source": [
    "gb2.fit(x, y2)"
   ]
  },
  {
   "cell_type": "code",
   "execution_count": 21,
   "id": "20e8618b",
   "metadata": {},
   "outputs": [
    {
     "data": {
      "text/html": [
       "<style>#sk-container-id-8 {color: black;background-color: white;}#sk-container-id-8 pre{padding: 0;}#sk-container-id-8 div.sk-toggleable {background-color: white;}#sk-container-id-8 label.sk-toggleable__label {cursor: pointer;display: block;width: 100%;margin-bottom: 0;padding: 0.3em;box-sizing: border-box;text-align: center;}#sk-container-id-8 label.sk-toggleable__label-arrow:before {content: \"▸\";float: left;margin-right: 0.25em;color: #696969;}#sk-container-id-8 label.sk-toggleable__label-arrow:hover:before {color: black;}#sk-container-id-8 div.sk-estimator:hover label.sk-toggleable__label-arrow:before {color: black;}#sk-container-id-8 div.sk-toggleable__content {max-height: 0;max-width: 0;overflow: hidden;text-align: left;background-color: #f0f8ff;}#sk-container-id-8 div.sk-toggleable__content pre {margin: 0.2em;color: black;border-radius: 0.25em;background-color: #f0f8ff;}#sk-container-id-8 input.sk-toggleable__control:checked~div.sk-toggleable__content {max-height: 200px;max-width: 100%;overflow: auto;}#sk-container-id-8 input.sk-toggleable__control:checked~label.sk-toggleable__label-arrow:before {content: \"▾\";}#sk-container-id-8 div.sk-estimator input.sk-toggleable__control:checked~label.sk-toggleable__label {background-color: #d4ebff;}#sk-container-id-8 div.sk-label input.sk-toggleable__control:checked~label.sk-toggleable__label {background-color: #d4ebff;}#sk-container-id-8 input.sk-hidden--visually {border: 0;clip: rect(1px 1px 1px 1px);clip: rect(1px, 1px, 1px, 1px);height: 1px;margin: -1px;overflow: hidden;padding: 0;position: absolute;width: 1px;}#sk-container-id-8 div.sk-estimator {font-family: monospace;background-color: #f0f8ff;border: 1px dotted black;border-radius: 0.25em;box-sizing: border-box;margin-bottom: 0.5em;}#sk-container-id-8 div.sk-estimator:hover {background-color: #d4ebff;}#sk-container-id-8 div.sk-parallel-item::after {content: \"\";width: 100%;border-bottom: 1px solid gray;flex-grow: 1;}#sk-container-id-8 div.sk-label:hover label.sk-toggleable__label {background-color: #d4ebff;}#sk-container-id-8 div.sk-serial::before {content: \"\";position: absolute;border-left: 1px solid gray;box-sizing: border-box;top: 0;bottom: 0;left: 50%;z-index: 0;}#sk-container-id-8 div.sk-serial {display: flex;flex-direction: column;align-items: center;background-color: white;padding-right: 0.2em;padding-left: 0.2em;position: relative;}#sk-container-id-8 div.sk-item {position: relative;z-index: 1;}#sk-container-id-8 div.sk-parallel {display: flex;align-items: stretch;justify-content: center;background-color: white;position: relative;}#sk-container-id-8 div.sk-item::before, #sk-container-id-8 div.sk-parallel-item::before {content: \"\";position: absolute;border-left: 1px solid gray;box-sizing: border-box;top: 0;bottom: 0;left: 50%;z-index: -1;}#sk-container-id-8 div.sk-parallel-item {display: flex;flex-direction: column;z-index: 1;position: relative;background-color: white;}#sk-container-id-8 div.sk-parallel-item:first-child::after {align-self: flex-end;width: 50%;}#sk-container-id-8 div.sk-parallel-item:last-child::after {align-self: flex-start;width: 50%;}#sk-container-id-8 div.sk-parallel-item:only-child::after {width: 0;}#sk-container-id-8 div.sk-dashed-wrapped {border: 1px dashed gray;margin: 0 0.4em 0.5em 0.4em;box-sizing: border-box;padding-bottom: 0.4em;background-color: white;}#sk-container-id-8 div.sk-label label {font-family: monospace;font-weight: bold;display: inline-block;line-height: 1.2em;}#sk-container-id-8 div.sk-label-container {text-align: center;}#sk-container-id-8 div.sk-container {/* jupyter's `normalize.less` sets `[hidden] { display: none; }` but bootstrap.min.css set `[hidden] { display: none !important; }` so we also need the `!important` here to be able to override the default hidden behavior on the sphinx rendered scikit-learn.org. See: https://github.com/scikit-learn/scikit-learn/issues/21755 */display: inline-block !important;position: relative;}#sk-container-id-8 div.sk-text-repr-fallback {display: none;}</style><div id=\"sk-container-id-8\" class=\"sk-top-container\"><div class=\"sk-text-repr-fallback\"><pre>GradientBoostingRegressor(random_state=42)</pre><b>In a Jupyter environment, please rerun this cell to show the HTML representation or trust the notebook. <br />On GitHub, the HTML representation is unable to render, please try loading this page with nbviewer.org.</b></div><div class=\"sk-container\" hidden><div class=\"sk-item\"><div class=\"sk-estimator sk-toggleable\"><input class=\"sk-toggleable__control sk-hidden--visually\" id=\"sk-estimator-id-8\" type=\"checkbox\" checked><label for=\"sk-estimator-id-8\" class=\"sk-toggleable__label sk-toggleable__label-arrow\">GradientBoostingRegressor</label><div class=\"sk-toggleable__content\"><pre>GradientBoostingRegressor(random_state=42)</pre></div></div></div></div></div>"
      ],
      "text/plain": [
       "GradientBoostingRegressor(random_state=42)"
      ]
     },
     "execution_count": 21,
     "metadata": {},
     "output_type": "execute_result"
    }
   ],
   "source": [
    "gb3.fit(x, y3)"
   ]
  },
  {
   "cell_type": "code",
   "execution_count": 22,
   "id": "b83ec393",
   "metadata": {},
   "outputs": [
    {
     "data": {
      "text/html": [
       "<style>#sk-container-id-9 {color: black;background-color: white;}#sk-container-id-9 pre{padding: 0;}#sk-container-id-9 div.sk-toggleable {background-color: white;}#sk-container-id-9 label.sk-toggleable__label {cursor: pointer;display: block;width: 100%;margin-bottom: 0;padding: 0.3em;box-sizing: border-box;text-align: center;}#sk-container-id-9 label.sk-toggleable__label-arrow:before {content: \"▸\";float: left;margin-right: 0.25em;color: #696969;}#sk-container-id-9 label.sk-toggleable__label-arrow:hover:before {color: black;}#sk-container-id-9 div.sk-estimator:hover label.sk-toggleable__label-arrow:before {color: black;}#sk-container-id-9 div.sk-toggleable__content {max-height: 0;max-width: 0;overflow: hidden;text-align: left;background-color: #f0f8ff;}#sk-container-id-9 div.sk-toggleable__content pre {margin: 0.2em;color: black;border-radius: 0.25em;background-color: #f0f8ff;}#sk-container-id-9 input.sk-toggleable__control:checked~div.sk-toggleable__content {max-height: 200px;max-width: 100%;overflow: auto;}#sk-container-id-9 input.sk-toggleable__control:checked~label.sk-toggleable__label-arrow:before {content: \"▾\";}#sk-container-id-9 div.sk-estimator input.sk-toggleable__control:checked~label.sk-toggleable__label {background-color: #d4ebff;}#sk-container-id-9 div.sk-label input.sk-toggleable__control:checked~label.sk-toggleable__label {background-color: #d4ebff;}#sk-container-id-9 input.sk-hidden--visually {border: 0;clip: rect(1px 1px 1px 1px);clip: rect(1px, 1px, 1px, 1px);height: 1px;margin: -1px;overflow: hidden;padding: 0;position: absolute;width: 1px;}#sk-container-id-9 div.sk-estimator {font-family: monospace;background-color: #f0f8ff;border: 1px dotted black;border-radius: 0.25em;box-sizing: border-box;margin-bottom: 0.5em;}#sk-container-id-9 div.sk-estimator:hover {background-color: #d4ebff;}#sk-container-id-9 div.sk-parallel-item::after {content: \"\";width: 100%;border-bottom: 1px solid gray;flex-grow: 1;}#sk-container-id-9 div.sk-label:hover label.sk-toggleable__label {background-color: #d4ebff;}#sk-container-id-9 div.sk-serial::before {content: \"\";position: absolute;border-left: 1px solid gray;box-sizing: border-box;top: 0;bottom: 0;left: 50%;z-index: 0;}#sk-container-id-9 div.sk-serial {display: flex;flex-direction: column;align-items: center;background-color: white;padding-right: 0.2em;padding-left: 0.2em;position: relative;}#sk-container-id-9 div.sk-item {position: relative;z-index: 1;}#sk-container-id-9 div.sk-parallel {display: flex;align-items: stretch;justify-content: center;background-color: white;position: relative;}#sk-container-id-9 div.sk-item::before, #sk-container-id-9 div.sk-parallel-item::before {content: \"\";position: absolute;border-left: 1px solid gray;box-sizing: border-box;top: 0;bottom: 0;left: 50%;z-index: -1;}#sk-container-id-9 div.sk-parallel-item {display: flex;flex-direction: column;z-index: 1;position: relative;background-color: white;}#sk-container-id-9 div.sk-parallel-item:first-child::after {align-self: flex-end;width: 50%;}#sk-container-id-9 div.sk-parallel-item:last-child::after {align-self: flex-start;width: 50%;}#sk-container-id-9 div.sk-parallel-item:only-child::after {width: 0;}#sk-container-id-9 div.sk-dashed-wrapped {border: 1px dashed gray;margin: 0 0.4em 0.5em 0.4em;box-sizing: border-box;padding-bottom: 0.4em;background-color: white;}#sk-container-id-9 div.sk-label label {font-family: monospace;font-weight: bold;display: inline-block;line-height: 1.2em;}#sk-container-id-9 div.sk-label-container {text-align: center;}#sk-container-id-9 div.sk-container {/* jupyter's `normalize.less` sets `[hidden] { display: none; }` but bootstrap.min.css set `[hidden] { display: none !important; }` so we also need the `!important` here to be able to override the default hidden behavior on the sphinx rendered scikit-learn.org. See: https://github.com/scikit-learn/scikit-learn/issues/21755 */display: inline-block !important;position: relative;}#sk-container-id-9 div.sk-text-repr-fallback {display: none;}</style><div id=\"sk-container-id-9\" class=\"sk-top-container\"><div class=\"sk-text-repr-fallback\"><pre>GradientBoostingRegressor(random_state=42)</pre><b>In a Jupyter environment, please rerun this cell to show the HTML representation or trust the notebook. <br />On GitHub, the HTML representation is unable to render, please try loading this page with nbviewer.org.</b></div><div class=\"sk-container\" hidden><div class=\"sk-item\"><div class=\"sk-estimator sk-toggleable\"><input class=\"sk-toggleable__control sk-hidden--visually\" id=\"sk-estimator-id-9\" type=\"checkbox\" checked><label for=\"sk-estimator-id-9\" class=\"sk-toggleable__label sk-toggleable__label-arrow\">GradientBoostingRegressor</label><div class=\"sk-toggleable__content\"><pre>GradientBoostingRegressor(random_state=42)</pre></div></div></div></div></div>"
      ],
      "text/plain": [
       "GradientBoostingRegressor(random_state=42)"
      ]
     },
     "execution_count": 22,
     "metadata": {},
     "output_type": "execute_result"
    }
   ],
   "source": [
    "gb4.fit(x, y4)"
   ]
  },
  {
   "cell_type": "code",
   "execution_count": 23,
   "id": "d822981f",
   "metadata": {},
   "outputs": [
    {
     "data": {
      "text/html": [
       "<style>#sk-container-id-10 {color: black;background-color: white;}#sk-container-id-10 pre{padding: 0;}#sk-container-id-10 div.sk-toggleable {background-color: white;}#sk-container-id-10 label.sk-toggleable__label {cursor: pointer;display: block;width: 100%;margin-bottom: 0;padding: 0.3em;box-sizing: border-box;text-align: center;}#sk-container-id-10 label.sk-toggleable__label-arrow:before {content: \"▸\";float: left;margin-right: 0.25em;color: #696969;}#sk-container-id-10 label.sk-toggleable__label-arrow:hover:before {color: black;}#sk-container-id-10 div.sk-estimator:hover label.sk-toggleable__label-arrow:before {color: black;}#sk-container-id-10 div.sk-toggleable__content {max-height: 0;max-width: 0;overflow: hidden;text-align: left;background-color: #f0f8ff;}#sk-container-id-10 div.sk-toggleable__content pre {margin: 0.2em;color: black;border-radius: 0.25em;background-color: #f0f8ff;}#sk-container-id-10 input.sk-toggleable__control:checked~div.sk-toggleable__content {max-height: 200px;max-width: 100%;overflow: auto;}#sk-container-id-10 input.sk-toggleable__control:checked~label.sk-toggleable__label-arrow:before {content: \"▾\";}#sk-container-id-10 div.sk-estimator input.sk-toggleable__control:checked~label.sk-toggleable__label {background-color: #d4ebff;}#sk-container-id-10 div.sk-label input.sk-toggleable__control:checked~label.sk-toggleable__label {background-color: #d4ebff;}#sk-container-id-10 input.sk-hidden--visually {border: 0;clip: rect(1px 1px 1px 1px);clip: rect(1px, 1px, 1px, 1px);height: 1px;margin: -1px;overflow: hidden;padding: 0;position: absolute;width: 1px;}#sk-container-id-10 div.sk-estimator {font-family: monospace;background-color: #f0f8ff;border: 1px dotted black;border-radius: 0.25em;box-sizing: border-box;margin-bottom: 0.5em;}#sk-container-id-10 div.sk-estimator:hover {background-color: #d4ebff;}#sk-container-id-10 div.sk-parallel-item::after {content: \"\";width: 100%;border-bottom: 1px solid gray;flex-grow: 1;}#sk-container-id-10 div.sk-label:hover label.sk-toggleable__label {background-color: #d4ebff;}#sk-container-id-10 div.sk-serial::before {content: \"\";position: absolute;border-left: 1px solid gray;box-sizing: border-box;top: 0;bottom: 0;left: 50%;z-index: 0;}#sk-container-id-10 div.sk-serial {display: flex;flex-direction: column;align-items: center;background-color: white;padding-right: 0.2em;padding-left: 0.2em;position: relative;}#sk-container-id-10 div.sk-item {position: relative;z-index: 1;}#sk-container-id-10 div.sk-parallel {display: flex;align-items: stretch;justify-content: center;background-color: white;position: relative;}#sk-container-id-10 div.sk-item::before, #sk-container-id-10 div.sk-parallel-item::before {content: \"\";position: absolute;border-left: 1px solid gray;box-sizing: border-box;top: 0;bottom: 0;left: 50%;z-index: -1;}#sk-container-id-10 div.sk-parallel-item {display: flex;flex-direction: column;z-index: 1;position: relative;background-color: white;}#sk-container-id-10 div.sk-parallel-item:first-child::after {align-self: flex-end;width: 50%;}#sk-container-id-10 div.sk-parallel-item:last-child::after {align-self: flex-start;width: 50%;}#sk-container-id-10 div.sk-parallel-item:only-child::after {width: 0;}#sk-container-id-10 div.sk-dashed-wrapped {border: 1px dashed gray;margin: 0 0.4em 0.5em 0.4em;box-sizing: border-box;padding-bottom: 0.4em;background-color: white;}#sk-container-id-10 div.sk-label label {font-family: monospace;font-weight: bold;display: inline-block;line-height: 1.2em;}#sk-container-id-10 div.sk-label-container {text-align: center;}#sk-container-id-10 div.sk-container {/* jupyter's `normalize.less` sets `[hidden] { display: none; }` but bootstrap.min.css set `[hidden] { display: none !important; }` so we also need the `!important` here to be able to override the default hidden behavior on the sphinx rendered scikit-learn.org. See: https://github.com/scikit-learn/scikit-learn/issues/21755 */display: inline-block !important;position: relative;}#sk-container-id-10 div.sk-text-repr-fallback {display: none;}</style><div id=\"sk-container-id-10\" class=\"sk-top-container\"><div class=\"sk-text-repr-fallback\"><pre>GradientBoostingRegressor(random_state=42)</pre><b>In a Jupyter environment, please rerun this cell to show the HTML representation or trust the notebook. <br />On GitHub, the HTML representation is unable to render, please try loading this page with nbviewer.org.</b></div><div class=\"sk-container\" hidden><div class=\"sk-item\"><div class=\"sk-estimator sk-toggleable\"><input class=\"sk-toggleable__control sk-hidden--visually\" id=\"sk-estimator-id-10\" type=\"checkbox\" checked><label for=\"sk-estimator-id-10\" class=\"sk-toggleable__label sk-toggleable__label-arrow\">GradientBoostingRegressor</label><div class=\"sk-toggleable__content\"><pre>GradientBoostingRegressor(random_state=42)</pre></div></div></div></div></div>"
      ],
      "text/plain": [
       "GradientBoostingRegressor(random_state=42)"
      ]
     },
     "execution_count": 23,
     "metadata": {},
     "output_type": "execute_result"
    }
   ],
   "source": [
    "gb5.fit(x, y5)"
   ]
  },
  {
   "cell_type": "code",
   "execution_count": 24,
   "id": "f6266563",
   "metadata": {},
   "outputs": [],
   "source": [
    "# 각 피처의 중요도를 담은 어레이 생성\n",
    "gb1_feat = gb1.feature_importances_\n",
    "gb2_feat = gb2.feature_importances_\n",
    "gb3_feat = gb3.feature_importances_\n",
    "gb4_feat = gb4.feature_importances_\n",
    "gb5_feat = gb5.feature_importances_"
   ]
  },
  {
   "cell_type": "code",
   "execution_count": null,
   "id": "5296da19",
   "metadata": {},
   "outputs": [],
   "source": []
  },
  {
   "cell_type": "markdown",
   "id": "f25a4525",
   "metadata": {},
   "source": [
    "### 각 모델의 상위 100개 피처 확인"
   ]
  },
  {
   "cell_type": "code",
   "execution_count": 27,
   "id": "1e0bb5e1",
   "metadata": {},
   "outputs": [],
   "source": [
    "rf1_feat100 =  x.iloc[:, pd.Series(rf1_feat).sort_values(ascending = False)[0:100].index].columns\n",
    "rf2_feat100 =  x.iloc[:, pd.Series(rf2_feat).sort_values(ascending = False)[0:100].index].columns\n",
    "rf3_feat100 =  x.iloc[:, pd.Series(rf3_feat).sort_values(ascending = False)[0:100].index].columns\n",
    "rf4_feat100 =  x.iloc[:, pd.Series(rf4_feat).sort_values(ascending = False)[0:100].index].columns\n",
    "rf5_feat100 =  x.iloc[:, pd.Series(rf5_feat).sort_values(ascending = False)[0:100].index].columns"
   ]
  },
  {
   "cell_type": "code",
   "execution_count": 28,
   "id": "1433a245",
   "metadata": {},
   "outputs": [],
   "source": [
    "gb1_feat100 =  x.iloc[:, pd.Series(gb1_feat).sort_values(ascending = False)[0:100].index].columns\n",
    "gb2_feat100 =  x.iloc[:, pd.Series(gb2_feat).sort_values(ascending = False)[0:100].index].columns\n",
    "gb3_feat100 =  x.iloc[:, pd.Series(gb3_feat).sort_values(ascending = False)[0:100].index].columns\n",
    "gb4_feat100 =  x.iloc[:, pd.Series(gb4_feat).sort_values(ascending = False)[0:100].index].columns\n",
    "gb5_feat100 =  x.iloc[:, pd.Series(gb5_feat).sort_values(ascending = False)[0:100].index].columns"
   ]
  },
  {
   "cell_type": "code",
   "execution_count": null,
   "id": "96c6cedd",
   "metadata": {},
   "outputs": [],
   "source": []
  },
  {
   "cell_type": "markdown",
   "id": "32ad10e2",
   "metadata": {},
   "source": [
    "### 각각 100개의 피트가 몇회씩 등장하는지 확인하는 데이터프레임 생성"
   ]
  },
  {
   "cell_type": "code",
   "execution_count": 83,
   "id": "7beb04e6",
   "metadata": {},
   "outputs": [],
   "source": [
    "# 10개의 피처 리스트를 하나의 시리즈로 결합 후 중복 제거하여 상위 100개의 피처에 1회라도 등장한 피처의 이름만 남김\n",
    "feat_concat100 = pd.concat([\n",
    "    pd.Series(rf1_feat100),\n",
    "    pd.Series(rf2_feat100),\n",
    "    pd.Series(rf3_feat100),\n",
    "    pd.Series(rf4_feat100),\n",
    "    pd.Series(rf5_feat100),\n",
    "    pd.Series(gb1_feat100),\n",
    "    pd.Series(gb2_feat100),\n",
    "    pd.Series(gb3_feat100),\n",
    "    pd.Series(gb4_feat100),\n",
    "    pd.Series(gb5_feat100)    \n",
    "]).drop_duplicates()"
   ]
  },
  {
   "cell_type": "code",
   "execution_count": 85,
   "id": "3bb5af7e",
   "metadata": {},
   "outputs": [],
   "source": [
    "# 데이터프레임으로 변환\n",
    "feat_concat100 = pd.DataFrame(feat_concat100)"
   ]
  },
  {
   "cell_type": "code",
   "execution_count": 86,
   "id": "d05ab364",
   "metadata": {},
   "outputs": [],
   "source": [
    "feat_concat100.columns = [\"피처명\"]"
   ]
  },
  {
   "cell_type": "code",
   "execution_count": 87,
   "id": "077b3143",
   "metadata": {},
   "outputs": [],
   "source": [
    "feat_concat100 = feat_concat100.set_index(\"피처명\")"
   ]
  },
  {
   "cell_type": "code",
   "execution_count": 88,
   "id": "e08a0ab9",
   "metadata": {},
   "outputs": [],
   "source": [
    "# 등장 횟수를 입력할 피처 추가\n",
    "feat_concat100.loc[:, \"count\"] = 0"
   ]
  },
  {
   "cell_type": "code",
   "execution_count": 89,
   "id": "5b923417",
   "metadata": {},
   "outputs": [],
   "source": [
    "# 등장 횟수를 확인하기\n",
    "for feat in feat_concat100.index:\n",
    "    count = 0\n",
    "    if feat in rf1_feat100:\n",
    "        count += 1\n",
    "        \n",
    "    if feat in rf2_feat100:\n",
    "        count += 1\n",
    "        \n",
    "    if feat in rf3_feat100:\n",
    "        count += 1\n",
    "        \n",
    "    if feat in rf4_feat100:\n",
    "        count += 1\n",
    "        \n",
    "    if feat in rf5_feat100:\n",
    "        count += 1\n",
    "        \n",
    "    if feat in gb1_feat100:\n",
    "        count += 1\n",
    "        \n",
    "    if feat in gb2_feat100:\n",
    "        count += 1\n",
    "        \n",
    "    if feat in gb3_feat100:\n",
    "        count += 1\n",
    "        \n",
    "    if feat in gb4_feat100:\n",
    "        count += 1\n",
    "        \n",
    "    if feat in gb5_feat100:\n",
    "        count += 1\n",
    "        \n",
    "    feat_concat100.loc[feat, \"count\"] = count"
   ]
  },
  {
   "cell_type": "code",
   "execution_count": 90,
   "id": "b9617f6e",
   "metadata": {},
   "outputs": [],
   "source": [
    "feat_concat100 = feat_concat100.sort_values(by = \"count\", ascending = False)"
   ]
  },
  {
   "cell_type": "code",
   "execution_count": 91,
   "id": "44150484",
   "metadata": {},
   "outputs": [
    {
     "data": {
      "text/html": [
       "<div>\n",
       "<style scoped>\n",
       "    .dataframe tbody tr th:only-of-type {\n",
       "        vertical-align: middle;\n",
       "    }\n",
       "\n",
       "    .dataframe tbody tr th {\n",
       "        vertical-align: top;\n",
       "    }\n",
       "\n",
       "    .dataframe thead th {\n",
       "        text-align: right;\n",
       "    }\n",
       "</style>\n",
       "<table border=\"1\" class=\"dataframe\">\n",
       "  <thead>\n",
       "    <tr style=\"text-align: right;\">\n",
       "      <th></th>\n",
       "      <th>count</th>\n",
       "    </tr>\n",
       "    <tr>\n",
       "      <th>피처명</th>\n",
       "      <th></th>\n",
       "    </tr>\n",
       "  </thead>\n",
       "  <tbody>\n",
       "    <tr>\n",
       "      <th>('GUST풍속', '21229')</th>\n",
       "      <td>3</td>\n",
       "    </tr>\n",
       "    <tr>\n",
       "      <th>('이슬점온도', '101')</th>\n",
       "      <td>3</td>\n",
       "    </tr>\n",
       "    <tr>\n",
       "      <th>('기온', '108')</th>\n",
       "      <td>3</td>\n",
       "    </tr>\n",
       "    <tr>\n",
       "      <th>('해면기압', '59287.0')</th>\n",
       "      <td>3</td>\n",
       "    </tr>\n",
       "    <tr>\n",
       "      <th>crude_iron_ore</th>\n",
       "      <td>3</td>\n",
       "    </tr>\n",
       "    <tr>\n",
       "      <th>('기온', '58027.0')</th>\n",
       "      <td>3</td>\n",
       "    </tr>\n",
       "    <tr>\n",
       "      <th>('이슬점온도', '277')</th>\n",
       "      <td>3</td>\n",
       "    </tr>\n",
       "    <tr>\n",
       "      <th>('강수량', '105')</th>\n",
       "      <td>3</td>\n",
       "    </tr>\n",
       "    <tr>\n",
       "      <th>('습도', '22103')</th>\n",
       "      <td>3</td>\n",
       "    </tr>\n",
       "    <tr>\n",
       "      <th>('강수량', '159')</th>\n",
       "      <td>3</td>\n",
       "    </tr>\n",
       "    <tr>\n",
       "      <th>plain_glass</th>\n",
       "      <td>3</td>\n",
       "    </tr>\n",
       "    <tr>\n",
       "      <th>('풍속', '279')</th>\n",
       "      <td>3</td>\n",
       "    </tr>\n",
       "    <tr>\n",
       "      <th>('습도', '22184')</th>\n",
       "      <td>3</td>\n",
       "    </tr>\n",
       "    <tr>\n",
       "      <th>rolled_steel</th>\n",
       "      <td>3</td>\n",
       "    </tr>\n",
       "    <tr>\n",
       "      <th>('풍속', '119')</th>\n",
       "      <td>3</td>\n",
       "    </tr>\n",
       "    <tr>\n",
       "      <th>('풍속', '105')</th>\n",
       "      <td>3</td>\n",
       "    </tr>\n",
       "    <tr>\n",
       "      <th>home_refrigerators</th>\n",
       "      <td>3</td>\n",
       "    </tr>\n",
       "    <tr>\n",
       "      <th>('풍속', '165')</th>\n",
       "      <td>3</td>\n",
       "    </tr>\n",
       "    <tr>\n",
       "      <th>이슬점 온도</th>\n",
       "      <td>3</td>\n",
       "    </tr>\n",
       "    <tr>\n",
       "      <th>('이슬점온도', '152')</th>\n",
       "      <td>3</td>\n",
       "    </tr>\n",
       "    <tr>\n",
       "      <th>('습도', '133')</th>\n",
       "      <td>3</td>\n",
       "    </tr>\n",
       "    <tr>\n",
       "      <th>('습도', '22106')</th>\n",
       "      <td>3</td>\n",
       "    </tr>\n",
       "    <tr>\n",
       "      <th>('이슬점 온도', '54857.0')</th>\n",
       "      <td>3</td>\n",
       "    </tr>\n",
       "    <tr>\n",
       "      <th>('습도', '108')</th>\n",
       "      <td>3</td>\n",
       "    </tr>\n",
       "    <tr>\n",
       "      <th>('해면기압', '52203.0')</th>\n",
       "      <td>3</td>\n",
       "    </tr>\n",
       "    <tr>\n",
       "      <th>('증기압', '159')</th>\n",
       "      <td>3</td>\n",
       "    </tr>\n",
       "    <tr>\n",
       "      <th>('기온', '90')</th>\n",
       "      <td>3</td>\n",
       "    </tr>\n",
       "    <tr>\n",
       "      <th>('이슬점 온도', '58362.0')</th>\n",
       "      <td>3</td>\n",
       "    </tr>\n",
       "    <tr>\n",
       "      <th>('기온', '22108')</th>\n",
       "      <td>3</td>\n",
       "    </tr>\n",
       "    <tr>\n",
       "      <th>('기온', '58666.0')</th>\n",
       "      <td>3</td>\n",
       "    </tr>\n",
       "    <tr>\n",
       "      <th>('풍속', '184')</th>\n",
       "      <td>3</td>\n",
       "    </tr>\n",
       "    <tr>\n",
       "      <th>('현지기압', '90')</th>\n",
       "      <td>3</td>\n",
       "    </tr>\n",
       "    <tr>\n",
       "      <th>('이슬점 온도', '52203.0')</th>\n",
       "      <td>3</td>\n",
       "    </tr>\n",
       "    <tr>\n",
       "      <th>('이슬점 온도', '54511.0')</th>\n",
       "      <td>3</td>\n",
       "    </tr>\n",
       "    <tr>\n",
       "      <th>pig_iron</th>\n",
       "      <td>3</td>\n",
       "    </tr>\n",
       "  </tbody>\n",
       "</table>\n",
       "</div>"
      ],
      "text/plain": [
       "                       count\n",
       "피처명                         \n",
       "('GUST풍속', '21229')        3\n",
       "('이슬점온도', '101')           3\n",
       "('기온', '108')              3\n",
       "('해면기압', '59287.0')        3\n",
       "crude_iron_ore             3\n",
       "('기온', '58027.0')          3\n",
       "('이슬점온도', '277')           3\n",
       "('강수량', '105')             3\n",
       "('습도', '22103')            3\n",
       "('강수량', '159')             3\n",
       "plain_glass                3\n",
       "('풍속', '279')              3\n",
       "('습도', '22184')            3\n",
       "rolled_steel               3\n",
       "('풍속', '119')              3\n",
       "('풍속', '105')              3\n",
       "home_refrigerators         3\n",
       "('풍속', '165')              3\n",
       "이슬점 온도                     3\n",
       "('이슬점온도', '152')           3\n",
       "('습도', '133')              3\n",
       "('습도', '22106')            3\n",
       "('이슬점 온도', '54857.0')      3\n",
       "('습도', '108')              3\n",
       "('해면기압', '52203.0')        3\n",
       "('증기압', '159')             3\n",
       "('기온', '90')               3\n",
       "('이슬점 온도', '58362.0')      3\n",
       "('기온', '22108')            3\n",
       "('기온', '58666.0')          3\n",
       "('풍속', '184')              3\n",
       "('현지기압', '90')             3\n",
       "('이슬점 온도', '52203.0')      3\n",
       "('이슬점 온도', '54511.0')      3\n",
       "pig_iron                   3"
      ]
     },
     "execution_count": 91,
     "metadata": {},
     "output_type": "execute_result"
    }
   ],
   "source": [
    "# 피처 확인\n",
    "feat_concat100[feat_concat100[\"count\"] == 3]"
   ]
  },
  {
   "cell_type": "code",
   "execution_count": null,
   "id": "db0a3567",
   "metadata": {},
   "outputs": [],
   "source": []
  },
  {
   "cell_type": "markdown",
   "id": "76b69225",
   "metadata": {},
   "source": [
    "### 250개 기준으로 동일한 작업 수행\n",
    "\n",
    "- 250개, 약 10%의 피처만으로도 80% 이상의 설명력을 가짐\n",
    "- 250개 피처의 중요성은 나머지 2250개의 36배 수준"
   ]
  },
  {
   "cell_type": "code",
   "execution_count": 80,
   "id": "c0e8220e",
   "metadata": {},
   "outputs": [],
   "source": [
    "rf1_feat250 =  x.iloc[:, pd.Series(rf1_feat).sort_values(ascending = False)[0:250].index].columns\n",
    "rf2_feat250 =  x.iloc[:, pd.Series(rf2_feat).sort_values(ascending = False)[0:250].index].columns\n",
    "rf3_feat250 =  x.iloc[:, pd.Series(rf3_feat).sort_values(ascending = False)[0:250].index].columns\n",
    "rf4_feat250 =  x.iloc[:, pd.Series(rf4_feat).sort_values(ascending = False)[0:250].index].columns\n",
    "rf5_feat250 =  x.iloc[:, pd.Series(rf5_feat).sort_values(ascending = False)[0:250].index].columns"
   ]
  },
  {
   "cell_type": "code",
   "execution_count": 81,
   "id": "208a8de3",
   "metadata": {},
   "outputs": [],
   "source": [
    "gb1_feat250 =  x.iloc[:, pd.Series(gb1_feat).sort_values(ascending = False)[0:250].index].columns\n",
    "gb2_feat250 =  x.iloc[:, pd.Series(gb2_feat).sort_values(ascending = False)[0:250].index].columns\n",
    "gb3_feat250 =  x.iloc[:, pd.Series(gb3_feat).sort_values(ascending = False)[0:250].index].columns\n",
    "gb4_feat250 =  x.iloc[:, pd.Series(gb4_feat).sort_values(ascending = False)[0:250].index].columns\n",
    "gb5_feat250 =  x.iloc[:, pd.Series(gb5_feat).sort_values(ascending = False)[0:250].index].columns"
   ]
  },
  {
   "cell_type": "code",
   "execution_count": 84,
   "id": "e6503748",
   "metadata": {},
   "outputs": [],
   "source": [
    "# 10개의 피처 리스트를 하나의 시리즈로 결합 후 중복 제거하여 상위 100개의 피처에 1회라도 등장한 피처의 이름만 남김\n",
    "feat_concat250 = pd.concat([\n",
    "    pd.Series(rf1_feat250),\n",
    "    pd.Series(rf2_feat250),\n",
    "    pd.Series(rf3_feat250),\n",
    "    pd.Series(rf4_feat250),\n",
    "    pd.Series(rf5_feat250),\n",
    "    pd.Series(gb1_feat250),\n",
    "    pd.Series(gb2_feat250),\n",
    "    pd.Series(gb3_feat250),\n",
    "    pd.Series(gb4_feat250),\n",
    "    pd.Series(gb5_feat250)    \n",
    "]).drop_duplicates()"
   ]
  },
  {
   "cell_type": "code",
   "execution_count": 92,
   "id": "d58137cd",
   "metadata": {},
   "outputs": [],
   "source": [
    "# 데이터프레임으로 변환\n",
    "feat_concat250 = pd.DataFrame(feat_concat250)\n",
    "feat_concat250.columns = [\"피처명\"]\n",
    "feat_concat250 = feat_concat250.set_index(\"피처명\")\n",
    "feat_concat250.loc[:, \"count\"] = 0"
   ]
  },
  {
   "cell_type": "code",
   "execution_count": 94,
   "id": "118d72cd",
   "metadata": {},
   "outputs": [],
   "source": [
    "# 등장 횟수를 확인하기\n",
    "for feat in feat_concat250.index:\n",
    "    count = 0\n",
    "    if feat in rf1_feat250:\n",
    "        count += 1\n",
    "        \n",
    "    if feat in rf2_feat250:\n",
    "        count += 1\n",
    "        \n",
    "    if feat in rf3_feat250:\n",
    "        count += 1\n",
    "        \n",
    "    if feat in rf4_feat250:\n",
    "        count += 1\n",
    "        \n",
    "    if feat in rf5_feat250:\n",
    "        count += 1\n",
    "        \n",
    "    if feat in gb1_feat250:\n",
    "        count += 1\n",
    "        \n",
    "    if feat in gb2_feat250:\n",
    "        count += 1\n",
    "        \n",
    "    if feat in gb3_feat250:\n",
    "        count += 1\n",
    "        \n",
    "    if feat in gb4_feat250:\n",
    "        count += 1\n",
    "        \n",
    "    if feat in gb5_feat250:\n",
    "        count += 1\n",
    "        \n",
    "    feat_concat250.loc[feat, \"count\"] = count"
   ]
  },
  {
   "cell_type": "code",
   "execution_count": 95,
   "id": "f9ab61a7",
   "metadata": {},
   "outputs": [],
   "source": [
    "feat_concat250 = feat_concat250.sort_values(by = \"count\", ascending = False)"
   ]
  },
  {
   "cell_type": "code",
   "execution_count": 97,
   "id": "c1816d69",
   "metadata": {},
   "outputs": [
    {
     "data": {
      "text/plain": [
       "623"
      ]
     },
     "execution_count": 97,
     "metadata": {},
     "output_type": "execute_result"
    }
   ],
   "source": [
    "len(feat_concat250)"
   ]
  },
  {
   "cell_type": "code",
   "execution_count": 144,
   "id": "705b1249",
   "metadata": {},
   "outputs": [
    {
     "data": {
      "text/html": [
       "<div>\n",
       "<style scoped>\n",
       "    .dataframe tbody tr th:only-of-type {\n",
       "        vertical-align: middle;\n",
       "    }\n",
       "\n",
       "    .dataframe tbody tr th {\n",
       "        vertical-align: top;\n",
       "    }\n",
       "\n",
       "    .dataframe thead th {\n",
       "        text-align: right;\n",
       "    }\n",
       "</style>\n",
       "<table border=\"1\" class=\"dataframe\">\n",
       "  <thead>\n",
       "    <tr style=\"text-align: right;\">\n",
       "      <th></th>\n",
       "      <th>count</th>\n",
       "    </tr>\n",
       "    <tr>\n",
       "      <th>피처명</th>\n",
       "      <th></th>\n",
       "    </tr>\n",
       "  </thead>\n",
       "  <tbody>\n",
       "    <tr>\n",
       "      <th>('기온', '59287.0')</th>\n",
       "      <td>5</td>\n",
       "    </tr>\n",
       "    <tr>\n",
       "      <th>micro_computer_equipment</th>\n",
       "      <td>5</td>\n",
       "    </tr>\n",
       "    <tr>\n",
       "      <th>('기온', '168')</th>\n",
       "      <td>5</td>\n",
       "    </tr>\n",
       "    <tr>\n",
       "      <th>('습도', '54026.0')</th>\n",
       "      <td>5</td>\n",
       "    </tr>\n",
       "    <tr>\n",
       "      <th>('증기압', '165')</th>\n",
       "      <td>5</td>\n",
       "    </tr>\n",
       "    <tr>\n",
       "      <th>('습도', '58362.0')</th>\n",
       "      <td>5</td>\n",
       "    </tr>\n",
       "    <tr>\n",
       "      <th>('증기압', '168')</th>\n",
       "      <td>5</td>\n",
       "    </tr>\n",
       "    <tr>\n",
       "      <th>('기온', '58666.0')</th>\n",
       "      <td>5</td>\n",
       "    </tr>\n",
       "    <tr>\n",
       "      <th>plain_glass</th>\n",
       "      <td>5</td>\n",
       "    </tr>\n",
       "    <tr>\n",
       "      <th>('현지기압', '59287.0')</th>\n",
       "      <td>5</td>\n",
       "    </tr>\n",
       "    <tr>\n",
       "      <th>('전라도', '협회단체수리기타개인서비스업')</th>\n",
       "      <td>5</td>\n",
       "    </tr>\n",
       "    <tr>\n",
       "      <th>('습도', '119')</th>\n",
       "      <td>5</td>\n",
       "    </tr>\n",
       "    <tr>\n",
       "      <th>('현지기압', '232')</th>\n",
       "      <td>5</td>\n",
       "    </tr>\n",
       "    <tr>\n",
       "      <th>('현지기압', '53845.0')</th>\n",
       "      <td>5</td>\n",
       "    </tr>\n",
       "    <tr>\n",
       "      <th>('습도', '57494.0')</th>\n",
       "      <td>5</td>\n",
       "    </tr>\n",
       "    <tr>\n",
       "      <th>zinc</th>\n",
       "      <td>5</td>\n",
       "    </tr>\n",
       "    <tr>\n",
       "      <th>('기온', '159')</th>\n",
       "      <td>5</td>\n",
       "    </tr>\n",
       "    <tr>\n",
       "      <th>('습도', '52681.0')</th>\n",
       "      <td>5</td>\n",
       "    </tr>\n",
       "    <tr>\n",
       "      <th>('이슬점온도', '101')</th>\n",
       "      <td>5</td>\n",
       "    </tr>\n",
       "    <tr>\n",
       "      <th>('기온', '105')</th>\n",
       "      <td>5</td>\n",
       "    </tr>\n",
       "    <tr>\n",
       "      <th>('습도', '22107')</th>\n",
       "      <td>5</td>\n",
       "    </tr>\n",
       "    <tr>\n",
       "      <th>('기온', '184')</th>\n",
       "      <td>5</td>\n",
       "    </tr>\n",
       "    <tr>\n",
       "      <th>('전라도', '도매소매업')</th>\n",
       "      <td>5</td>\n",
       "    </tr>\n",
       "    <tr>\n",
       "      <th>('서울', '도매소매업')</th>\n",
       "      <td>5</td>\n",
       "    </tr>\n",
       "    <tr>\n",
       "      <th>('습도', '54823.0')</th>\n",
       "      <td>5</td>\n",
       "    </tr>\n",
       "    <tr>\n",
       "      <th>('현지기압', '54857.0')</th>\n",
       "      <td>5</td>\n",
       "    </tr>\n",
       "    <tr>\n",
       "      <th>('현지기압', '51463.0')</th>\n",
       "      <td>5</td>\n",
       "    </tr>\n",
       "    <tr>\n",
       "      <th>('습도', '101')</th>\n",
       "      <td>5</td>\n",
       "    </tr>\n",
       "    <tr>\n",
       "      <th>('강원도', '금융보험업')</th>\n",
       "      <td>5</td>\n",
       "    </tr>\n",
       "    <tr>\n",
       "      <th>('현지기압', '52681.0')</th>\n",
       "      <td>5</td>\n",
       "    </tr>\n",
       "    <tr>\n",
       "      <th>('강원도', '정보통신업')</th>\n",
       "      <td>5</td>\n",
       "    </tr>\n",
       "    <tr>\n",
       "      <th>('습도', '50745.0')</th>\n",
       "      <td>5</td>\n",
       "    </tr>\n",
       "    <tr>\n",
       "      <th>refined_sugar</th>\n",
       "      <td>5</td>\n",
       "    </tr>\n",
       "    <tr>\n",
       "      <th>('현지기압', '58847.0')</th>\n",
       "      <td>5</td>\n",
       "    </tr>\n",
       "    <tr>\n",
       "      <th>('이슬점 온도', '56029.0')</th>\n",
       "      <td>5</td>\n",
       "    </tr>\n",
       "    <tr>\n",
       "      <th>('기온', '53845.0')</th>\n",
       "      <td>5</td>\n",
       "    </tr>\n",
       "    <tr>\n",
       "      <th>('GUST풍속', '22101')</th>\n",
       "      <td>5</td>\n",
       "    </tr>\n",
       "    <tr>\n",
       "      <th>('지면온도', '102')</th>\n",
       "      <td>5</td>\n",
       "    </tr>\n",
       "  </tbody>\n",
       "</table>\n",
       "</div>"
      ],
      "text/plain": [
       "                           count\n",
       "피처명                             \n",
       "('기온', '59287.0')              5\n",
       "micro_computer_equipment       5\n",
       "('기온', '168')                  5\n",
       "('습도', '54026.0')              5\n",
       "('증기압', '165')                 5\n",
       "('습도', '58362.0')              5\n",
       "('증기압', '168')                 5\n",
       "('기온', '58666.0')              5\n",
       "plain_glass                    5\n",
       "('현지기압', '59287.0')            5\n",
       "('전라도', '협회단체수리기타개인서비스업')      5\n",
       "('습도', '119')                  5\n",
       "('현지기압', '232')                5\n",
       "('현지기압', '53845.0')            5\n",
       "('습도', '57494.0')              5\n",
       "zinc                           5\n",
       "('기온', '159')                  5\n",
       "('습도', '52681.0')              5\n",
       "('이슬점온도', '101')               5\n",
       "('기온', '105')                  5\n",
       "('습도', '22107')                5\n",
       "('기온', '184')                  5\n",
       "('전라도', '도매소매업')               5\n",
       "('서울', '도매소매업')                5\n",
       "('습도', '54823.0')              5\n",
       "('현지기압', '54857.0')            5\n",
       "('현지기압', '51463.0')            5\n",
       "('습도', '101')                  5\n",
       "('강원도', '금융보험업')               5\n",
       "('현지기압', '52681.0')            5\n",
       "('강원도', '정보통신업')               5\n",
       "('습도', '50745.0')              5\n",
       "refined_sugar                  5\n",
       "('현지기압', '58847.0')            5\n",
       "('이슬점 온도', '56029.0')          5\n",
       "('기온', '53845.0')              5\n",
       "('GUST풍속', '22101')            5\n",
       "('지면온도', '102')                5"
      ]
     },
     "execution_count": 144,
     "metadata": {},
     "output_type": "execute_result"
    }
   ],
   "source": [
    "# 피처 확인\n",
    "feat_concat250[feat_concat250[\"count\"] == 5]"
   ]
  },
  {
   "cell_type": "markdown",
   "id": "09aa0d2d",
   "metadata": {},
   "source": [
    "- 10회 : cn_sha, cn_a50, 고급휘발유, 실내등유, 보통휘발유, (전라도, 운수창고업), (전라도, 정보통신업)\n",
    "- 9회 : 자동차용경유, 종가, cn_szse\n",
    "- 8회 : insulating_glass, 종가.1, (충청도, 정보통신업)\n",
    "- 7회 : rolled_steel\n",
    "- 6회 : salt, large_tractors, ('강원도_생산', '광업'), corrugated_steel_bar, ('강원도', '협회단체수리기타개인서비스업')\t\n",
    "- 5회 : micro_computer_equipment, plain_glass, ('전라도', '협회단체수리기타개인서비스업'), zinc, ('전라도', '도매소매업'), ('서울', '도매소매업'), ('강원도', '금융보험업'), ('강원도', '정보통신업'), refined_sugar"
   ]
  },
  {
   "cell_type": "code",
   "execution_count": null,
   "id": "136276b4",
   "metadata": {},
   "outputs": [],
   "source": []
  },
  {
   "cell_type": "markdown",
   "id": "085dde97",
   "metadata": {},
   "source": [
    "## 분석"
   ]
  },
  {
   "cell_type": "markdown",
   "id": "7e5d323b",
   "metadata": {},
   "source": [
    "- 전라도의 운수창고업은 상위권에 2회 등장하며 상관관계에서도 -0.429로 상관관계가 높은 것으로 파악됨\n",
    "    - 전라도의 항만은 주로 중국과의 무역을 할 것으로 추측됨\n",
    "    - 목포항, 군산항, 여수항 3개의 무역항이 있으며 중국과의 관련성은 현재 탐색 중\n",
    "    - 군산항 https://encykorea.aks.ac.kr/Article/E0006660, https://www.hankyung.com/article/202401298975Y"
   ]
  },
  {
   "cell_type": "markdown",
   "id": "bcf2221a",
   "metadata": {},
   "source": [
    "- 강원도의 광업 생산량\n",
    "    - 강원도 광업 https://www.kigam.re.kr/menu.es?mid=a30103010204\n",
    "    - 생산량의 대부분이 석회석으로 광산에서 미세먼지가 배출이되며 석회석은 주로 건설용도로 사용되는데 건설 현장에서도 미세먼지가 발생함\n",
    "    - 석회석 광산과 미세먼지 http://www.ombudsmannews.com/default/index_view_page.php?part_idx=4847&idx=9560\n",
    "    - 건설현장과 미세먼지 https://www.jekosae.or.kr/xml/02729/02729.pdf"
   ]
  },
  {
   "cell_type": "markdown",
   "id": "7ad2a597",
   "metadata": {},
   "source": [
    "- 중국의 단열 유리, 일반 유리 생산\n",
    "    - 상관계수 분석에서도 일반 유리, 접합 유리, 단열 유리 모두 유의미한 것으로 파악됨\n",
    "    - 유리 생산과 먼지 오염 관련 내용 https://www.agc-glass.eu/en/sustainability/decarbonisation/environmental-impact"
   ]
  },
  {
   "cell_type": "markdown",
   "id": "dcd4e815",
   "metadata": {},
   "source": [
    "- 타이어 역시 3번 등장한 중요도가 높은 피처\n",
    "    - 타이어 생산량은 자동차의 도로주행을 간접적으로 확인할 수도 있는 피처\n",
    "    - 도로 주행 시 타이어 마모로 인한 미세먼지 발생 https://news.kbs.co.kr/news/pc/view/view.do?ncd=5575028"
   ]
  },
  {
   "cell_type": "markdown",
   "id": "2daeb38e",
   "metadata": {},
   "source": [
    "- 철강 관련 제품들의 생산량이 중요도가 높게 책정됨\n",
    "    - 제철소에서 용광로 등에서 사용하기 위해 화석연료를 사용 (주로 석탄)\n",
    "    - 제철소의 미세먼지 발생 관련 기사 https://www.idjnews.kr/news/articleView.html?idxno=137144"
   ]
  },
  {
   "cell_type": "markdown",
   "id": "35cafa1b",
   "metadata": {},
   "source": [
    "- 고급휘발유, 보통휘발유, 자동차용 경유\n",
    "    - 자동차 주행과 관련이 깊을 것으로 생각됨\n",
    "    - 자동차와 미세먼지 발생 관련 기사 https://www.pressian.com/pages/articles/2021030508311008716"
   ]
  },
  {
   "cell_type": "markdown",
   "id": "bf8a27c5",
   "metadata": {},
   "source": [
    "- 실내등유\n",
    "    - 이전의 고급휘발유, 보통휘발유, 자동차용 경유 등도 동일하게 적용\n",
    "    - 정유시설에서 미세먼지 발생 https://news.kbs.co.kr/news/pc/view/view.do?ncd=3292317"
   ]
  },
  {
   "cell_type": "markdown",
   "id": "57058dc9",
   "metadata": {},
   "source": [
    "- 중국의 소금 생산은 암염이 주를 이루며 칭하이성의 차이다무 분지에서 대부분이 생산된다고 함\n",
    "    - 중국의 암염 생산 https://www.hani.co.kr/arti/specialsection/esc_section/491372.html\n",
    "    - 소금 광산과 소금 먼지? https://www.mdpi.com/1996-1073/15/21/8122\n",
    "        - 중국의 소금 광산은 아니지만 다른 소금 광산에서 소금 먼지(salt dust) 배출에 대한 글"
   ]
  },
  {
   "cell_type": "markdown",
   "id": "15629661",
   "metadata": {},
   "source": [
    "- 중국의 아연 생산\n",
    "    - 중국은 전세계 아연의 33%(2019년)를 생산하는 최대 생산국임 https://en.wikipedia.org/wiki/List_of_countries_by_zinc_production\n",
    "    - 아연 광산 역시 1위 https://dream.kotra.or.kr/kotranews/cms/news/actionKotraBoardDetail.do?SITE_NO=3&MENU_ID=180&CONTENTS_NO=1&bbsGbn=243&bbsSn=243&pNttSn=198741\n",
    "    - 아연을 제련하는 작업은 건식 제련일 경우 화석연료를 소모함"
   ]
  },
  {
   "cell_type": "code",
   "execution_count": null,
   "id": "2d97eeb2",
   "metadata": {},
   "outputs": [],
   "source": []
  },
  {
   "cell_type": "markdown",
   "id": "c804be3a",
   "metadata": {},
   "source": [
    "### 기존의 독립변수에서 제거할 피처들 선택\n",
    "\n",
    "- ver4 데이터로 학습 시 모델의 성능이 일관되지 못한 경향이 있음\n",
    "- 불필요한 피처가 많기 때문이라 생각되어 일부 피처를 제거하고자 함"
   ]
  },
  {
   "cell_type": "code",
   "execution_count": 145,
   "id": "c9c5efef",
   "metadata": {},
   "outputs": [],
   "source": [
    "# 한국 / 중국의 사회경제 데이터 읽기\n",
    "kr_economy = pd.read_csv(\"./독립변수/한국경제지표종합.csv\", index_col = 0)\n",
    "cn_economy = pd.read_csv(\"./독립변수/중국사회경제종합.csv\", index_col = 0)"
   ]
  },
  {
   "cell_type": "code",
   "execution_count": 146,
   "id": "eb0e398b",
   "metadata": {},
   "outputs": [],
   "source": [
    "corr_list = [\"'('경상도', '부동산업임대업')'\",\n",
    "                 \"Freight Traffic of Waterways Current Period(10000 tons)\",\n",
    "                 \"'('전라도', '운수창고업')'\",\n",
    "                 \"Output of Thermal Power Current Period(100 million kwh)\",\n",
    "                 \"'('전라도', '전문과학기술서비스업')'\", 'lithium_ion_batteries',\n",
    "                 \"'('서울', '보건업사회복지서비스업')'\", 'electrolyzed_aluminum', 'integrated_circuits',\n",
    "                 'synthetic_rubber', \"'('충청도', '운수창고업')'\", 'medium_tractors',\n",
    "                 'equipment_for_feed_production', \"'('서울', '운수창고업')'\",\n",
    "                 'elevators_escalators_and_lifts',\n",
    "                 'Output of LNG Current Period(10000 tons)', \"'('서울', '정보통신업')'\",\n",
    "                 \"'('전라도', '정보통신업')'\", \"'('강원도', '농업임업어업')'\", \"'('서울', '전문과학기술서비스업')'\",\n",
    "                 \"'('충청도', '전문과학기술서비스업')'\",\n",
    "                 'Output of Electricity Current Period(100 million kwh)',\n",
    "                 \"'('경상도', '정보통신업')'\", \"'('충청도', '정보통신업')'\", \"'('강원도', '정보통신업')'\",\n",
    "                 \"'('경상도', '운수창고업')'\", 'xerox_and_hectograph_printing_equipment', '개인서비스2',\n",
    "                 \"'('서울', '부동산업임대업')'\", 'insulating_glass', \"'('전라도', '도매소매업')'\",\n",
    "                 \"'('충청도', '도매소매업')'\", 'refined_copper', 'primary_plastic', 'liquior',\n",
    "                 \"'('서울', '제조업')'\", 'laminated_glass', 'small_tractors',\n",
    "                 \"'('전라도', '부동산업임대업')'\",\n",
    "                 'Freight Traffic of Railways Current Period(10000 tons)', 'plain_glass',\n",
    "                 \"'('충청도', '부동산업임대업')'\", 'ten_kinds_of_nonferrous_metals',\n",
    "                 'Output of Processing Volume of Crude oil Current Period(10000 tons)']"
   ]
  },
  {
   "cell_type": "code",
   "execution_count": 147,
   "id": "6a72d977",
   "metadata": {},
   "outputs": [],
   "source": [
    "# 상위 250등에 1회라도 등장하지 못한 피처, corr_list에서 상위권에 매겨지지 못한 피처 제거\n",
    "kr_remove = kr_economy.loc[:, (~kr_economy.columns.isin(feat_concat250.index)) & (~kr_economy.columns.isin(corr_list))].columns\n",
    "cn_remove = cn_economy.loc[:, (~cn_economy.columns.isin(feat_concat250.index)) & (~cn_economy.columns.isin(corr_list))].columns"
   ]
  },
  {
   "cell_type": "code",
   "execution_count": 148,
   "id": "9ec56999",
   "metadata": {},
   "outputs": [],
   "source": [
    "kr_remove = pd.Series(kr_remove)\n",
    "cn_remove = pd.Series(cn_remove)"
   ]
  },
  {
   "cell_type": "code",
   "execution_count": 149,
   "id": "a2ee7d6a",
   "metadata": {},
   "outputs": [],
   "source": [
    "# 제거할 리스트 생성\n",
    "kr_remove.to_csv(\"./kr_remove.csv\")\n",
    "cn_remove.to_csv(\"./cn_remove.csv\")"
   ]
  },
  {
   "cell_type": "code",
   "execution_count": null,
   "id": "224897ae",
   "metadata": {},
   "outputs": [],
   "source": []
  }
 ],
 "metadata": {
  "kernelspec": {
   "display_name": "Python 3 (ipykernel)",
   "language": "python",
   "name": "python3"
  },
  "language_info": {
   "codemirror_mode": {
    "name": "ipython",
    "version": 3
   },
   "file_extension": ".py",
   "mimetype": "text/x-python",
   "name": "python",
   "nbconvert_exporter": "python",
   "pygments_lexer": "ipython3",
   "version": "3.11.7"
  }
 },
 "nbformat": 4,
 "nbformat_minor": 5
}
