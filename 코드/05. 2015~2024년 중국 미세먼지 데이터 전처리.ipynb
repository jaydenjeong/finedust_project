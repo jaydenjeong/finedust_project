{
 "cells": [
  {
   "cell_type": "code",
   "execution_count": 20,
   "id": "4097a85f",
   "metadata": {},
   "outputs": [],
   "source": [
    "import pandas as pd\n",
    "import numpy as np\n",
    "from datetime import datetime, timedelta\n",
    "from sklearn.impute import KNNImputer\n",
    "from sklearn.preprocessing import StandardScaler"
   ]
  },
  {
   "cell_type": "code",
   "execution_count": 2,
   "id": "d847eeef",
   "metadata": {},
   "outputs": [],
   "source": [
    "# 연속된 True 값을 계산하는 함수\n",
    "def calculate_consecutive_trues(series):\n",
    "    n = len(series)\n",
    "    result = [0] * n\n",
    "    count = 0\n",
    "\n",
    "    # 첫 번째 패스: 연속된 True의 그룹 길이를 계산\n",
    "    for i in range(n):\n",
    "        if series[i]:\n",
    "            count += 1\n",
    "        else:\n",
    "            count = 0\n",
    "        result[i] = count\n",
    "\n",
    "    # 두 번째 패스: 그룹의 마지막 True 값에 그룹의 전체 길이를 설정\n",
    "    final_result = [0] * n\n",
    "    i = 0\n",
    "    while i < n:\n",
    "        if result[i] > 0:\n",
    "            length = result[i]\n",
    "            for j in range(length):\n",
    "                final_result[i - j] = length\n",
    "            i += length\n",
    "        else:\n",
    "            i += 1\n",
    "\n",
    "    return final_result"
   ]
  },
  {
   "cell_type": "code",
   "execution_count": 38,
   "id": "836977c6",
   "metadata": {},
   "outputs": [],
   "source": [
    "def convert_df_to_float(df):\n",
    "    def try_convert(value):\n",
    "        try:\n",
    "            return float(value)\n",
    "        except (ValueError, TypeError):\n",
    "            return np.nan\n",
    "    \n",
    "    converted_df = df.map(try_convert)\n",
    "    return converted_df"
   ]
  },
  {
   "cell_type": "markdown",
   "id": "e2ccc6c0",
   "metadata": {},
   "source": [
    "### 중국의 미세먼지 데이터를 독립변수로 사용하기 위해 처리\n",
    "\n",
    "- 중국에서 사용할 지점은 베이징, 상하이, 난징, 광저우, 우한, 칭다오, 우루무치 7개 지점\n",
    "- 각 데이터의 15년 1월 1일 ~ 24년 5월 19일까지의 데이터를 병합한 데이터 생성"
   ]
  },
  {
   "cell_type": "code",
   "execution_count": 3,
   "id": "1b415c79",
   "metadata": {},
   "outputs": [],
   "source": [
    "# 중국 미세먼지 데이터 호출\n",
    "beijing_dust = pd.read_csv(\"./중국 미세먼지 데이터/베이징-air-quality.csv\")\n",
    "shanghai_dust = pd.read_csv(\"./중국 미세먼지 데이터/상하이-air-quality.csv\")\n",
    "nanjing_dust = pd.read_csv(\"./중국 미세먼지 데이터/난징-air-quality.csv\")\n",
    "guangzhou_dust = pd.read_csv(\"./중국 미세먼지 데이터/광저우-air-quality.csv\")\n",
    "wuhan_dust = pd.read_csv(\"./중국 미세먼지 데이터/우한-air-quality.csv\")\n",
    "qingdao_dust = pd.read_csv(\"./중국 미세먼지 데이터/칭다오-air-quality.csv\")\n",
    "urumuchi_dust = pd.read_csv(\"./중국 미세먼지 데이터/우루무치-air-quality.csv\")"
   ]
  },
  {
   "cell_type": "code",
   "execution_count": 4,
   "id": "f0740df8",
   "metadata": {},
   "outputs": [],
   "source": [
    "# 각 지점 데이터의 date 피처 데이터 형식을 날짜로 변경\n",
    "beijing_dust[\"date\"] = beijing_dust[\"date\"].map(lambda x: datetime.strptime(x, \"%Y/%m/%d\"))\n",
    "shanghai_dust[\"date\"] = shanghai_dust[\"date\"].map(lambda x: datetime.strptime(x, \"%Y/%m/%d\"))\n",
    "nanjing_dust[\"date\"] = nanjing_dust[\"date\"].map(lambda x: datetime.strptime(x, \"%Y/%m/%d\"))\n",
    "guangzhou_dust[\"date\"] = guangzhou_dust[\"date\"].map(lambda x: datetime.strptime(x, \"%Y/%m/%d\"))\n",
    "wuhan_dust[\"date\"] = wuhan_dust[\"date\"].map(lambda x: datetime.strptime(x, \"%Y/%m/%d\"))\n",
    "qingdao_dust[\"date\"] = qingdao_dust[\"date\"].map(lambda x: datetime.strptime(x, \"%Y/%m/%d\"))\n",
    "urumuchi_dust[\"date\"] = urumuchi_dust[\"date\"].map(lambda x: datetime.strptime(x, \"%Y/%m/%d\"))"
   ]
  },
  {
   "cell_type": "code",
   "execution_count": 5,
   "id": "ce4d6914",
   "metadata": {},
   "outputs": [],
   "source": [
    "# 15년도 이후의 데이터만 남기고 자르기\n",
    "beijing_dust = beijing_dust[beijing_dust[\"date\"] >= datetime.strptime(\"2015\", \"%Y\")]\n",
    "shanghai_dust = shanghai_dust[shanghai_dust[\"date\"] >= datetime.strptime(\"2015\", \"%Y\")]\n",
    "nanjing_dust = nanjing_dust[nanjing_dust[\"date\"] >= datetime.strptime(\"2015\", \"%Y\")]\n",
    "guangzhou_dust = guangzhou_dust[guangzhou_dust[\"date\"] >= datetime.strptime(\"2015\", \"%Y\")]\n",
    "wuhan_dust = wuhan_dust[wuhan_dust[\"date\"] >= datetime.strptime(\"2015\", \"%Y\")]\n",
    "qingdao_dust = qingdao_dust[qingdao_dust[\"date\"] >= datetime.strptime(\"2015\", \"%Y\")]\n",
    "urumuchi_dust = urumuchi_dust[urumuchi_dust[\"date\"] >= datetime.strptime(\"2015\", \"%Y\")]"
   ]
  },
  {
   "cell_type": "code",
   "execution_count": 6,
   "id": "7fe87127",
   "metadata": {},
   "outputs": [],
   "source": [
    "# 데이터 정렬 및 인덱스값 신규 생성\n",
    "beijing_dust = beijing_dust.sort_values(by = \"date\").reset_index(drop = True)\n",
    "shanghai_dust = shanghai_dust.sort_values(by = \"date\").reset_index(drop = True)\n",
    "nanjing_dust = nanjing_dust.sort_values(by = \"date\").reset_index(drop = True)\n",
    "guangzhou_dust = guangzhou_dust.sort_values(by = \"date\").reset_index(drop = True)\n",
    "wuhan_dust = wuhan_dust.sort_values(by = \"date\").reset_index(drop = True)\n",
    "qingdao_dust = qingdao_dust.sort_values(by = \"date\").reset_index(drop = True)\n",
    "urumuchi_dust = urumuchi_dust.sort_values(by = \"date\").reset_index(drop = True)"
   ]
  },
  {
   "cell_type": "code",
   "execution_count": 7,
   "id": "46885629",
   "metadata": {},
   "outputs": [],
   "source": [
    "# 각 지점이 어딘지 의미하는 피처 추가\n",
    "beijing_dust[\"지점\"] = \"beijing\"\n",
    "shanghai_dust[\"지점\"] = \"shanghai\"\n",
    "nanjing_dust[\"지점\"] = \"nanjing\"\n",
    "guangzhou_dust[\"지점\"] = \"guangzhou\"\n",
    "wuhan_dust[\"지점\"] = \"wuhan\"\n",
    "qingdao_dust[\"지점\"] = \"qingdao\"\n",
    "urumuchi_dust[\"지점\"] = \"urumuchi\""
   ]
  },
  {
   "cell_type": "code",
   "execution_count": 77,
   "id": "a1648b3e",
   "metadata": {},
   "outputs": [],
   "source": [
    "# 데이터 병합\n",
    "cn_dust = pd.concat([beijing_dust, shanghai_dust, nanjing_dust, guangzhou_dust, wuhan_dust, qingdao_dust, urumuchi_dust], axis = 0)"
   ]
  },
  {
   "cell_type": "code",
   "execution_count": 78,
   "id": "3cecc4ed",
   "metadata": {},
   "outputs": [],
   "source": [
    "# ' pm25', ' pm10'에서 띄어쓰기 제거\n",
    "cn_dust.columns = cn_dust.columns.str.strip(\" \")"
   ]
  },
  {
   "cell_type": "code",
   "execution_count": 79,
   "id": "575cb8c1",
   "metadata": {},
   "outputs": [],
   "source": [
    "# 피봇 적용\n",
    "cn_dust = cn_dust.pivot(index = \"date\", columns = \"지점\", values = [\"pm25\", \"pm10\"])"
   ]
  },
  {
   "cell_type": "code",
   "execution_count": 80,
   "id": "5da408aa",
   "metadata": {},
   "outputs": [],
   "source": [
    "# 24년 5월 20일 이후의 데이터 제거\n",
    "cn_dust = cn_dust.iloc[:-9, :]"
   ]
  },
  {
   "cell_type": "code",
   "execution_count": 81,
   "id": "951c37f7",
   "metadata": {},
   "outputs": [],
   "source": [
    "# 결측된 데이터 확인\n",
    "date_list = pd.date_range(start = \"2015-01-01\", end = \"2024-05-19\", freq = \"1D\")\n",
    "missing_date = [date for date in date_list if date not in cn_dust.index]"
   ]
  },
  {
   "cell_type": "code",
   "execution_count": 82,
   "id": "1b281086",
   "metadata": {},
   "outputs": [],
   "source": [
    "# 결측된 데이터 NaN값으로 채워서 생성\n",
    "for date in missing_date:\n",
    "    cn_dust.loc[date, :] = np.nan"
   ]
  },
  {
   "cell_type": "code",
   "execution_count": 83,
   "id": "69fd4ab2",
   "metadata": {},
   "outputs": [],
   "source": [
    "# date 기준으로 재정렬\n",
    "cn_dust = cn_dust.sort_values(by = \"date\")"
   ]
  },
  {
   "cell_type": "code",
   "execution_count": 84,
   "id": "c3fbd17e",
   "metadata": {},
   "outputs": [],
   "source": [
    "# 인덱스 컬럼 명 변경\n",
    "cn_dust = cn_dust.rename_axis(\"일시\")"
   ]
  },
  {
   "cell_type": "code",
   "execution_count": 85,
   "id": "b031fc0f",
   "metadata": {},
   "outputs": [],
   "source": [
    "# 데이터 타입 float로 변환\n",
    "cn_dust = convert_df_to_float(cn_dust)"
   ]
  },
  {
   "cell_type": "code",
   "execution_count": null,
   "id": "335aabd6",
   "metadata": {},
   "outputs": [],
   "source": []
  },
  {
   "cell_type": "code",
   "execution_count": 86,
   "id": "bbe5a286",
   "metadata": {},
   "outputs": [],
   "source": [
    "na_count = [cn_dust.loc[date, :].isna().sum() for date in cn_dust.index]\n",
    "na_4 = [count > 4 for count in na_count]"
   ]
  },
  {
   "cell_type": "code",
   "execution_count": 87,
   "id": "c0fc7201",
   "metadata": {},
   "outputs": [],
   "source": [
    "na_consec = calculate_consecutive_trues(na_4)"
   ]
  },
  {
   "cell_type": "code",
   "execution_count": 88,
   "id": "cb82f6d4",
   "metadata": {},
   "outputs": [
    {
     "data": {
      "text/plain": [
       "0    3393\n",
       "2      18\n",
       "4      12\n",
       "1       4\n",
       "Name: count, dtype: int64"
      ]
     },
     "execution_count": 88,
     "metadata": {},
     "output_type": "execute_result"
    }
   ],
   "source": [
    "pd.Series(na_consec).value_counts()"
   ]
  },
  {
   "cell_type": "code",
   "execution_count": 46,
   "id": "dfa5efeb",
   "metadata": {},
   "outputs": [
    {
     "data": {
      "text/html": [
       "<div>\n",
       "<style scoped>\n",
       "    .dataframe tbody tr th:only-of-type {\n",
       "        vertical-align: middle;\n",
       "    }\n",
       "\n",
       "    .dataframe tbody tr th {\n",
       "        vertical-align: top;\n",
       "    }\n",
       "\n",
       "    .dataframe thead tr th {\n",
       "        text-align: left;\n",
       "    }\n",
       "\n",
       "    .dataframe thead tr:last-of-type th {\n",
       "        text-align: right;\n",
       "    }\n",
       "</style>\n",
       "<table border=\"1\" class=\"dataframe\">\n",
       "  <thead>\n",
       "    <tr>\n",
       "      <th></th>\n",
       "      <th colspan=\"7\" halign=\"left\">pm25</th>\n",
       "      <th colspan=\"7\" halign=\"left\">pm10</th>\n",
       "    </tr>\n",
       "    <tr>\n",
       "      <th>지점</th>\n",
       "      <th>beijing</th>\n",
       "      <th>guangzhou</th>\n",
       "      <th>nanjing</th>\n",
       "      <th>qingdao</th>\n",
       "      <th>shanghai</th>\n",
       "      <th>urumuchi</th>\n",
       "      <th>wuhan</th>\n",
       "      <th>beijing</th>\n",
       "      <th>guangzhou</th>\n",
       "      <th>nanjing</th>\n",
       "      <th>qingdao</th>\n",
       "      <th>shanghai</th>\n",
       "      <th>urumuchi</th>\n",
       "      <th>wuhan</th>\n",
       "    </tr>\n",
       "    <tr>\n",
       "      <th>일시</th>\n",
       "      <th></th>\n",
       "      <th></th>\n",
       "      <th></th>\n",
       "      <th></th>\n",
       "      <th></th>\n",
       "      <th></th>\n",
       "      <th></th>\n",
       "      <th></th>\n",
       "      <th></th>\n",
       "      <th></th>\n",
       "      <th></th>\n",
       "      <th></th>\n",
       "      <th></th>\n",
       "      <th></th>\n",
       "    </tr>\n",
       "  </thead>\n",
       "  <tbody>\n",
       "    <tr>\n",
       "      <th>2015-01-01</th>\n",
       "      <td>124.0</td>\n",
       "      <td>140.0</td>\n",
       "      <td>133.0</td>\n",
       "      <td>NaN</td>\n",
       "      <td>126.0</td>\n",
       "      <td>173.0</td>\n",
       "      <td>156.0</td>\n",
       "      <td>67.0</td>\n",
       "      <td>81.0</td>\n",
       "      <td>105.0</td>\n",
       "      <td>NaN</td>\n",
       "      <td>73.0</td>\n",
       "      <td>109.0</td>\n",
       "      <td>127.0</td>\n",
       "    </tr>\n",
       "    <tr>\n",
       "      <th>2015-01-02</th>\n",
       "      <td>114.0</td>\n",
       "      <td>136.0</td>\n",
       "      <td>160.0</td>\n",
       "      <td>NaN</td>\n",
       "      <td>163.0</td>\n",
       "      <td>127.0</td>\n",
       "      <td>178.0</td>\n",
       "      <td>145.0</td>\n",
       "      <td>108.0</td>\n",
       "      <td>127.0</td>\n",
       "      <td>69.0</td>\n",
       "      <td>89.0</td>\n",
       "      <td>84.0</td>\n",
       "      <td>181.0</td>\n",
       "    </tr>\n",
       "    <tr>\n",
       "      <th>2015-01-03</th>\n",
       "      <td>210.0</td>\n",
       "      <td>183.0</td>\n",
       "      <td>182.0</td>\n",
       "      <td>155.0</td>\n",
       "      <td>173.0</td>\n",
       "      <td>151.0</td>\n",
       "      <td>222.0</td>\n",
       "      <td>141.0</td>\n",
       "      <td>71.0</td>\n",
       "      <td>139.0</td>\n",
       "      <td>143.0</td>\n",
       "      <td>100.0</td>\n",
       "      <td>93.0</td>\n",
       "      <td>160.0</td>\n",
       "    </tr>\n",
       "    <tr>\n",
       "      <th>2015-01-04</th>\n",
       "      <td>211.0</td>\n",
       "      <td>162.0</td>\n",
       "      <td>195.0</td>\n",
       "      <td>201.0</td>\n",
       "      <td>187.0</td>\n",
       "      <td>143.0</td>\n",
       "      <td>224.0</td>\n",
       "      <td>97.0</td>\n",
       "      <td>66.0</td>\n",
       "      <td>175.0</td>\n",
       "      <td>121.0</td>\n",
       "      <td>74.0</td>\n",
       "      <td>96.0</td>\n",
       "      <td>153.0</td>\n",
       "    </tr>\n",
       "    <tr>\n",
       "      <th>2015-01-05</th>\n",
       "      <td>128.0</td>\n",
       "      <td>161.0</td>\n",
       "      <td>234.0</td>\n",
       "      <td>195.0</td>\n",
       "      <td>158.0</td>\n",
       "      <td>173.0</td>\n",
       "      <td>247.0</td>\n",
       "      <td>45.0</td>\n",
       "      <td>86.0</td>\n",
       "      <td>124.0</td>\n",
       "      <td>43.0</td>\n",
       "      <td>78.0</td>\n",
       "      <td>92.0</td>\n",
       "      <td>140.0</td>\n",
       "    </tr>\n",
       "  </tbody>\n",
       "</table>\n",
       "</div>"
      ],
      "text/plain": [
       "              pm25                                                       pm10  \\\n",
       "지점         beijing guangzhou nanjing qingdao shanghai urumuchi  wuhan beijing   \n",
       "일시                                                                              \n",
       "2015-01-01   124.0     140.0   133.0     NaN    126.0    173.0  156.0    67.0   \n",
       "2015-01-02   114.0     136.0   160.0     NaN    163.0    127.0  178.0   145.0   \n",
       "2015-01-03   210.0     183.0   182.0   155.0    173.0    151.0  222.0   141.0   \n",
       "2015-01-04   211.0     162.0   195.0   201.0    187.0    143.0  224.0    97.0   \n",
       "2015-01-05   128.0     161.0   234.0   195.0    158.0    173.0  247.0    45.0   \n",
       "\n",
       "                                                               \n",
       "지점         guangzhou nanjing qingdao shanghai urumuchi  wuhan  \n",
       "일시                                                             \n",
       "2015-01-01      81.0   105.0     NaN     73.0    109.0  127.0  \n",
       "2015-01-02     108.0   127.0    69.0     89.0     84.0  181.0  \n",
       "2015-01-03      71.0   139.0   143.0    100.0     93.0  160.0  \n",
       "2015-01-04      66.0   175.0   121.0     74.0     96.0  153.0  \n",
       "2015-01-05      86.0   124.0    43.0     78.0     92.0  140.0  "
      ]
     },
     "execution_count": 46,
     "metadata": {},
     "output_type": "execute_result"
    }
   ],
   "source": [
    "cn_dust.head()"
   ]
  },
  {
   "cell_type": "code",
   "execution_count": null,
   "id": "6d11995f",
   "metadata": {},
   "outputs": [],
   "source": []
  },
  {
   "cell_type": "markdown",
   "id": "62a203ad",
   "metadata": {},
   "source": [
    "### KNNImputer로 결측치 제거\n",
    "\n",
    "- 각 데이터의 결측치가 3개 이하인 경우에만 적용"
   ]
  },
  {
   "cell_type": "code",
   "execution_count": 48,
   "id": "bfe6e794",
   "metadata": {},
   "outputs": [],
   "source": [
    "knnimputer = KNNImputer(n_neighbors = 1)"
   ]
  },
  {
   "cell_type": "code",
   "execution_count": 49,
   "id": "48bddaab",
   "metadata": {},
   "outputs": [],
   "source": [
    "# 스케일링 적용\n",
    "ss = StandardScaler()\n",
    "sdf = ss.fit_transform(cn_dust)"
   ]
  },
  {
   "cell_type": "code",
   "execution_count": 52,
   "id": "a2eaa9b1",
   "metadata": {},
   "outputs": [],
   "source": [
    "# knn으로 결측치 처리 이후 스케일링 복원\n",
    "knn_df = knnimputer.fit_transform(sdf)\n",
    "inv_df = ss.inverse_transform(knn_df)\n",
    "inv_df = pd.DataFrame(inv_df)"
   ]
  },
  {
   "cell_type": "code",
   "execution_count": 90,
   "id": "bee9dd55",
   "metadata": {},
   "outputs": [],
   "source": [
    "# inv_df의 컬럼과 인덱스가 cn_dust와 동일하도록 변경\n",
    "inv_df.columns = cn_dust.columns\n",
    "inv_df.index = cn_dust.index"
   ]
  },
  {
   "cell_type": "code",
   "execution_count": 92,
   "id": "3f6d23dd",
   "metadata": {},
   "outputs": [],
   "source": [
    "# na_4 값이 False인 경우만 cn_dust의 값 대체\n",
    "cn_dust.loc[[not i for i in na_4]] = inv_df.loc[[not i for i in na_4]]"
   ]
  },
  {
   "cell_type": "code",
   "execution_count": null,
   "id": "0b8ec30c",
   "metadata": {},
   "outputs": [],
   "source": []
  },
  {
   "cell_type": "markdown",
   "id": "6138505d",
   "metadata": {},
   "source": [
    "### 다른 모든 결측치에 대해서 interpolate(linear) 적용"
   ]
  },
  {
   "cell_type": "code",
   "execution_count": 94,
   "id": "73a277a8",
   "metadata": {},
   "outputs": [],
   "source": [
    "cn_dust = cn_dust.interpolate(\"linear\")"
   ]
  },
  {
   "cell_type": "code",
   "execution_count": 96,
   "id": "0f893661",
   "metadata": {},
   "outputs": [
    {
     "name": "stdout",
     "output_type": "stream",
     "text": [
      "<class 'pandas.core.frame.DataFrame'>\n",
      "DatetimeIndex: 3427 entries, 2015-01-01 to 2024-05-19\n",
      "Data columns (total 14 columns):\n",
      " #   Column             Non-Null Count  Dtype  \n",
      "---  ------             --------------  -----  \n",
      " 0   (pm25, beijing)    3427 non-null   float64\n",
      " 1   (pm25, guangzhou)  3427 non-null   float64\n",
      " 2   (pm25, nanjing)    3427 non-null   float64\n",
      " 3   (pm25, qingdao)    3427 non-null   float64\n",
      " 4   (pm25, shanghai)   3427 non-null   float64\n",
      " 5   (pm25, urumuchi)   3427 non-null   float64\n",
      " 6   (pm25, wuhan)      3427 non-null   float64\n",
      " 7   (pm10, beijing)    3427 non-null   float64\n",
      " 8   (pm10, guangzhou)  3427 non-null   float64\n",
      " 9   (pm10, nanjing)    3427 non-null   float64\n",
      " 10  (pm10, qingdao)    3427 non-null   float64\n",
      " 11  (pm10, shanghai)   3427 non-null   float64\n",
      " 12  (pm10, urumuchi)   3427 non-null   float64\n",
      " 13  (pm10, wuhan)      3427 non-null   float64\n",
      "dtypes: float64(14)\n",
      "memory usage: 530.6 KB\n"
     ]
    }
   ],
   "source": [
    "cn_dust.info()"
   ]
  },
  {
   "cell_type": "code",
   "execution_count": 97,
   "id": "8f6cf6f8",
   "metadata": {},
   "outputs": [
    {
     "data": {
      "text/html": [
       "<div>\n",
       "<style scoped>\n",
       "    .dataframe tbody tr th:only-of-type {\n",
       "        vertical-align: middle;\n",
       "    }\n",
       "\n",
       "    .dataframe tbody tr th {\n",
       "        vertical-align: top;\n",
       "    }\n",
       "\n",
       "    .dataframe thead tr th {\n",
       "        text-align: left;\n",
       "    }\n",
       "\n",
       "    .dataframe thead tr:last-of-type th {\n",
       "        text-align: right;\n",
       "    }\n",
       "</style>\n",
       "<table border=\"1\" class=\"dataframe\">\n",
       "  <thead>\n",
       "    <tr>\n",
       "      <th></th>\n",
       "      <th colspan=\"7\" halign=\"left\">pm25</th>\n",
       "      <th colspan=\"7\" halign=\"left\">pm10</th>\n",
       "    </tr>\n",
       "    <tr>\n",
       "      <th>지점</th>\n",
       "      <th>beijing</th>\n",
       "      <th>guangzhou</th>\n",
       "      <th>nanjing</th>\n",
       "      <th>qingdao</th>\n",
       "      <th>shanghai</th>\n",
       "      <th>urumuchi</th>\n",
       "      <th>wuhan</th>\n",
       "      <th>beijing</th>\n",
       "      <th>guangzhou</th>\n",
       "      <th>nanjing</th>\n",
       "      <th>qingdao</th>\n",
       "      <th>shanghai</th>\n",
       "      <th>urumuchi</th>\n",
       "      <th>wuhan</th>\n",
       "    </tr>\n",
       "    <tr>\n",
       "      <th>일시</th>\n",
       "      <th></th>\n",
       "      <th></th>\n",
       "      <th></th>\n",
       "      <th></th>\n",
       "      <th></th>\n",
       "      <th></th>\n",
       "      <th></th>\n",
       "      <th></th>\n",
       "      <th></th>\n",
       "      <th></th>\n",
       "      <th></th>\n",
       "      <th></th>\n",
       "      <th></th>\n",
       "      <th></th>\n",
       "    </tr>\n",
       "  </thead>\n",
       "  <tbody>\n",
       "    <tr>\n",
       "      <th>2015-01-01</th>\n",
       "      <td>124.0</td>\n",
       "      <td>140.0</td>\n",
       "      <td>133.0</td>\n",
       "      <td>183.0</td>\n",
       "      <td>126.0</td>\n",
       "      <td>173.0</td>\n",
       "      <td>156.0</td>\n",
       "      <td>67.0</td>\n",
       "      <td>81.0</td>\n",
       "      <td>105.0</td>\n",
       "      <td>75.0</td>\n",
       "      <td>73.0</td>\n",
       "      <td>109.0</td>\n",
       "      <td>127.0</td>\n",
       "    </tr>\n",
       "    <tr>\n",
       "      <th>2015-01-02</th>\n",
       "      <td>114.0</td>\n",
       "      <td>136.0</td>\n",
       "      <td>160.0</td>\n",
       "      <td>148.0</td>\n",
       "      <td>163.0</td>\n",
       "      <td>127.0</td>\n",
       "      <td>178.0</td>\n",
       "      <td>145.0</td>\n",
       "      <td>108.0</td>\n",
       "      <td>127.0</td>\n",
       "      <td>69.0</td>\n",
       "      <td>89.0</td>\n",
       "      <td>84.0</td>\n",
       "      <td>181.0</td>\n",
       "    </tr>\n",
       "    <tr>\n",
       "      <th>2015-01-03</th>\n",
       "      <td>210.0</td>\n",
       "      <td>183.0</td>\n",
       "      <td>182.0</td>\n",
       "      <td>155.0</td>\n",
       "      <td>173.0</td>\n",
       "      <td>151.0</td>\n",
       "      <td>222.0</td>\n",
       "      <td>141.0</td>\n",
       "      <td>71.0</td>\n",
       "      <td>139.0</td>\n",
       "      <td>143.0</td>\n",
       "      <td>100.0</td>\n",
       "      <td>93.0</td>\n",
       "      <td>160.0</td>\n",
       "    </tr>\n",
       "    <tr>\n",
       "      <th>2015-01-04</th>\n",
       "      <td>211.0</td>\n",
       "      <td>162.0</td>\n",
       "      <td>195.0</td>\n",
       "      <td>201.0</td>\n",
       "      <td>187.0</td>\n",
       "      <td>143.0</td>\n",
       "      <td>224.0</td>\n",
       "      <td>97.0</td>\n",
       "      <td>66.0</td>\n",
       "      <td>175.0</td>\n",
       "      <td>121.0</td>\n",
       "      <td>74.0</td>\n",
       "      <td>96.0</td>\n",
       "      <td>153.0</td>\n",
       "    </tr>\n",
       "    <tr>\n",
       "      <th>2015-01-05</th>\n",
       "      <td>128.0</td>\n",
       "      <td>161.0</td>\n",
       "      <td>234.0</td>\n",
       "      <td>195.0</td>\n",
       "      <td>158.0</td>\n",
       "      <td>173.0</td>\n",
       "      <td>247.0</td>\n",
       "      <td>45.0</td>\n",
       "      <td>86.0</td>\n",
       "      <td>124.0</td>\n",
       "      <td>43.0</td>\n",
       "      <td>78.0</td>\n",
       "      <td>92.0</td>\n",
       "      <td>140.0</td>\n",
       "    </tr>\n",
       "  </tbody>\n",
       "</table>\n",
       "</div>"
      ],
      "text/plain": [
       "              pm25                                                       pm10  \\\n",
       "지점         beijing guangzhou nanjing qingdao shanghai urumuchi  wuhan beijing   \n",
       "일시                                                                              \n",
       "2015-01-01   124.0     140.0   133.0   183.0    126.0    173.0  156.0    67.0   \n",
       "2015-01-02   114.0     136.0   160.0   148.0    163.0    127.0  178.0   145.0   \n",
       "2015-01-03   210.0     183.0   182.0   155.0    173.0    151.0  222.0   141.0   \n",
       "2015-01-04   211.0     162.0   195.0   201.0    187.0    143.0  224.0    97.0   \n",
       "2015-01-05   128.0     161.0   234.0   195.0    158.0    173.0  247.0    45.0   \n",
       "\n",
       "                                                               \n",
       "지점         guangzhou nanjing qingdao shanghai urumuchi  wuhan  \n",
       "일시                                                             \n",
       "2015-01-01      81.0   105.0    75.0     73.0    109.0  127.0  \n",
       "2015-01-02     108.0   127.0    69.0     89.0     84.0  181.0  \n",
       "2015-01-03      71.0   139.0   143.0    100.0     93.0  160.0  \n",
       "2015-01-04      66.0   175.0   121.0     74.0     96.0  153.0  \n",
       "2015-01-05      86.0   124.0    43.0     78.0     92.0  140.0  "
      ]
     },
     "execution_count": 97,
     "metadata": {},
     "output_type": "execute_result"
    }
   ],
   "source": [
    "# 저장 및 다시 읽어들이기\n",
    "cn_dust.to_csv(\"./china_dust.csv\")\n",
    "cn_dust = pd.read_csv(\"./china_dust.csv\", header = [0, 1], index_col = 0)\n",
    "cn_dust.index = cn_dust.index.map(lambda x: datetime.strptime(x, \"%Y-%m-%d\"))\n",
    "cn_dust.head()"
   ]
  },
  {
   "cell_type": "code",
   "execution_count": null,
   "id": "cb59180b",
   "metadata": {},
   "outputs": [],
   "source": []
  }
 ],
 "metadata": {
  "kernelspec": {
   "display_name": "Python 3 (ipykernel)",
   "language": "python",
   "name": "python3"
  },
  "language_info": {
   "codemirror_mode": {
    "name": "ipython",
    "version": 3
   },
   "file_extension": ".py",
   "mimetype": "text/x-python",
   "name": "python",
   "nbconvert_exporter": "python",
   "pygments_lexer": "ipython3",
   "version": "3.11.7"
  }
 },
 "nbformat": 4,
 "nbformat_minor": 5
}
